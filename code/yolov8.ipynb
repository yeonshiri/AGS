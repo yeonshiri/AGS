{
  "cells": [
    {
      "cell_type": "markdown",
      "metadata": {
        "id": "view-in-github",
        "colab_type": "text"
      },
      "source": [
        "<a href=\"https://colab.research.google.com/github/yeonshiri/AGS/blob/main/code/yolov8.ipynb\" target=\"_parent\"><img src=\"https://colab.research.google.com/assets/colab-badge.svg\" alt=\"Open In Colab\"/></a>"
      ]
    },
    {
      "cell_type": "code",
      "source": [
        "#-----------------------------------------------------------------------\n",
        "# yolov8 사용하는 코드\n",
        "\n",
        "# 1. YOLOv8 설치\n",
        "!pip install ultralytics"
      ],
      "metadata": {
        "colab": {
          "base_uri": "https://localhost:8080/"
        },
        "id": "cDA9jAYrIOUV",
        "outputId": "f451e82c-688e-4a8c-8107-f6e371f89988"
      },
      "execution_count": null,
      "outputs": [
        {
          "output_type": "stream",
          "name": "stdout",
          "text": [
            "Collecting ultralytics\n",
            "  Downloading ultralytics-8.3.127-py3-none-any.whl.metadata (37 kB)\n",
            "Requirement already satisfied: numpy>=1.23.0 in /usr/local/lib/python3.11/dist-packages (from ultralytics) (2.0.2)\n",
            "Requirement already satisfied: matplotlib>=3.3.0 in /usr/local/lib/python3.11/dist-packages (from ultralytics) (3.10.0)\n",
            "Requirement already satisfied: opencv-python>=4.6.0 in /usr/local/lib/python3.11/dist-packages (from ultralytics) (4.11.0.86)\n",
            "Requirement already satisfied: pillow>=7.1.2 in /usr/local/lib/python3.11/dist-packages (from ultralytics) (11.2.1)\n",
            "Requirement already satisfied: pyyaml>=5.3.1 in /usr/local/lib/python3.11/dist-packages (from ultralytics) (6.0.2)\n",
            "Requirement already satisfied: requests>=2.23.0 in /usr/local/lib/python3.11/dist-packages (from ultralytics) (2.32.3)\n",
            "Requirement already satisfied: scipy>=1.4.1 in /usr/local/lib/python3.11/dist-packages (from ultralytics) (1.15.2)\n",
            "Requirement already satisfied: torch>=1.8.0 in /usr/local/lib/python3.11/dist-packages (from ultralytics) (2.6.0+cu124)\n",
            "Requirement already satisfied: torchvision>=0.9.0 in /usr/local/lib/python3.11/dist-packages (from ultralytics) (0.21.0+cu124)\n",
            "Requirement already satisfied: tqdm>=4.64.0 in /usr/local/lib/python3.11/dist-packages (from ultralytics) (4.67.1)\n",
            "Requirement already satisfied: psutil in /usr/local/lib/python3.11/dist-packages (from ultralytics) (5.9.5)\n",
            "Requirement already satisfied: py-cpuinfo in /usr/local/lib/python3.11/dist-packages (from ultralytics) (9.0.0)\n",
            "Requirement already satisfied: pandas>=1.1.4 in /usr/local/lib/python3.11/dist-packages (from ultralytics) (2.2.2)\n",
            "Requirement already satisfied: seaborn>=0.11.0 in /usr/local/lib/python3.11/dist-packages (from ultralytics) (0.13.2)\n",
            "Collecting ultralytics-thop>=2.0.0 (from ultralytics)\n",
            "  Downloading ultralytics_thop-2.0.14-py3-none-any.whl.metadata (9.4 kB)\n",
            "Requirement already satisfied: contourpy>=1.0.1 in /usr/local/lib/python3.11/dist-packages (from matplotlib>=3.3.0->ultralytics) (1.3.2)\n",
            "Requirement already satisfied: cycler>=0.10 in /usr/local/lib/python3.11/dist-packages (from matplotlib>=3.3.0->ultralytics) (0.12.1)\n",
            "Requirement already satisfied: fonttools>=4.22.0 in /usr/local/lib/python3.11/dist-packages (from matplotlib>=3.3.0->ultralytics) (4.57.0)\n",
            "Requirement already satisfied: kiwisolver>=1.3.1 in /usr/local/lib/python3.11/dist-packages (from matplotlib>=3.3.0->ultralytics) (1.4.8)\n",
            "Requirement already satisfied: packaging>=20.0 in /usr/local/lib/python3.11/dist-packages (from matplotlib>=3.3.0->ultralytics) (24.2)\n",
            "Requirement already satisfied: pyparsing>=2.3.1 in /usr/local/lib/python3.11/dist-packages (from matplotlib>=3.3.0->ultralytics) (3.2.3)\n",
            "Requirement already satisfied: python-dateutil>=2.7 in /usr/local/lib/python3.11/dist-packages (from matplotlib>=3.3.0->ultralytics) (2.9.0.post0)\n",
            "Requirement already satisfied: pytz>=2020.1 in /usr/local/lib/python3.11/dist-packages (from pandas>=1.1.4->ultralytics) (2025.2)\n",
            "Requirement already satisfied: tzdata>=2022.7 in /usr/local/lib/python3.11/dist-packages (from pandas>=1.1.4->ultralytics) (2025.2)\n",
            "Requirement already satisfied: charset-normalizer<4,>=2 in /usr/local/lib/python3.11/dist-packages (from requests>=2.23.0->ultralytics) (3.4.1)\n",
            "Requirement already satisfied: idna<4,>=2.5 in /usr/local/lib/python3.11/dist-packages (from requests>=2.23.0->ultralytics) (3.10)\n",
            "Requirement already satisfied: urllib3<3,>=1.21.1 in /usr/local/lib/python3.11/dist-packages (from requests>=2.23.0->ultralytics) (2.4.0)\n",
            "Requirement already satisfied: certifi>=2017.4.17 in /usr/local/lib/python3.11/dist-packages (from requests>=2.23.0->ultralytics) (2025.4.26)\n",
            "Requirement already satisfied: filelock in /usr/local/lib/python3.11/dist-packages (from torch>=1.8.0->ultralytics) (3.18.0)\n",
            "Requirement already satisfied: typing-extensions>=4.10.0 in /usr/local/lib/python3.11/dist-packages (from torch>=1.8.0->ultralytics) (4.13.2)\n",
            "Requirement already satisfied: networkx in /usr/local/lib/python3.11/dist-packages (from torch>=1.8.0->ultralytics) (3.4.2)\n",
            "Requirement already satisfied: jinja2 in /usr/local/lib/python3.11/dist-packages (from torch>=1.8.0->ultralytics) (3.1.6)\n",
            "Requirement already satisfied: fsspec in /usr/local/lib/python3.11/dist-packages (from torch>=1.8.0->ultralytics) (2025.3.2)\n",
            "Collecting nvidia-cuda-nvrtc-cu12==12.4.127 (from torch>=1.8.0->ultralytics)\n",
            "  Downloading nvidia_cuda_nvrtc_cu12-12.4.127-py3-none-manylinux2014_x86_64.whl.metadata (1.5 kB)\n",
            "Collecting nvidia-cuda-runtime-cu12==12.4.127 (from torch>=1.8.0->ultralytics)\n",
            "  Downloading nvidia_cuda_runtime_cu12-12.4.127-py3-none-manylinux2014_x86_64.whl.metadata (1.5 kB)\n",
            "Collecting nvidia-cuda-cupti-cu12==12.4.127 (from torch>=1.8.0->ultralytics)\n",
            "  Downloading nvidia_cuda_cupti_cu12-12.4.127-py3-none-manylinux2014_x86_64.whl.metadata (1.6 kB)\n",
            "Collecting nvidia-cudnn-cu12==9.1.0.70 (from torch>=1.8.0->ultralytics)\n",
            "  Downloading nvidia_cudnn_cu12-9.1.0.70-py3-none-manylinux2014_x86_64.whl.metadata (1.6 kB)\n",
            "Collecting nvidia-cublas-cu12==12.4.5.8 (from torch>=1.8.0->ultralytics)\n",
            "  Downloading nvidia_cublas_cu12-12.4.5.8-py3-none-manylinux2014_x86_64.whl.metadata (1.5 kB)\n",
            "Collecting nvidia-cufft-cu12==11.2.1.3 (from torch>=1.8.0->ultralytics)\n",
            "  Downloading nvidia_cufft_cu12-11.2.1.3-py3-none-manylinux2014_x86_64.whl.metadata (1.5 kB)\n",
            "Collecting nvidia-curand-cu12==10.3.5.147 (from torch>=1.8.0->ultralytics)\n",
            "  Downloading nvidia_curand_cu12-10.3.5.147-py3-none-manylinux2014_x86_64.whl.metadata (1.5 kB)\n",
            "Collecting nvidia-cusolver-cu12==11.6.1.9 (from torch>=1.8.0->ultralytics)\n",
            "  Downloading nvidia_cusolver_cu12-11.6.1.9-py3-none-manylinux2014_x86_64.whl.metadata (1.6 kB)\n",
            "Collecting nvidia-cusparse-cu12==12.3.1.170 (from torch>=1.8.0->ultralytics)\n",
            "  Downloading nvidia_cusparse_cu12-12.3.1.170-py3-none-manylinux2014_x86_64.whl.metadata (1.6 kB)\n",
            "Requirement already satisfied: nvidia-cusparselt-cu12==0.6.2 in /usr/local/lib/python3.11/dist-packages (from torch>=1.8.0->ultralytics) (0.6.2)\n",
            "Requirement already satisfied: nvidia-nccl-cu12==2.21.5 in /usr/local/lib/python3.11/dist-packages (from torch>=1.8.0->ultralytics) (2.21.5)\n",
            "Requirement already satisfied: nvidia-nvtx-cu12==12.4.127 in /usr/local/lib/python3.11/dist-packages (from torch>=1.8.0->ultralytics) (12.4.127)\n",
            "Collecting nvidia-nvjitlink-cu12==12.4.127 (from torch>=1.8.0->ultralytics)\n",
            "  Downloading nvidia_nvjitlink_cu12-12.4.127-py3-none-manylinux2014_x86_64.whl.metadata (1.5 kB)\n",
            "Requirement already satisfied: triton==3.2.0 in /usr/local/lib/python3.11/dist-packages (from torch>=1.8.0->ultralytics) (3.2.0)\n",
            "Requirement already satisfied: sympy==1.13.1 in /usr/local/lib/python3.11/dist-packages (from torch>=1.8.0->ultralytics) (1.13.1)\n",
            "Requirement already satisfied: mpmath<1.4,>=1.1.0 in /usr/local/lib/python3.11/dist-packages (from sympy==1.13.1->torch>=1.8.0->ultralytics) (1.3.0)\n",
            "Requirement already satisfied: six>=1.5 in /usr/local/lib/python3.11/dist-packages (from python-dateutil>=2.7->matplotlib>=3.3.0->ultralytics) (1.17.0)\n",
            "Requirement already satisfied: MarkupSafe>=2.0 in /usr/local/lib/python3.11/dist-packages (from jinja2->torch>=1.8.0->ultralytics) (3.0.2)\n",
            "Downloading ultralytics-8.3.127-py3-none-any.whl (1.0 MB)\n",
            "\u001b[2K   \u001b[90m━━━━━━━━━━━━━━━━━━━━━━━━━━━━━━━━━━━━━━━━\u001b[0m \u001b[32m1.0/1.0 MB\u001b[0m \u001b[31m27.1 MB/s\u001b[0m eta \u001b[36m0:00:00\u001b[0m\n",
            "\u001b[?25hDownloading nvidia_cublas_cu12-12.4.5.8-py3-none-manylinux2014_x86_64.whl (363.4 MB)\n",
            "\u001b[2K   \u001b[90m━━━━━━━━━━━━━━━━━━━━━━━━━━━━━━━━━━━━━━━━\u001b[0m \u001b[32m363.4/363.4 MB\u001b[0m \u001b[31m3.9 MB/s\u001b[0m eta \u001b[36m0:00:00\u001b[0m\n",
            "\u001b[?25hDownloading nvidia_cuda_cupti_cu12-12.4.127-py3-none-manylinux2014_x86_64.whl (13.8 MB)\n",
            "\u001b[2K   \u001b[90m━━━━━━━━━━━━━━━━━━━━━━━━━━━━━━━━━━━━━━━━\u001b[0m \u001b[32m13.8/13.8 MB\u001b[0m \u001b[31m36.3 MB/s\u001b[0m eta \u001b[36m0:00:00\u001b[0m\n",
            "\u001b[?25hDownloading nvidia_cuda_nvrtc_cu12-12.4.127-py3-none-manylinux2014_x86_64.whl (24.6 MB)\n",
            "\u001b[2K   \u001b[90m━━━━━━━━━━━━━━━━━━━━━━━━━━━━━━━━━━━━━━━━\u001b[0m \u001b[32m24.6/24.6 MB\u001b[0m \u001b[31m29.5 MB/s\u001b[0m eta \u001b[36m0:00:00\u001b[0m\n",
            "\u001b[?25hDownloading nvidia_cuda_runtime_cu12-12.4.127-py3-none-manylinux2014_x86_64.whl (883 kB)\n",
            "\u001b[2K   \u001b[90m━━━━━━━━━━━━━━━━━━━━━━━━━━━━━━━━━━━━━━━━\u001b[0m \u001b[32m883.7/883.7 kB\u001b[0m \u001b[31m28.3 MB/s\u001b[0m eta \u001b[36m0:00:00\u001b[0m\n",
            "\u001b[?25hDownloading nvidia_cudnn_cu12-9.1.0.70-py3-none-manylinux2014_x86_64.whl (664.8 MB)\n",
            "\u001b[2K   \u001b[90m━━━━━━━━━━━━━━━━━━━━━━━━━━━━━━━━━━━━━━━━\u001b[0m \u001b[32m664.8/664.8 MB\u001b[0m \u001b[31m2.7 MB/s\u001b[0m eta \u001b[36m0:00:00\u001b[0m\n",
            "\u001b[?25hDownloading nvidia_cufft_cu12-11.2.1.3-py3-none-manylinux2014_x86_64.whl (211.5 MB)\n",
            "\u001b[2K   \u001b[90m━━━━━━━━━━━━━━━━━━━━━━━━━━━━━━━━━━━━━━━━\u001b[0m \u001b[32m211.5/211.5 MB\u001b[0m \u001b[31m7.0 MB/s\u001b[0m eta \u001b[36m0:00:00\u001b[0m\n",
            "\u001b[?25hDownloading nvidia_curand_cu12-10.3.5.147-py3-none-manylinux2014_x86_64.whl (56.3 MB)\n",
            "\u001b[2K   \u001b[90m━━━━━━━━━━━━━━━━━━━━━━━━━━━━━━━━━━━━━━━━\u001b[0m \u001b[32m56.3/56.3 MB\u001b[0m \u001b[31m11.3 MB/s\u001b[0m eta \u001b[36m0:00:00\u001b[0m\n",
            "\u001b[?25hDownloading nvidia_cusolver_cu12-11.6.1.9-py3-none-manylinux2014_x86_64.whl (127.9 MB)\n",
            "\u001b[2K   \u001b[90m━━━━━━━━━━━━━━━━━━━━━━━━━━━━━━━━━━━━━━━━\u001b[0m \u001b[32m127.9/127.9 MB\u001b[0m \u001b[31m7.7 MB/s\u001b[0m eta \u001b[36m0:00:00\u001b[0m\n",
            "\u001b[?25hDownloading nvidia_cusparse_cu12-12.3.1.170-py3-none-manylinux2014_x86_64.whl (207.5 MB)\n",
            "\u001b[2K   \u001b[90m━━━━━━━━━━━━━━━━━━━━━━━━━━━━━━━━━━━━━━━━\u001b[0m \u001b[32m207.5/207.5 MB\u001b[0m \u001b[31m6.1 MB/s\u001b[0m eta \u001b[36m0:00:00\u001b[0m\n",
            "\u001b[?25hDownloading nvidia_nvjitlink_cu12-12.4.127-py3-none-manylinux2014_x86_64.whl (21.1 MB)\n",
            "\u001b[2K   \u001b[90m━━━━━━━━━━━━━━━━━━━━━━━━━━━━━━━━━━━━━━━━\u001b[0m \u001b[32m21.1/21.1 MB\u001b[0m \u001b[31m61.5 MB/s\u001b[0m eta \u001b[36m0:00:00\u001b[0m\n",
            "\u001b[?25hDownloading ultralytics_thop-2.0.14-py3-none-any.whl (26 kB)\n",
            "Installing collected packages: nvidia-nvjitlink-cu12, nvidia-curand-cu12, nvidia-cufft-cu12, nvidia-cuda-runtime-cu12, nvidia-cuda-nvrtc-cu12, nvidia-cuda-cupti-cu12, nvidia-cublas-cu12, nvidia-cusparse-cu12, nvidia-cudnn-cu12, nvidia-cusolver-cu12, ultralytics-thop, ultralytics\n",
            "  Attempting uninstall: nvidia-nvjitlink-cu12\n",
            "    Found existing installation: nvidia-nvjitlink-cu12 12.5.82\n",
            "    Uninstalling nvidia-nvjitlink-cu12-12.5.82:\n",
            "      Successfully uninstalled nvidia-nvjitlink-cu12-12.5.82\n",
            "  Attempting uninstall: nvidia-curand-cu12\n",
            "    Found existing installation: nvidia-curand-cu12 10.3.6.82\n",
            "    Uninstalling nvidia-curand-cu12-10.3.6.82:\n",
            "      Successfully uninstalled nvidia-curand-cu12-10.3.6.82\n",
            "  Attempting uninstall: nvidia-cufft-cu12\n",
            "    Found existing installation: nvidia-cufft-cu12 11.2.3.61\n",
            "    Uninstalling nvidia-cufft-cu12-11.2.3.61:\n",
            "      Successfully uninstalled nvidia-cufft-cu12-11.2.3.61\n",
            "  Attempting uninstall: nvidia-cuda-runtime-cu12\n",
            "    Found existing installation: nvidia-cuda-runtime-cu12 12.5.82\n",
            "    Uninstalling nvidia-cuda-runtime-cu12-12.5.82:\n",
            "      Successfully uninstalled nvidia-cuda-runtime-cu12-12.5.82\n",
            "  Attempting uninstall: nvidia-cuda-nvrtc-cu12\n",
            "    Found existing installation: nvidia-cuda-nvrtc-cu12 12.5.82\n",
            "    Uninstalling nvidia-cuda-nvrtc-cu12-12.5.82:\n",
            "      Successfully uninstalled nvidia-cuda-nvrtc-cu12-12.5.82\n",
            "  Attempting uninstall: nvidia-cuda-cupti-cu12\n",
            "    Found existing installation: nvidia-cuda-cupti-cu12 12.5.82\n",
            "    Uninstalling nvidia-cuda-cupti-cu12-12.5.82:\n",
            "      Successfully uninstalled nvidia-cuda-cupti-cu12-12.5.82\n",
            "  Attempting uninstall: nvidia-cublas-cu12\n",
            "    Found existing installation: nvidia-cublas-cu12 12.5.3.2\n",
            "    Uninstalling nvidia-cublas-cu12-12.5.3.2:\n",
            "      Successfully uninstalled nvidia-cublas-cu12-12.5.3.2\n",
            "  Attempting uninstall: nvidia-cusparse-cu12\n",
            "    Found existing installation: nvidia-cusparse-cu12 12.5.1.3\n",
            "    Uninstalling nvidia-cusparse-cu12-12.5.1.3:\n",
            "      Successfully uninstalled nvidia-cusparse-cu12-12.5.1.3\n",
            "  Attempting uninstall: nvidia-cudnn-cu12\n",
            "    Found existing installation: nvidia-cudnn-cu12 9.3.0.75\n",
            "    Uninstalling nvidia-cudnn-cu12-9.3.0.75:\n",
            "      Successfully uninstalled nvidia-cudnn-cu12-9.3.0.75\n",
            "  Attempting uninstall: nvidia-cusolver-cu12\n",
            "    Found existing installation: nvidia-cusolver-cu12 11.6.3.83\n",
            "    Uninstalling nvidia-cusolver-cu12-11.6.3.83:\n",
            "      Successfully uninstalled nvidia-cusolver-cu12-11.6.3.83\n",
            "Successfully installed nvidia-cublas-cu12-12.4.5.8 nvidia-cuda-cupti-cu12-12.4.127 nvidia-cuda-nvrtc-cu12-12.4.127 nvidia-cuda-runtime-cu12-12.4.127 nvidia-cudnn-cu12-9.1.0.70 nvidia-cufft-cu12-11.2.1.3 nvidia-curand-cu12-10.3.5.147 nvidia-cusolver-cu12-11.6.1.9 nvidia-cusparse-cu12-12.3.1.170 nvidia-nvjitlink-cu12-12.4.127 ultralytics-8.3.127 ultralytics-thop-2.0.14\n"
          ]
        }
      ]
    },
    {
      "cell_type": "code",
      "source": [
        "# 2. 파일 업로드 및 데이터 준비\n",
        "from google.colab import files\n",
        "uploaded = files.upload()  # dataset.zip\n",
        "!unzip dataset.zip"
      ],
      "metadata": {
        "colab": {
          "base_uri": "https://localhost:8080/",
          "height": 1000
        },
        "id": "Y2N81CiWIXc5",
        "outputId": "47bd0e13-b89c-405f-bdbf-cdc50793d4d6"
      },
      "execution_count": null,
      "outputs": [
        {
          "output_type": "display_data",
          "data": {
            "text/plain": [
              "<IPython.core.display.HTML object>"
            ],
            "text/html": [
              "\n",
              "     <input type=\"file\" id=\"files-7df535e1-7866-42bd-9b92-1e9fe5ca6fac\" name=\"files[]\" multiple disabled\n",
              "        style=\"border:none\" />\n",
              "     <output id=\"result-7df535e1-7866-42bd-9b92-1e9fe5ca6fac\">\n",
              "      Upload widget is only available when the cell has been executed in the\n",
              "      current browser session. Please rerun this cell to enable.\n",
              "      </output>\n",
              "      <script>// Copyright 2017 Google LLC\n",
              "//\n",
              "// Licensed under the Apache License, Version 2.0 (the \"License\");\n",
              "// you may not use this file except in compliance with the License.\n",
              "// You may obtain a copy of the License at\n",
              "//\n",
              "//      http://www.apache.org/licenses/LICENSE-2.0\n",
              "//\n",
              "// Unless required by applicable law or agreed to in writing, software\n",
              "// distributed under the License is distributed on an \"AS IS\" BASIS,\n",
              "// WITHOUT WARRANTIES OR CONDITIONS OF ANY KIND, either express or implied.\n",
              "// See the License for the specific language governing permissions and\n",
              "// limitations under the License.\n",
              "\n",
              "/**\n",
              " * @fileoverview Helpers for google.colab Python module.\n",
              " */\n",
              "(function(scope) {\n",
              "function span(text, styleAttributes = {}) {\n",
              "  const element = document.createElement('span');\n",
              "  element.textContent = text;\n",
              "  for (const key of Object.keys(styleAttributes)) {\n",
              "    element.style[key] = styleAttributes[key];\n",
              "  }\n",
              "  return element;\n",
              "}\n",
              "\n",
              "// Max number of bytes which will be uploaded at a time.\n",
              "const MAX_PAYLOAD_SIZE = 100 * 1024;\n",
              "\n",
              "function _uploadFiles(inputId, outputId) {\n",
              "  const steps = uploadFilesStep(inputId, outputId);\n",
              "  const outputElement = document.getElementById(outputId);\n",
              "  // Cache steps on the outputElement to make it available for the next call\n",
              "  // to uploadFilesContinue from Python.\n",
              "  outputElement.steps = steps;\n",
              "\n",
              "  return _uploadFilesContinue(outputId);\n",
              "}\n",
              "\n",
              "// This is roughly an async generator (not supported in the browser yet),\n",
              "// where there are multiple asynchronous steps and the Python side is going\n",
              "// to poll for completion of each step.\n",
              "// This uses a Promise to block the python side on completion of each step,\n",
              "// then passes the result of the previous step as the input to the next step.\n",
              "function _uploadFilesContinue(outputId) {\n",
              "  const outputElement = document.getElementById(outputId);\n",
              "  const steps = outputElement.steps;\n",
              "\n",
              "  const next = steps.next(outputElement.lastPromiseValue);\n",
              "  return Promise.resolve(next.value.promise).then((value) => {\n",
              "    // Cache the last promise value to make it available to the next\n",
              "    // step of the generator.\n",
              "    outputElement.lastPromiseValue = value;\n",
              "    return next.value.response;\n",
              "  });\n",
              "}\n",
              "\n",
              "/**\n",
              " * Generator function which is called between each async step of the upload\n",
              " * process.\n",
              " * @param {string} inputId Element ID of the input file picker element.\n",
              " * @param {string} outputId Element ID of the output display.\n",
              " * @return {!Iterable<!Object>} Iterable of next steps.\n",
              " */\n",
              "function* uploadFilesStep(inputId, outputId) {\n",
              "  const inputElement = document.getElementById(inputId);\n",
              "  inputElement.disabled = false;\n",
              "\n",
              "  const outputElement = document.getElementById(outputId);\n",
              "  outputElement.innerHTML = '';\n",
              "\n",
              "  const pickedPromise = new Promise((resolve) => {\n",
              "    inputElement.addEventListener('change', (e) => {\n",
              "      resolve(e.target.files);\n",
              "    });\n",
              "  });\n",
              "\n",
              "  const cancel = document.createElement('button');\n",
              "  inputElement.parentElement.appendChild(cancel);\n",
              "  cancel.textContent = 'Cancel upload';\n",
              "  const cancelPromise = new Promise((resolve) => {\n",
              "    cancel.onclick = () => {\n",
              "      resolve(null);\n",
              "    };\n",
              "  });\n",
              "\n",
              "  // Wait for the user to pick the files.\n",
              "  const files = yield {\n",
              "    promise: Promise.race([pickedPromise, cancelPromise]),\n",
              "    response: {\n",
              "      action: 'starting',\n",
              "    }\n",
              "  };\n",
              "\n",
              "  cancel.remove();\n",
              "\n",
              "  // Disable the input element since further picks are not allowed.\n",
              "  inputElement.disabled = true;\n",
              "\n",
              "  if (!files) {\n",
              "    return {\n",
              "      response: {\n",
              "        action: 'complete',\n",
              "      }\n",
              "    };\n",
              "  }\n",
              "\n",
              "  for (const file of files) {\n",
              "    const li = document.createElement('li');\n",
              "    li.append(span(file.name, {fontWeight: 'bold'}));\n",
              "    li.append(span(\n",
              "        `(${file.type || 'n/a'}) - ${file.size} bytes, ` +\n",
              "        `last modified: ${\n",
              "            file.lastModifiedDate ? file.lastModifiedDate.toLocaleDateString() :\n",
              "                                    'n/a'} - `));\n",
              "    const percent = span('0% done');\n",
              "    li.appendChild(percent);\n",
              "\n",
              "    outputElement.appendChild(li);\n",
              "\n",
              "    const fileDataPromise = new Promise((resolve) => {\n",
              "      const reader = new FileReader();\n",
              "      reader.onload = (e) => {\n",
              "        resolve(e.target.result);\n",
              "      };\n",
              "      reader.readAsArrayBuffer(file);\n",
              "    });\n",
              "    // Wait for the data to be ready.\n",
              "    let fileData = yield {\n",
              "      promise: fileDataPromise,\n",
              "      response: {\n",
              "        action: 'continue',\n",
              "      }\n",
              "    };\n",
              "\n",
              "    // Use a chunked sending to avoid message size limits. See b/62115660.\n",
              "    let position = 0;\n",
              "    do {\n",
              "      const length = Math.min(fileData.byteLength - position, MAX_PAYLOAD_SIZE);\n",
              "      const chunk = new Uint8Array(fileData, position, length);\n",
              "      position += length;\n",
              "\n",
              "      const base64 = btoa(String.fromCharCode.apply(null, chunk));\n",
              "      yield {\n",
              "        response: {\n",
              "          action: 'append',\n",
              "          file: file.name,\n",
              "          data: base64,\n",
              "        },\n",
              "      };\n",
              "\n",
              "      let percentDone = fileData.byteLength === 0 ?\n",
              "          100 :\n",
              "          Math.round((position / fileData.byteLength) * 100);\n",
              "      percent.textContent = `${percentDone}% done`;\n",
              "\n",
              "    } while (position < fileData.byteLength);\n",
              "  }\n",
              "\n",
              "  // All done.\n",
              "  yield {\n",
              "    response: {\n",
              "      action: 'complete',\n",
              "    }\n",
              "  };\n",
              "}\n",
              "\n",
              "scope.google = scope.google || {};\n",
              "scope.google.colab = scope.google.colab || {};\n",
              "scope.google.colab._files = {\n",
              "  _uploadFiles,\n",
              "  _uploadFilesContinue,\n",
              "};\n",
              "})(self);\n",
              "</script> "
            ]
          },
          "metadata": {}
        },
        {
          "output_type": "stream",
          "name": "stdout",
          "text": [
            "Saving dataset.zip to dataset.zip\n",
            "Archive:  dataset.zip\n",
            "  inflating: images/train/image_0.jpg  \n",
            "  inflating: images/train/image_1.jpg  \n",
            "  inflating: images/train/image_10.jpg  \n",
            "  inflating: images/train/image_100.jpg  \n",
            "  inflating: images/train/image_101.jpg  \n",
            "  inflating: images/train/image_102.jpg  \n",
            "  inflating: images/train/image_103.jpg  \n",
            "  inflating: images/train/image_104.jpg  \n",
            "  inflating: images/train/image_105.jpg  \n",
            "  inflating: images/train/image_106.jpg  \n",
            "  inflating: images/train/image_107.jpg  \n",
            "  inflating: images/train/image_108.jpg  \n",
            "  inflating: images/train/image_109.jpg  \n",
            "  inflating: images/train/image_11.jpg  \n",
            "  inflating: images/train/image_110.jpg  \n",
            "  inflating: images/train/image_111.jpg  \n",
            "  inflating: images/train/image_112.jpg  \n",
            "  inflating: images/train/image_113.jpg  \n",
            "  inflating: images/train/image_114.jpg  \n",
            "  inflating: images/train/image_115.jpg  \n",
            "  inflating: images/train/image_116.jpg  \n",
            "  inflating: images/train/image_117.jpg  \n",
            "  inflating: images/train/image_118.jpg  \n",
            "  inflating: images/train/image_119.jpg  \n",
            "  inflating: images/train/image_12.jpg  \n",
            "  inflating: images/train/image_120.jpg  \n",
            "  inflating: images/train/image_121.jpg  \n",
            "  inflating: images/train/image_122.jpg  \n",
            "  inflating: images/train/image_123.jpg  \n",
            "  inflating: images/train/image_124.jpg  \n",
            "  inflating: images/train/image_125.jpg  \n",
            "  inflating: images/train/image_126.jpg  \n",
            "  inflating: images/train/image_127.jpg  \n",
            "  inflating: images/train/image_128.jpg  \n",
            "  inflating: images/train/image_129.jpg  \n",
            "  inflating: images/train/image_13.jpg  \n",
            "  inflating: images/train/image_130.jpg  \n",
            "  inflating: images/train/image_131.jpg  \n",
            "  inflating: images/train/image_132.jpg  \n",
            "  inflating: images/train/image_133.jpg  \n",
            "  inflating: images/train/image_134.jpg  \n",
            "  inflating: images/train/image_135.jpg  \n",
            "  inflating: images/train/image_136.jpg  \n",
            "  inflating: images/train/image_137.jpg  \n",
            "  inflating: images/train/image_138.jpg  \n",
            "  inflating: images/train/image_139.jpg  \n",
            "  inflating: images/train/image_14.jpg  \n",
            "  inflating: images/train/image_140.jpg  \n",
            "  inflating: images/train/image_141.jpg  \n",
            "  inflating: images/train/image_142.jpg  \n",
            "  inflating: images/train/image_143.jpg  \n",
            "  inflating: images/train/image_144.jpg  \n",
            "  inflating: images/train/image_145.jpg  \n",
            "  inflating: images/train/image_146.jpg  \n",
            "  inflating: images/train/image_147.jpg  \n",
            "  inflating: images/train/image_148.jpg  \n",
            "  inflating: images/train/image_149.jpg  \n",
            "  inflating: images/train/image_15.jpg  \n",
            "  inflating: images/train/image_150.jpg  \n",
            "  inflating: images/train/image_151.jpg  \n",
            "  inflating: images/train/image_152.jpg  \n",
            "  inflating: images/train/image_153.jpg  \n",
            "  inflating: images/train/image_154.jpg  \n",
            "  inflating: images/train/image_155.jpg  \n",
            "  inflating: images/train/image_156.jpg  \n",
            "  inflating: images/train/image_157.jpg  \n",
            "  inflating: images/train/image_158.jpg  \n",
            "  inflating: images/train/image_159.jpg  \n",
            "  inflating: images/train/image_16.jpg  \n",
            "  inflating: images/train/image_160.jpg  \n",
            "  inflating: images/train/image_161.jpg  \n",
            "  inflating: images/train/image_162.jpg  \n",
            "  inflating: images/train/image_163.jpg  \n",
            "  inflating: images/train/image_164.jpg  \n",
            "  inflating: images/train/image_165.jpg  \n",
            "  inflating: images/train/image_166.jpg  \n",
            "  inflating: images/train/image_167.jpg  \n",
            "  inflating: images/train/image_168.jpg  \n",
            "  inflating: images/train/image_169.jpg  \n",
            "  inflating: images/train/image_17.jpg  \n",
            "  inflating: images/train/image_170.jpg  \n",
            "  inflating: images/train/image_171.jpg  \n",
            "  inflating: images/train/image_172.jpg  \n",
            "  inflating: images/train/image_173.jpg  \n",
            "  inflating: images/train/image_174.jpg  \n",
            "  inflating: images/train/image_175.jpg  \n",
            "  inflating: images/train/image_176.jpg  \n",
            "  inflating: images/train/image_177.jpg  \n",
            "  inflating: images/train/image_178.jpg  \n",
            "  inflating: images/train/image_179.jpg  \n",
            "  inflating: images/train/image_18.jpg  \n",
            "  inflating: images/train/image_180.jpg  \n",
            "  inflating: images/train/image_181.jpg  \n",
            "  inflating: images/train/image_182.jpg  \n",
            "  inflating: images/train/image_183.jpg  \n",
            "  inflating: images/train/image_184.jpg  \n",
            "  inflating: images/train/image_185.jpg  \n",
            "  inflating: images/train/image_186.jpg  \n",
            "  inflating: images/train/image_187.jpg  \n",
            "  inflating: images/train/image_188.jpg  \n",
            "  inflating: images/train/image_189.jpg  \n",
            "  inflating: images/train/image_19.jpg  \n",
            "  inflating: images/train/image_190.jpg  \n",
            "  inflating: images/train/image_191.jpg  \n",
            "  inflating: images/train/image_192.jpg  \n",
            "  inflating: images/train/image_193.jpg  \n",
            "  inflating: images/train/image_194.jpg  \n",
            "  inflating: images/train/image_195.jpg  \n",
            "  inflating: images/train/image_196.jpg  \n",
            "  inflating: images/train/image_197.jpg  \n",
            "  inflating: images/train/image_198.jpg  \n",
            "  inflating: images/train/image_199.jpg  \n",
            "  inflating: images/train/image_2.jpg  \n",
            "  inflating: images/train/image_20.jpg  \n",
            "  inflating: images/train/image_200.jpg  \n",
            "  inflating: images/train/image_201.jpg  \n",
            "  inflating: images/train/image_202.jpg  \n",
            "  inflating: images/train/image_203.jpg  \n",
            "  inflating: images/train/image_204.jpg  \n",
            "  inflating: images/train/image_205.jpg  \n",
            "  inflating: images/train/image_206.jpg  \n",
            "  inflating: images/train/image_207.jpg  \n",
            "  inflating: images/train/image_208.jpg  \n",
            "  inflating: images/train/image_209.jpg  \n",
            "  inflating: images/train/image_21.jpg  \n",
            "  inflating: images/train/image_210.jpg  \n",
            "  inflating: images/train/image_211.jpg  \n",
            "  inflating: images/train/image_212.jpg  \n",
            "  inflating: images/train/image_213.jpg  \n",
            "  inflating: images/train/image_214.jpg  \n",
            "  inflating: images/train/image_215.jpg  \n",
            "  inflating: images/train/image_216.jpg  \n",
            "  inflating: images/train/image_217.jpg  \n",
            "  inflating: images/train/image_218.jpg  \n",
            "  inflating: images/train/image_219.jpg  \n",
            "  inflating: images/train/image_22.jpg  \n",
            "  inflating: images/train/image_220.jpg  \n",
            "  inflating: images/train/image_221.jpg  \n",
            "  inflating: images/train/image_222.jpg  \n",
            "  inflating: images/train/image_223.jpg  \n",
            "  inflating: images/train/image_224.jpg  \n",
            "  inflating: images/train/image_225.jpg  \n",
            "  inflating: images/train/image_226.jpg  \n",
            "  inflating: images/train/image_227.jpg  \n",
            "  inflating: images/train/image_228.jpg  \n",
            "  inflating: images/train/image_229.jpg  \n",
            "  inflating: images/train/image_23.jpg  \n",
            "  inflating: images/train/image_230.jpg  \n",
            "  inflating: images/train/image_231.jpg  \n",
            "  inflating: images/train/image_232.jpg  \n",
            "  inflating: images/train/image_233.jpg  \n",
            "  inflating: images/train/image_234.jpg  \n",
            "  inflating: images/train/image_235.jpg  \n",
            "  inflating: images/train/image_236.jpg  \n",
            "  inflating: images/train/image_237.jpg  \n",
            "  inflating: images/train/image_238.jpg  \n",
            "  inflating: images/train/image_239.jpg  \n",
            "  inflating: images/train/image_24.jpg  \n",
            "  inflating: images/train/image_240.jpg  \n",
            "  inflating: images/train/image_241.jpg  \n",
            "  inflating: images/train/image_242.jpg  \n",
            "  inflating: images/train/image_243.jpg  \n",
            "  inflating: images/train/image_244.jpg  \n",
            "  inflating: images/train/image_245.jpg  \n",
            "  inflating: images/train/image_246.jpg  \n",
            "  inflating: images/train/image_247.jpg  \n",
            "  inflating: images/train/image_248.jpg  \n",
            "  inflating: images/train/image_249.jpg  \n",
            "  inflating: images/train/image_25.jpg  \n",
            "  inflating: images/train/image_250.jpg  \n",
            "  inflating: images/train/image_251.jpg  \n",
            "  inflating: images/train/image_252.jpg  \n",
            "  inflating: images/train/image_253.jpg  \n",
            "  inflating: images/train/image_254.jpg  \n",
            "  inflating: images/train/image_255.jpg  \n",
            "  inflating: images/train/image_256.jpg  \n",
            "  inflating: images/train/image_257.jpg  \n",
            "  inflating: images/train/image_258.jpg  \n",
            "  inflating: images/train/image_259.jpg  \n",
            "  inflating: images/train/image_26.jpg  \n",
            "  inflating: images/train/image_260.jpg  \n",
            "  inflating: images/train/image_261.jpg  \n",
            "  inflating: images/train/image_262.jpg  \n",
            "  inflating: images/train/image_263.jpg  \n",
            "  inflating: images/train/image_264.jpg  \n",
            "  inflating: images/train/image_265.jpg  \n",
            "  inflating: images/train/image_266.jpg  \n",
            "  inflating: images/train/image_267.jpg  \n",
            "  inflating: images/train/image_268.jpg  \n",
            "  inflating: images/train/image_269.jpg  \n",
            "  inflating: images/train/image_27.jpg  \n",
            "  inflating: images/train/image_270.jpg  \n",
            "  inflating: images/train/image_271.jpg  \n",
            "  inflating: images/train/image_272.jpg  \n",
            "  inflating: images/train/image_273.jpg  \n",
            "  inflating: images/train/image_274.jpg  \n",
            "  inflating: images/train/image_275.jpg  \n",
            "  inflating: images/train/image_276.jpg  \n",
            "  inflating: images/train/image_277.jpg  \n",
            "  inflating: images/train/image_278.jpg  \n",
            "  inflating: images/train/image_279.jpg  \n",
            "  inflating: images/train/image_28.jpg  \n",
            "  inflating: images/train/image_280.jpg  \n",
            "  inflating: images/train/image_281.jpg  \n",
            "  inflating: images/train/image_282.jpg  \n",
            "  inflating: images/train/image_283.jpg  \n",
            "  inflating: images/train/image_284.jpg  \n",
            "  inflating: images/train/image_285.jpg  \n",
            "  inflating: images/train/image_286.jpg  \n",
            "  inflating: images/train/image_287.jpg  \n",
            "  inflating: images/train/image_288.jpg  \n",
            "  inflating: images/train/image_289.jpg  \n",
            "  inflating: images/train/image_29.jpg  \n",
            "  inflating: images/train/image_290.jpg  \n",
            "  inflating: images/train/image_291.jpg  \n",
            "  inflating: images/train/image_292.jpg  \n",
            "  inflating: images/train/image_293.jpg  \n",
            "  inflating: images/train/image_294.jpg  \n",
            "  inflating: images/train/image_295.jpg  \n",
            "  inflating: images/train/image_296.jpg  \n",
            "  inflating: images/train/image_297.jpg  \n",
            "  inflating: images/train/image_298.jpg  \n",
            "  inflating: images/train/image_299.jpg  \n",
            "  inflating: images/train/image_3.jpg  \n",
            "  inflating: images/train/image_30.jpg  \n",
            "  inflating: images/train/image_300.jpg  \n",
            "  inflating: images/train/image_301.jpg  \n",
            "  inflating: images/train/image_302.jpg  \n",
            "  inflating: images/train/image_303.jpg  \n",
            "  inflating: images/train/image_304.jpg  \n",
            "  inflating: images/train/image_305.jpg  \n",
            "  inflating: images/train/image_306.jpg  \n",
            "  inflating: images/train/image_307.jpg  \n",
            "  inflating: images/train/image_308.jpg  \n",
            "  inflating: images/train/image_309.jpg  \n",
            "  inflating: images/train/image_31.jpg  \n",
            "  inflating: images/train/image_310.jpg  \n",
            "  inflating: images/train/image_311.jpg  \n",
            "  inflating: images/train/image_312.jpg  \n",
            "  inflating: images/train/image_313.jpg  \n",
            "  inflating: images/train/image_314.jpg  \n",
            "  inflating: images/train/image_315.jpg  \n",
            "  inflating: images/train/image_316.jpg  \n",
            "  inflating: images/train/image_317.jpg  \n",
            "  inflating: images/train/image_318.jpg  \n",
            "  inflating: images/train/image_319.jpg  \n",
            "  inflating: images/train/image_32.jpg  \n",
            "  inflating: images/train/image_320.jpg  \n",
            "  inflating: images/train/image_321.jpg  \n",
            "  inflating: images/train/image_322.jpg  \n",
            "  inflating: images/train/image_323.jpg  \n",
            "  inflating: images/train/image_324.jpg  \n",
            "  inflating: images/train/image_325.jpg  \n",
            "  inflating: images/train/image_326.jpg  \n",
            "  inflating: images/train/image_327.jpg  \n",
            "  inflating: images/train/image_328.jpg  \n",
            "  inflating: images/train/image_329.jpg  \n",
            "  inflating: images/train/image_33.jpg  \n",
            "  inflating: images/train/image_330.jpg  \n",
            "  inflating: images/train/image_331.jpg  \n",
            "  inflating: images/train/image_332.jpg  \n",
            "  inflating: images/train/image_333.jpg  \n",
            "  inflating: images/train/image_334.jpg  \n",
            "  inflating: images/train/image_335.jpg  \n",
            "  inflating: images/train/image_336.jpg  \n",
            "  inflating: images/train/image_337.jpg  \n",
            "  inflating: images/train/image_338.jpg  \n",
            "  inflating: images/train/image_339.jpg  \n",
            "  inflating: images/train/image_34.jpg  \n",
            "  inflating: images/train/image_340.jpg  \n",
            "  inflating: images/train/image_341.jpg  \n",
            "  inflating: images/train/image_342.jpg  \n",
            "  inflating: images/train/image_343.jpg  \n",
            "  inflating: images/train/image_344.jpg  \n",
            "  inflating: images/train/image_345.jpg  \n",
            "  inflating: images/train/image_346.jpg  \n",
            "  inflating: images/train/image_347.jpg  \n",
            "  inflating: images/train/image_348.jpg  \n",
            "  inflating: images/train/image_349.jpg  \n",
            "  inflating: images/train/image_35.jpg  \n",
            "  inflating: images/train/image_350.jpg  \n",
            "  inflating: images/train/image_351.jpg  \n",
            "  inflating: images/train/image_352.jpg  \n",
            "  inflating: images/train/image_353.jpg  \n",
            "  inflating: images/train/image_354.jpg  \n",
            "  inflating: images/train/image_355.jpg  \n",
            "  inflating: images/train/image_356.jpg  \n",
            "  inflating: images/train/image_357.jpg  \n",
            "  inflating: images/train/image_358.jpg  \n",
            "  inflating: images/train/image_359.jpg  \n",
            "  inflating: images/train/image_36.jpg  \n",
            "  inflating: images/train/image_360.jpg  \n",
            "  inflating: images/train/image_361.jpg  \n",
            "  inflating: images/train/image_362.jpg  \n",
            "  inflating: images/train/image_363.jpg  \n",
            "  inflating: images/train/image_364.jpg  \n",
            "  inflating: images/train/image_365.jpg  \n",
            "  inflating: images/train/image_366.jpg  \n",
            "  inflating: images/train/image_367.jpg  \n",
            "  inflating: images/train/image_368.jpg  \n",
            "  inflating: images/train/image_369.jpg  \n",
            "  inflating: images/train/image_37.jpg  \n",
            "  inflating: images/train/image_370.jpg  \n",
            "  inflating: images/train/image_371.jpg  \n",
            "  inflating: images/train/image_372.jpg  \n",
            "  inflating: images/train/image_373.jpg  \n",
            "  inflating: images/train/image_374.jpg  \n",
            "  inflating: images/train/image_375.jpg  \n",
            "  inflating: images/train/image_376.jpg  \n",
            "  inflating: images/train/image_377.jpg  \n",
            "  inflating: images/train/image_378.jpg  \n",
            "  inflating: images/train/image_379.jpg  \n",
            "  inflating: images/train/image_38.jpg  \n",
            "  inflating: images/train/image_380.jpg  \n",
            "  inflating: images/train/image_381.jpg  \n",
            "  inflating: images/train/image_382.jpg  \n",
            "  inflating: images/train/image_383.jpg  \n",
            "  inflating: images/train/image_384.jpg  \n",
            "  inflating: images/train/image_385.jpg  \n",
            "  inflating: images/train/image_386.jpg  \n",
            "  inflating: images/train/image_387.jpg  \n",
            "  inflating: images/train/image_388.jpg  \n",
            "  inflating: images/train/image_389.jpg  \n",
            "  inflating: images/train/image_39.jpg  \n",
            "  inflating: images/train/image_390.jpg  \n",
            "  inflating: images/train/image_391.jpg  \n",
            "  inflating: images/train/image_392.jpg  \n",
            "  inflating: images/train/image_393.jpg  \n",
            "  inflating: images/train/image_394.jpg  \n",
            "  inflating: images/train/image_395.jpg  \n",
            "  inflating: images/train/image_396.jpg  \n",
            "  inflating: images/train/image_397.jpg  \n",
            "  inflating: images/train/image_398.jpg  \n",
            "  inflating: images/train/image_399.jpg  \n",
            "  inflating: images/train/image_4.jpg  \n",
            "  inflating: images/train/image_40.jpg  \n",
            "  inflating: images/train/image_400.jpg  \n",
            "  inflating: images/train/image_401.jpg  \n",
            "  inflating: images/train/image_402.jpg  \n",
            "  inflating: images/train/image_403.jpg  \n",
            "  inflating: images/train/image_404.jpg  \n",
            "  inflating: images/train/image_405.jpg  \n",
            "  inflating: images/train/image_406.jpg  \n",
            "  inflating: images/train/image_407.jpg  \n",
            "  inflating: images/train/image_408.jpg  \n",
            "  inflating: images/train/image_409.jpg  \n",
            "  inflating: images/train/image_41.jpg  \n",
            "  inflating: images/train/image_410.jpg  \n",
            "  inflating: images/train/image_411.jpg  \n",
            "  inflating: images/train/image_412.jpg  \n",
            "  inflating: images/train/image_413.jpg  \n",
            "  inflating: images/train/image_414.jpg  \n",
            "  inflating: images/train/image_415.jpg  \n",
            "  inflating: images/train/image_416.jpg  \n",
            "  inflating: images/train/image_417.jpg  \n",
            "  inflating: images/train/image_418.jpg  \n",
            "  inflating: images/train/image_419.jpg  \n",
            "  inflating: images/train/image_42.jpg  \n",
            "  inflating: images/train/image_420.jpg  \n",
            "  inflating: images/train/image_421.jpg  \n",
            "  inflating: images/train/image_422.jpg  \n",
            "  inflating: images/train/image_423.jpg  \n",
            "  inflating: images/train/image_424.jpg  \n",
            "  inflating: images/train/image_425.jpg  \n",
            "  inflating: images/train/image_426.jpg  \n",
            "  inflating: images/train/image_427.jpg  \n",
            "  inflating: images/train/image_428.jpg  \n",
            "  inflating: images/train/image_429.jpg  \n",
            "  inflating: images/train/image_43.jpg  \n",
            "  inflating: images/train/image_430.jpg  \n",
            "  inflating: images/train/image_431.jpg  \n",
            "  inflating: images/train/image_432.jpg  \n",
            "  inflating: images/train/image_433.jpg  \n",
            "  inflating: images/train/image_434.jpg  \n",
            "  inflating: images/train/image_435.jpg  \n",
            "  inflating: images/train/image_436.jpg  \n",
            "  inflating: images/train/image_437.jpg  \n",
            "  inflating: images/train/image_438.jpg  \n",
            "  inflating: images/train/image_439.jpg  \n",
            "  inflating: images/train/image_44.jpg  \n",
            "  inflating: images/train/image_440.jpg  \n",
            "  inflating: images/train/image_441.jpg  \n",
            "  inflating: images/train/image_442.jpg  \n",
            "  inflating: images/train/image_443.jpg  \n",
            "  inflating: images/train/image_444.jpg  \n",
            "  inflating: images/train/image_445.jpg  \n",
            "  inflating: images/train/image_446.jpg  \n",
            "  inflating: images/train/image_447.jpg  \n",
            "  inflating: images/train/image_448.jpg  \n",
            "  inflating: images/train/image_449.jpg  \n",
            "  inflating: images/train/image_45.jpg  \n",
            "  inflating: images/train/image_450.jpg  \n",
            "  inflating: images/train/image_451.jpg  \n",
            "  inflating: images/train/image_452.jpg  \n",
            "  inflating: images/train/image_453.jpg  \n",
            "  inflating: images/train/image_454.jpg  \n",
            "  inflating: images/train/image_455.jpg  \n",
            "  inflating: images/train/image_456.jpg  \n",
            "  inflating: images/train/image_457.jpg  \n",
            "  inflating: images/train/image_458.jpg  \n",
            "  inflating: images/train/image_459.jpg  \n",
            "  inflating: images/train/image_46.jpg  \n",
            "  inflating: images/train/image_460.jpg  \n",
            "  inflating: images/train/image_461.jpg  \n",
            "  inflating: images/train/image_462.jpg  \n",
            "  inflating: images/train/image_463.jpg  \n",
            "  inflating: images/train/image_464.jpg  \n",
            "  inflating: images/train/image_465.jpg  \n",
            "  inflating: images/train/image_466.jpg  \n",
            "  inflating: images/train/image_467.jpg  \n",
            "  inflating: images/train/image_468.jpg  \n",
            "  inflating: images/train/image_469.jpg  \n",
            "  inflating: images/train/image_47.jpg  \n",
            "  inflating: images/train/image_470.jpg  \n",
            "  inflating: images/train/image_471.jpg  \n",
            "  inflating: images/train/image_472.jpg  \n",
            "  inflating: images/train/image_473.jpg  \n",
            "  inflating: images/train/image_474.jpg  \n",
            "  inflating: images/train/image_475.jpg  \n",
            "  inflating: images/train/image_476.jpg  \n",
            "  inflating: images/train/image_477.jpg  \n",
            "  inflating: images/train/image_478.jpg  \n",
            "  inflating: images/train/image_479.jpg  \n",
            "  inflating: images/train/image_48.jpg  \n",
            "  inflating: images/train/image_480.jpg  \n",
            "  inflating: images/train/image_481.jpg  \n",
            "  inflating: images/train/image_482.jpg  \n",
            "  inflating: images/train/image_483.jpg  \n",
            "  inflating: images/train/image_484.jpg  \n",
            "  inflating: images/train/image_485.jpg  \n",
            "  inflating: images/train/image_486.jpg  \n",
            "  inflating: images/train/image_487.jpg  \n",
            "  inflating: images/train/image_488.jpg  \n",
            "  inflating: images/train/image_489.jpg  \n",
            "  inflating: images/train/image_49.jpg  \n",
            "  inflating: images/train/image_490.jpg  \n",
            "  inflating: images/train/image_491.jpg  \n",
            "  inflating: images/train/image_492.jpg  \n",
            "  inflating: images/train/image_493.jpg  \n",
            "  inflating: images/train/image_494.jpg  \n",
            "  inflating: images/train/image_495.jpg  \n",
            "  inflating: images/train/image_496.jpg  \n",
            "  inflating: images/train/image_497.jpg  \n",
            "  inflating: images/train/image_498.jpg  \n",
            "  inflating: images/train/image_499.jpg  \n",
            "  inflating: images/train/image_5.jpg  \n",
            "  inflating: images/train/image_50.jpg  \n",
            "  inflating: images/train/image_500.jpg  \n",
            "  inflating: images/train/image_501.jpg  \n",
            "  inflating: images/train/image_502.jpg  \n",
            "  inflating: images/train/image_503.jpg  \n",
            "  inflating: images/train/image_504.jpg  \n",
            "  inflating: images/train/image_505.jpg  \n",
            "  inflating: images/train/image_506.jpg  \n",
            "  inflating: images/train/image_507.jpg  \n",
            "  inflating: images/train/image_508.jpg  \n",
            "  inflating: images/train/image_509.jpg  \n",
            "  inflating: images/train/image_51.jpg  \n",
            "  inflating: images/train/image_510.jpg  \n",
            "  inflating: images/train/image_511.jpg  \n",
            "  inflating: images/train/image_512.jpg  \n",
            "  inflating: images/train/image_513.jpg  \n",
            "  inflating: images/train/image_514.jpg  \n",
            "  inflating: images/train/image_515.jpg  \n",
            "  inflating: images/train/image_516.jpg  \n",
            "  inflating: images/train/image_517.jpg  \n",
            "  inflating: images/train/image_518.jpg  \n",
            "  inflating: images/train/image_519.jpg  \n",
            "  inflating: images/train/image_52.jpg  \n",
            "  inflating: images/train/image_520.jpg  \n",
            "  inflating: images/train/image_521.jpg  \n",
            "  inflating: images/train/image_522.jpg  \n",
            "  inflating: images/train/image_523.jpg  \n",
            "  inflating: images/train/image_524.jpg  \n",
            "  inflating: images/train/image_525.jpg  \n",
            "  inflating: images/train/image_526.jpg  \n",
            "  inflating: images/train/image_527.jpg  \n",
            "  inflating: images/train/image_528.jpg  \n",
            "  inflating: images/train/image_529.jpg  \n",
            "  inflating: images/train/image_53.jpg  \n",
            "  inflating: images/train/image_530.jpg  \n",
            "  inflating: images/train/image_531.jpg  \n",
            "  inflating: images/train/image_532.jpg  \n",
            "  inflating: images/train/image_533.jpg  \n",
            "  inflating: images/train/image_534.jpg  \n",
            "  inflating: images/train/image_535.jpg  \n",
            "  inflating: images/train/image_536.jpg  \n",
            "  inflating: images/train/image_537.jpg  \n",
            "  inflating: images/train/image_538.jpg  \n",
            "  inflating: images/train/image_539.jpg  \n",
            "  inflating: images/train/image_54.jpg  \n",
            "  inflating: images/train/image_540.jpg  \n",
            "  inflating: images/train/image_541.jpg  \n",
            "  inflating: images/train/image_542.jpg  \n",
            "  inflating: images/train/image_543.jpg  \n",
            "  inflating: images/train/image_544.jpg  \n",
            "  inflating: images/train/image_545.jpg  \n",
            "  inflating: images/train/image_546.jpg  \n",
            "  inflating: images/train/image_547.jpg  \n",
            "  inflating: images/train/image_548.jpg  \n",
            "  inflating: images/train/image_549.jpg  \n",
            "  inflating: images/train/image_55.jpg  \n",
            "  inflating: images/train/image_550.jpg  \n",
            "  inflating: images/train/image_551.jpg  \n",
            "  inflating: images/train/image_552.jpg  \n",
            "  inflating: images/train/image_553.jpg  \n",
            "  inflating: images/train/image_554.jpg  \n",
            "  inflating: images/train/image_555.jpg  \n",
            "  inflating: images/train/image_556.jpg  \n",
            "  inflating: images/train/image_557.jpg  \n",
            "  inflating: images/train/image_558.jpg  \n",
            "  inflating: images/train/image_559.jpg  \n",
            "  inflating: images/train/image_56.jpg  \n",
            "  inflating: images/train/image_560.jpg  \n",
            "  inflating: images/train/image_561.jpg  \n",
            "  inflating: images/train/image_562.jpg  \n",
            "  inflating: images/train/image_563.jpg  \n",
            "  inflating: images/train/image_564.jpg  \n",
            "  inflating: images/train/image_565.jpg  \n",
            "  inflating: images/train/image_566.jpg  \n",
            "  inflating: images/train/image_567.jpg  \n",
            "  inflating: images/train/image_568.jpg  \n",
            "  inflating: images/train/image_569.jpg  \n",
            "  inflating: images/train/image_57.jpg  \n",
            "  inflating: images/train/image_570.jpg  \n",
            "  inflating: images/train/image_571.jpg  \n",
            "  inflating: images/train/image_572.jpg  \n",
            "  inflating: images/train/image_573.jpg  \n",
            "  inflating: images/train/image_574.jpg  \n",
            "  inflating: images/train/image_575.jpg  \n",
            "  inflating: images/train/image_576.jpg  \n",
            "  inflating: images/train/image_577.jpg  \n",
            "  inflating: images/train/image_578.jpg  \n",
            "  inflating: images/train/image_579.jpg  \n",
            "  inflating: images/train/image_58.jpg  \n",
            "  inflating: images/train/image_580.jpg  \n",
            "  inflating: images/train/image_581.jpg  \n",
            "  inflating: images/train/image_582.jpg  \n",
            "  inflating: images/train/image_583.jpg  \n",
            "  inflating: images/train/image_584.jpg  \n",
            "  inflating: images/train/image_585.jpg  \n",
            "  inflating: images/train/image_586.jpg  \n",
            "  inflating: images/train/image_587.jpg  \n",
            "  inflating: images/train/image_588.jpg  \n",
            "  inflating: images/train/image_589.jpg  \n",
            "  inflating: images/train/image_59.jpg  \n",
            "  inflating: images/train/image_590.jpg  \n",
            "  inflating: images/train/image_591.jpg  \n",
            "  inflating: images/train/image_592.jpg  \n",
            "  inflating: images/train/image_593.jpg  \n",
            "  inflating: images/train/image_594.jpg  \n",
            "  inflating: images/train/image_595.jpg  \n",
            "  inflating: images/train/image_596.jpg  \n",
            "  inflating: images/train/image_597.jpg  \n",
            "  inflating: images/train/image_598.jpg  \n",
            "  inflating: images/train/image_599.jpg  \n",
            "  inflating: images/train/image_6.jpg  \n",
            "  inflating: images/train/image_60.jpg  \n",
            "  inflating: images/train/image_600.jpg  \n",
            "  inflating: images/train/image_601.jpg  \n",
            "  inflating: images/train/image_602.jpg  \n",
            "  inflating: images/train/image_603.jpg  \n",
            "  inflating: images/train/image_604.jpg  \n",
            "  inflating: images/train/image_605.jpg  \n",
            "  inflating: images/train/image_606.jpg  \n",
            "  inflating: images/train/image_607.jpg  \n",
            "  inflating: images/train/image_608.jpg  \n",
            "  inflating: images/train/image_609.jpg  \n",
            "  inflating: images/train/image_61.jpg  \n",
            "  inflating: images/train/image_610.jpg  \n",
            "  inflating: images/train/image_611.jpg  \n",
            "  inflating: images/train/image_612.jpg  \n",
            "  inflating: images/train/image_613.jpg  \n",
            "  inflating: images/train/image_614.jpg  \n",
            "  inflating: images/train/image_615.jpg  \n",
            "  inflating: images/train/image_616.jpg  \n",
            "  inflating: images/train/image_617.jpg  \n",
            "  inflating: images/train/image_618.jpg  \n",
            "  inflating: images/train/image_619.jpg  \n",
            "  inflating: images/train/image_62.jpg  \n",
            "  inflating: images/train/image_620.jpg  \n",
            "  inflating: images/train/image_621.jpg  \n",
            "  inflating: images/train/image_622.jpg  \n",
            "  inflating: images/train/image_623.jpg  \n",
            "  inflating: images/train/image_624.jpg  \n",
            "  inflating: images/train/image_625.jpg  \n",
            "  inflating: images/train/image_626.jpg  \n",
            "  inflating: images/train/image_627.jpg  \n",
            "  inflating: images/train/image_628.jpg  \n",
            "  inflating: images/train/image_629.jpg  \n",
            "  inflating: images/train/image_63.jpg  \n",
            "  inflating: images/train/image_630.jpg  \n",
            "  inflating: images/train/image_631.jpg  \n",
            "  inflating: images/train/image_632.jpg  \n",
            "  inflating: images/train/image_633.jpg  \n",
            "  inflating: images/train/image_634.jpg  \n",
            "  inflating: images/train/image_635.jpg  \n",
            "  inflating: images/train/image_636.jpg  \n",
            "  inflating: images/train/image_637.jpg  \n",
            "  inflating: images/train/image_638.jpg  \n",
            "  inflating: images/train/image_639.jpg  \n",
            "  inflating: images/train/image_64.jpg  \n",
            "  inflating: images/train/image_640.jpg  \n",
            "  inflating: images/train/image_641.jpg  \n",
            "  inflating: images/train/image_642.jpg  \n",
            "  inflating: images/train/image_643.jpg  \n",
            "  inflating: images/train/image_644.jpg  \n",
            "  inflating: images/train/image_645.jpg  \n",
            "  inflating: images/train/image_646.jpg  \n",
            "  inflating: images/train/image_647.jpg  \n",
            "  inflating: images/train/image_648.jpg  \n",
            "  inflating: images/train/image_649.jpg  \n",
            "  inflating: images/train/image_65.jpg  \n",
            "  inflating: images/train/image_650.jpg  \n",
            "  inflating: images/train/image_651.jpg  \n",
            "  inflating: images/train/image_652.jpg  \n",
            "  inflating: images/train/image_653.jpg  \n",
            "  inflating: images/train/image_654.jpg  \n",
            "  inflating: images/train/image_655.jpg  \n",
            "  inflating: images/train/image_656.jpg  \n",
            "  inflating: images/train/image_657.jpg  \n",
            "  inflating: images/train/image_658.jpg  \n",
            "  inflating: images/train/image_659.jpg  \n",
            "  inflating: images/train/image_66.jpg  \n",
            "  inflating: images/train/image_660.jpg  \n",
            "  inflating: images/train/image_661.jpg  \n",
            "  inflating: images/train/image_662.jpg  \n",
            "  inflating: images/train/image_663.jpg  \n",
            "  inflating: images/train/image_664.jpg  \n",
            "  inflating: images/train/image_665.jpg  \n",
            "  inflating: images/train/image_666.jpg  \n",
            "  inflating: images/train/image_667.jpg  \n",
            "  inflating: images/train/image_668.jpg  \n",
            "  inflating: images/train/image_669.jpg  \n",
            "  inflating: images/train/image_67.jpg  \n",
            "  inflating: images/train/image_670.jpg  \n",
            "  inflating: images/train/image_671.jpg  \n",
            "  inflating: images/train/image_672.jpg  \n",
            "  inflating: images/train/image_673.jpg  \n",
            "  inflating: images/train/image_674.jpg  \n",
            "  inflating: images/train/image_675.jpg  \n",
            "  inflating: images/train/image_676.jpg  \n",
            "  inflating: images/train/image_677.jpg  \n",
            "  inflating: images/train/image_678.jpg  \n",
            "  inflating: images/train/image_679.jpg  \n",
            "  inflating: images/train/image_68.jpg  \n",
            "  inflating: images/train/image_680.jpg  \n",
            "  inflating: images/train/image_681.jpg  \n",
            "  inflating: images/train/image_682.jpg  \n",
            "  inflating: images/train/image_683.jpg  \n",
            "  inflating: images/train/image_684.jpg  \n",
            "  inflating: images/train/image_685.jpg  \n",
            "  inflating: images/train/image_686.jpg  \n",
            "  inflating: images/train/image_687.jpg  \n",
            "  inflating: images/train/image_688.jpg  \n",
            "  inflating: images/train/image_689.jpg  \n",
            "  inflating: images/train/image_69.jpg  \n",
            "  inflating: images/train/image_690.jpg  \n",
            "  inflating: images/train/image_691.jpg  \n",
            "  inflating: images/train/image_692.jpg  \n",
            "  inflating: images/train/image_693.jpg  \n",
            "  inflating: images/train/image_694.jpg  \n",
            "  inflating: images/train/image_695.jpg  \n",
            "  inflating: images/train/image_696.jpg  \n",
            "  inflating: images/train/image_697.jpg  \n",
            "  inflating: images/train/image_698.jpg  \n",
            "  inflating: images/train/image_699.jpg  \n",
            "  inflating: images/train/image_7.jpg  \n",
            "  inflating: images/train/image_70.jpg  \n",
            "  inflating: images/train/image_700.jpg  \n",
            "  inflating: images/train/image_701.jpg  \n",
            "  inflating: images/train/image_702.jpg  \n",
            "  inflating: images/train/image_703.jpg  \n",
            "  inflating: images/train/image_704.jpg  \n",
            "  inflating: images/train/image_705.jpg  \n",
            "  inflating: images/train/image_706.jpg  \n",
            "  inflating: images/train/image_707.jpg  \n",
            "  inflating: images/train/image_708.jpg  \n",
            "  inflating: images/train/image_709.jpg  \n",
            "  inflating: images/train/image_71.jpg  \n",
            "  inflating: images/train/image_710.jpg  \n",
            "  inflating: images/train/image_711.jpg  \n",
            "  inflating: images/train/image_712.jpg  \n",
            "  inflating: images/train/image_713.jpg  \n",
            "  inflating: images/train/image_714.jpg  \n",
            "  inflating: images/train/image_715.jpg  \n",
            "  inflating: images/train/image_716.jpg  \n",
            "  inflating: images/train/image_717.jpg  \n",
            "  inflating: images/train/image_718.jpg  \n",
            "  inflating: images/train/image_719.jpg  \n",
            "  inflating: images/train/image_72.jpg  \n",
            "  inflating: images/train/image_720.jpg  \n",
            "  inflating: images/train/image_721.jpg  \n",
            "  inflating: images/train/image_722.jpg  \n",
            "  inflating: images/train/image_723.jpg  \n",
            "  inflating: images/train/image_724.jpg  \n",
            "  inflating: images/train/image_725.jpg  \n",
            "  inflating: images/train/image_726.jpg  \n",
            "  inflating: images/train/image_727.jpg  \n",
            "  inflating: images/train/image_728.jpg  \n",
            "  inflating: images/train/image_729.jpg  \n",
            "  inflating: images/train/image_73.jpg  \n",
            "  inflating: images/train/image_730.jpg  \n",
            "  inflating: images/train/image_731.jpg  \n",
            "  inflating: images/train/image_732.jpg  \n",
            "  inflating: images/train/image_733.jpg  \n",
            "  inflating: images/train/image_734.jpg  \n",
            "  inflating: images/train/image_735.jpg  \n",
            "  inflating: images/train/image_736.jpg  \n",
            "  inflating: images/train/image_737.jpg  \n",
            "  inflating: images/train/image_74.jpg  \n",
            "  inflating: images/train/image_75.jpg  \n",
            "  inflating: images/train/image_76.jpg  \n",
            "  inflating: images/train/image_77.jpg  \n",
            "  inflating: images/train/image_78.jpg  \n",
            "  inflating: images/train/image_79.jpg  \n",
            "  inflating: images/train/image_8.jpg  \n",
            "  inflating: images/train/image_80.jpg  \n",
            "  inflating: images/train/image_81.jpg  \n",
            "  inflating: images/train/image_82.jpg  \n",
            "  inflating: images/train/image_83.jpg  \n",
            "  inflating: images/train/image_84.jpg  \n",
            "  inflating: images/train/image_85.jpg  \n",
            "  inflating: images/train/image_86.jpg  \n",
            "  inflating: images/train/image_87.jpg  \n",
            "  inflating: images/train/image_88.jpg  \n",
            "  inflating: images/train/image_89.jpg  \n",
            "  inflating: images/train/image_9.jpg  \n",
            "  inflating: images/train/image_90.jpg  \n",
            "  inflating: images/train/image_91.jpg  \n",
            "  inflating: images/train/image_92.jpg  \n",
            "  inflating: images/train/image_93.jpg  \n",
            "  inflating: images/train/image_94.jpg  \n",
            "  inflating: images/train/image_95.jpg  \n",
            "  inflating: images/train/image_96.jpg  \n",
            "  inflating: images/train/image_97.jpg  \n",
            "  inflating: images/train/image_98.jpg  \n",
            "  inflating: images/train/image_99.jpg  \n",
            "  inflating: images/val/image_val_0.jpg  \n",
            "  inflating: images/val/image_val_1.jpg  \n",
            "  inflating: images/val/image_val_10.jpg  \n",
            "  inflating: images/val/image_val_100.jpg  \n",
            "  inflating: images/val/image_val_101.jpg  \n",
            "  inflating: images/val/image_val_102.jpg  \n",
            "  inflating: images/val/image_val_103.jpg  \n",
            "  inflating: images/val/image_val_104.jpg  \n",
            "  inflating: images/val/image_val_105.jpg  \n",
            "  inflating: images/val/image_val_106.jpg  \n",
            "  inflating: images/val/image_val_107.jpg  \n",
            "  inflating: images/val/image_val_108.jpg  \n",
            "  inflating: images/val/image_val_109.jpg  \n",
            "  inflating: images/val/image_val_11.jpg  \n",
            "  inflating: images/val/image_val_110.jpg  \n",
            "  inflating: images/val/image_val_111.jpg  \n",
            "  inflating: images/val/image_val_112.jpg  \n",
            "  inflating: images/val/image_val_113.jpg  \n",
            "  inflating: images/val/image_val_12.jpg  \n",
            "  inflating: images/val/image_val_13.jpg  \n",
            "  inflating: images/val/image_val_14.jpg  \n",
            "  inflating: images/val/image_val_15.jpg  \n",
            "  inflating: images/val/image_val_16.jpg  \n",
            "  inflating: images/val/image_val_17.jpg  \n",
            "  inflating: images/val/image_val_18.jpg  \n",
            "  inflating: images/val/image_val_19.jpg  \n",
            "  inflating: images/val/image_val_2.jpg  \n",
            "  inflating: images/val/image_val_20.jpg  \n",
            "  inflating: images/val/image_val_21.jpg  \n",
            "  inflating: images/val/image_val_22.jpg  \n",
            "  inflating: images/val/image_val_23.jpg  \n",
            "  inflating: images/val/image_val_24.jpg  \n",
            "  inflating: images/val/image_val_25.jpg  \n",
            "  inflating: images/val/image_val_26.jpg  \n",
            "  inflating: images/val/image_val_27.jpg  \n",
            "  inflating: images/val/image_val_28.jpg  \n",
            "  inflating: images/val/image_val_29.jpg  \n",
            "  inflating: images/val/image_val_3.jpg  \n",
            "  inflating: images/val/image_val_30.jpg  \n",
            "  inflating: images/val/image_val_31.jpg  \n",
            "  inflating: images/val/image_val_32.jpg  \n",
            "  inflating: images/val/image_val_33.jpg  \n",
            "  inflating: images/val/image_val_34.jpg  \n",
            "  inflating: images/val/image_val_35.jpg  \n",
            "  inflating: images/val/image_val_36.jpg  \n",
            "  inflating: images/val/image_val_37.jpg  \n",
            "  inflating: images/val/image_val_38.jpg  \n",
            "  inflating: images/val/image_val_39.jpg  \n",
            "  inflating: images/val/image_val_4.jpg  \n",
            "  inflating: images/val/image_val_40.jpg  \n",
            "  inflating: images/val/image_val_41.jpg  \n",
            "  inflating: images/val/image_val_42.jpg  \n",
            "  inflating: images/val/image_val_43.jpg  \n",
            "  inflating: images/val/image_val_44.jpg  \n",
            "  inflating: images/val/image_val_45.jpg  \n",
            "  inflating: images/val/image_val_46.jpg  \n",
            "  inflating: images/val/image_val_47.jpg  \n",
            "  inflating: images/val/image_val_48.jpg  \n",
            "  inflating: images/val/image_val_49.jpg  \n",
            "  inflating: images/val/image_val_5.jpg  \n",
            "  inflating: images/val/image_val_50.jpg  \n",
            "  inflating: images/val/image_val_51.jpg  \n",
            "  inflating: images/val/image_val_52.jpg  \n",
            "  inflating: images/val/image_val_53.jpg  \n",
            "  inflating: images/val/image_val_54.jpg  \n",
            "  inflating: images/val/image_val_55.jpg  \n",
            "  inflating: images/val/image_val_56.jpg  \n",
            "  inflating: images/val/image_val_57.jpg  \n",
            "  inflating: images/val/image_val_58.jpg  \n",
            "  inflating: images/val/image_val_59.jpg  \n",
            "  inflating: images/val/image_val_6.jpg  \n",
            "  inflating: images/val/image_val_60.jpg  \n",
            "  inflating: images/val/image_val_61.jpg  \n",
            "  inflating: images/val/image_val_62.jpg  \n",
            "  inflating: images/val/image_val_63.jpg  \n",
            "  inflating: images/val/image_val_64.jpg  \n",
            "  inflating: images/val/image_val_65.jpg  \n",
            "  inflating: images/val/image_val_66.jpg  \n",
            "  inflating: images/val/image_val_67.jpg  \n",
            "  inflating: images/val/image_val_68.jpg  \n",
            "  inflating: images/val/image_val_69.jpg  \n",
            "  inflating: images/val/image_val_7.jpg  \n",
            "  inflating: images/val/image_val_70.jpg  \n",
            "  inflating: images/val/image_val_71.jpg  \n",
            "  inflating: images/val/image_val_72.jpg  \n",
            "  inflating: images/val/image_val_73.jpg  \n",
            "  inflating: images/val/image_val_74.jpg  \n",
            "  inflating: images/val/image_val_75.jpg  \n",
            "  inflating: images/val/image_val_76.jpg  \n",
            "  inflating: images/val/image_val_77.jpg  \n",
            "  inflating: images/val/image_val_78.jpg  \n",
            "  inflating: images/val/image_val_79.jpg  \n",
            "  inflating: images/val/image_val_8.jpg  \n",
            "  inflating: images/val/image_val_80.jpg  \n",
            "  inflating: images/val/image_val_81.jpg  \n",
            "  inflating: images/val/image_val_82.jpg  \n",
            "  inflating: images/val/image_val_83.jpg  \n",
            "  inflating: images/val/image_val_84.jpg  \n",
            "  inflating: images/val/image_val_85.jpg  \n",
            "  inflating: images/val/image_val_86.jpg  \n",
            "  inflating: images/val/image_val_87.jpg  \n",
            "  inflating: images/val/image_val_88.jpg  \n",
            "  inflating: images/val/image_val_89.jpg  \n",
            "  inflating: images/val/image_val_9.jpg  \n",
            "  inflating: images/val/image_val_90.jpg  \n",
            "  inflating: images/val/image_val_91.jpg  \n",
            "  inflating: images/val/image_val_92.jpg  \n",
            "  inflating: images/val/image_val_93.jpg  \n",
            "  inflating: images/val/image_val_94.jpg  \n",
            "  inflating: images/val/image_val_95.jpg  \n",
            "  inflating: images/val/image_val_96.jpg  \n",
            "  inflating: images/val/image_val_97.jpg  \n",
            "  inflating: images/val/image_val_98.jpg  \n",
            "  inflating: images/val/image_val_99.jpg  \n",
            "  inflating: labels/train/image_0.txt  \n",
            "  inflating: labels/train/image_1.txt  \n",
            "  inflating: labels/train/image_10.txt  \n",
            "  inflating: labels/train/image_100.txt  \n",
            "  inflating: labels/train/image_101.txt  \n",
            "  inflating: labels/train/image_102.txt  \n",
            "  inflating: labels/train/image_103.txt  \n",
            "  inflating: labels/train/image_104.txt  \n",
            "  inflating: labels/train/image_105.txt  \n",
            "  inflating: labels/train/image_106.txt  \n",
            "  inflating: labels/train/image_107.txt  \n",
            "  inflating: labels/train/image_108.txt  \n",
            "  inflating: labels/train/image_109.txt  \n",
            "  inflating: labels/train/image_11.txt  \n",
            "  inflating: labels/train/image_110.txt  \n",
            "  inflating: labels/train/image_111.txt  \n",
            "  inflating: labels/train/image_112.txt  \n",
            "  inflating: labels/train/image_113.txt  \n",
            "  inflating: labels/train/image_114.txt  \n",
            "  inflating: labels/train/image_115.txt  \n",
            "  inflating: labels/train/image_116.txt  \n",
            "  inflating: labels/train/image_117.txt  \n",
            "  inflating: labels/train/image_118.txt  \n",
            "  inflating: labels/train/image_119.txt  \n",
            "  inflating: labels/train/image_12.txt  \n",
            "  inflating: labels/train/image_120.txt  \n",
            "  inflating: labels/train/image_121.txt  \n",
            "  inflating: labels/train/image_122.txt  \n",
            "  inflating: labels/train/image_123.txt  \n",
            "  inflating: labels/train/image_124.txt  \n",
            "  inflating: labels/train/image_125.txt  \n",
            "  inflating: labels/train/image_126.txt  \n",
            "  inflating: labels/train/image_127.txt  \n",
            "  inflating: labels/train/image_128.txt  \n",
            "  inflating: labels/train/image_129.txt  \n",
            "  inflating: labels/train/image_13.txt  \n",
            "  inflating: labels/train/image_130.txt  \n",
            "  inflating: labels/train/image_131.txt  \n",
            "  inflating: labels/train/image_132.txt  \n",
            "  inflating: labels/train/image_133.txt  \n",
            "  inflating: labels/train/image_134.txt  \n",
            "  inflating: labels/train/image_135.txt  \n",
            "  inflating: labels/train/image_136.txt  \n",
            "  inflating: labels/train/image_137.txt  \n",
            "  inflating: labels/train/image_138.txt  \n",
            "  inflating: labels/train/image_139.txt  \n",
            "  inflating: labels/train/image_14.txt  \n",
            "  inflating: labels/train/image_140.txt  \n",
            "  inflating: labels/train/image_141.txt  \n",
            "  inflating: labels/train/image_142.txt  \n",
            "  inflating: labels/train/image_143.txt  \n",
            "  inflating: labels/train/image_144.txt  \n",
            "  inflating: labels/train/image_145.txt  \n",
            "  inflating: labels/train/image_146.txt  \n",
            "  inflating: labels/train/image_147.txt  \n",
            "  inflating: labels/train/image_148.txt  \n",
            "  inflating: labels/train/image_149.txt  \n",
            "  inflating: labels/train/image_15.txt  \n",
            "  inflating: labels/train/image_150.txt  \n",
            "  inflating: labels/train/image_151.txt  \n",
            "  inflating: labels/train/image_152.txt  \n",
            "  inflating: labels/train/image_153.txt  \n",
            "  inflating: labels/train/image_154.txt  \n",
            "  inflating: labels/train/image_155.txt  \n",
            "  inflating: labels/train/image_156.txt  \n",
            "  inflating: labels/train/image_157.txt  \n",
            "  inflating: labels/train/image_158.txt  \n",
            "  inflating: labels/train/image_159.txt  \n",
            "  inflating: labels/train/image_16.txt  \n",
            "  inflating: labels/train/image_160.txt  \n",
            "  inflating: labels/train/image_161.txt  \n",
            "  inflating: labels/train/image_162.txt  \n",
            "  inflating: labels/train/image_163.txt  \n",
            "  inflating: labels/train/image_164.txt  \n",
            "  inflating: labels/train/image_165.txt  \n",
            "  inflating: labels/train/image_166.txt  \n",
            "  inflating: labels/train/image_167.txt  \n",
            "  inflating: labels/train/image_168.txt  \n",
            "  inflating: labels/train/image_169.txt  \n",
            "  inflating: labels/train/image_17.txt  \n",
            "  inflating: labels/train/image_170.txt  \n",
            "  inflating: labels/train/image_171.txt  \n",
            "  inflating: labels/train/image_172.txt  \n",
            "  inflating: labels/train/image_173.txt  \n",
            "  inflating: labels/train/image_174.txt  \n",
            "  inflating: labels/train/image_175.txt  \n",
            "  inflating: labels/train/image_176.txt  \n",
            "  inflating: labels/train/image_177.txt  \n",
            "  inflating: labels/train/image_178.txt  \n",
            "  inflating: labels/train/image_179.txt  \n",
            "  inflating: labels/train/image_18.txt  \n",
            "  inflating: labels/train/image_180.txt  \n",
            "  inflating: labels/train/image_181.txt  \n",
            "  inflating: labels/train/image_182.txt  \n",
            "  inflating: labels/train/image_183.txt  \n",
            "  inflating: labels/train/image_184.txt  \n",
            "  inflating: labels/train/image_185.txt  \n",
            "  inflating: labels/train/image_186.txt  \n",
            "  inflating: labels/train/image_187.txt  \n",
            "  inflating: labels/train/image_188.txt  \n",
            "  inflating: labels/train/image_189.txt  \n",
            "  inflating: labels/train/image_19.txt  \n",
            "  inflating: labels/train/image_190.txt  \n",
            "  inflating: labels/train/image_191.txt  \n",
            "  inflating: labels/train/image_192.txt  \n",
            "  inflating: labels/train/image_193.txt  \n",
            "  inflating: labels/train/image_194.txt  \n",
            "  inflating: labels/train/image_195.txt  \n",
            "  inflating: labels/train/image_196.txt  \n",
            "  inflating: labels/train/image_197.txt  \n",
            "  inflating: labels/train/image_198.txt  \n",
            "  inflating: labels/train/image_199.txt  \n",
            "  inflating: labels/train/image_2.txt  \n",
            "  inflating: labels/train/image_20.txt  \n",
            "  inflating: labels/train/image_200.txt  \n",
            "  inflating: labels/train/image_201.txt  \n",
            "  inflating: labels/train/image_202.txt  \n",
            "  inflating: labels/train/image_203.txt  \n",
            "  inflating: labels/train/image_204.txt  \n",
            "  inflating: labels/train/image_205.txt  \n",
            "  inflating: labels/train/image_206.txt  \n",
            "  inflating: labels/train/image_207.txt  \n",
            "  inflating: labels/train/image_208.txt  \n",
            "  inflating: labels/train/image_209.txt  \n",
            "  inflating: labels/train/image_21.txt  \n",
            "  inflating: labels/train/image_210.txt  \n",
            "  inflating: labels/train/image_211.txt  \n",
            "  inflating: labels/train/image_212.txt  \n",
            "  inflating: labels/train/image_213.txt  \n",
            "  inflating: labels/train/image_214.txt  \n",
            "  inflating: labels/train/image_215.txt  \n",
            "  inflating: labels/train/image_216.txt  \n",
            "  inflating: labels/train/image_217.txt  \n",
            "  inflating: labels/train/image_218.txt  \n",
            "  inflating: labels/train/image_219.txt  \n",
            "  inflating: labels/train/image_22.txt  \n",
            "  inflating: labels/train/image_220.txt  \n",
            "  inflating: labels/train/image_221.txt  \n",
            "  inflating: labels/train/image_222.txt  \n",
            "  inflating: labels/train/image_223.txt  \n",
            "  inflating: labels/train/image_224.txt  \n",
            "  inflating: labels/train/image_225.txt  \n",
            "  inflating: labels/train/image_226.txt  \n",
            "  inflating: labels/train/image_227.txt  \n",
            "  inflating: labels/train/image_228.txt  \n",
            "  inflating: labels/train/image_229.txt  \n",
            "  inflating: labels/train/image_23.txt  \n",
            "  inflating: labels/train/image_230.txt  \n",
            "  inflating: labels/train/image_231.txt  \n",
            "  inflating: labels/train/image_232.txt  \n",
            "  inflating: labels/train/image_233.txt  \n",
            "  inflating: labels/train/image_234.txt  \n",
            "  inflating: labels/train/image_235.txt  \n",
            "  inflating: labels/train/image_236.txt  \n",
            "  inflating: labels/train/image_237.txt  \n",
            "  inflating: labels/train/image_238.txt  \n",
            "  inflating: labels/train/image_239.txt  \n",
            "  inflating: labels/train/image_24.txt  \n",
            "  inflating: labels/train/image_240.txt  \n",
            "  inflating: labels/train/image_241.txt  \n",
            "  inflating: labels/train/image_242.txt  \n",
            "  inflating: labels/train/image_243.txt  \n",
            "  inflating: labels/train/image_244.txt  \n",
            "  inflating: labels/train/image_245.txt  \n",
            "  inflating: labels/train/image_246.txt  \n",
            "  inflating: labels/train/image_247.txt  \n",
            "  inflating: labels/train/image_248.txt  \n",
            "  inflating: labels/train/image_249.txt  \n",
            "  inflating: labels/train/image_25.txt  \n",
            "  inflating: labels/train/image_250.txt  \n",
            "  inflating: labels/train/image_251.txt  \n",
            "  inflating: labels/train/image_252.txt  \n",
            "  inflating: labels/train/image_253.txt  \n",
            "  inflating: labels/train/image_254.txt  \n",
            "  inflating: labels/train/image_255.txt  \n",
            "  inflating: labels/train/image_256.txt  \n",
            "  inflating: labels/train/image_257.txt  \n",
            "  inflating: labels/train/image_258.txt  \n",
            "  inflating: labels/train/image_259.txt  \n",
            "  inflating: labels/train/image_26.txt  \n",
            "  inflating: labels/train/image_260.txt  \n",
            "  inflating: labels/train/image_261.txt  \n",
            "  inflating: labels/train/image_262.txt  \n",
            "  inflating: labels/train/image_263.txt  \n",
            "  inflating: labels/train/image_264.txt  \n",
            "  inflating: labels/train/image_265.txt  \n",
            "  inflating: labels/train/image_266.txt  \n",
            "  inflating: labels/train/image_267.txt  \n",
            "  inflating: labels/train/image_268.txt  \n",
            "  inflating: labels/train/image_269.txt  \n",
            "  inflating: labels/train/image_27.txt  \n",
            "  inflating: labels/train/image_270.txt  \n",
            "  inflating: labels/train/image_271.txt  \n",
            "  inflating: labels/train/image_272.txt  \n",
            "  inflating: labels/train/image_273.txt  \n",
            "  inflating: labels/train/image_274.txt  \n",
            "  inflating: labels/train/image_275.txt  \n",
            "  inflating: labels/train/image_276.txt  \n",
            "  inflating: labels/train/image_277.txt  \n",
            "  inflating: labels/train/image_278.txt  \n",
            "  inflating: labels/train/image_279.txt  \n",
            "  inflating: labels/train/image_28.txt  \n",
            "  inflating: labels/train/image_280.txt  \n",
            "  inflating: labels/train/image_281.txt  \n",
            "  inflating: labels/train/image_282.txt  \n",
            "  inflating: labels/train/image_283.txt  \n",
            "  inflating: labels/train/image_284.txt  \n",
            "  inflating: labels/train/image_285.txt  \n",
            "  inflating: labels/train/image_286.txt  \n",
            "  inflating: labels/train/image_287.txt  \n",
            "  inflating: labels/train/image_288.txt  \n",
            "  inflating: labels/train/image_289.txt  \n",
            "  inflating: labels/train/image_29.txt  \n",
            "  inflating: labels/train/image_290.txt  \n",
            "  inflating: labels/train/image_291.txt  \n",
            "  inflating: labels/train/image_292.txt  \n",
            "  inflating: labels/train/image_293.txt  \n",
            "  inflating: labels/train/image_294.txt  \n",
            "  inflating: labels/train/image_295.txt  \n",
            "  inflating: labels/train/image_296.txt  \n",
            "  inflating: labels/train/image_297.txt  \n",
            "  inflating: labels/train/image_298.txt  \n",
            "  inflating: labels/train/image_299.txt  \n",
            "  inflating: labels/train/image_3.txt  \n",
            "  inflating: labels/train/image_30.txt  \n",
            "  inflating: labels/train/image_300.txt  \n",
            "  inflating: labels/train/image_301.txt  \n",
            "  inflating: labels/train/image_302.txt  \n",
            "  inflating: labels/train/image_303.txt  \n",
            "  inflating: labels/train/image_304.txt  \n",
            "  inflating: labels/train/image_305.txt  \n",
            "  inflating: labels/train/image_306.txt  \n",
            "  inflating: labels/train/image_307.txt  \n",
            "  inflating: labels/train/image_308.txt  \n",
            "  inflating: labels/train/image_309.txt  \n",
            "  inflating: labels/train/image_31.txt  \n",
            "  inflating: labels/train/image_310.txt  \n",
            "  inflating: labels/train/image_311.txt  \n",
            "  inflating: labels/train/image_312.txt  \n",
            "  inflating: labels/train/image_313.txt  \n",
            "  inflating: labels/train/image_314.txt  \n",
            "  inflating: labels/train/image_315.txt  \n",
            "  inflating: labels/train/image_316.txt  \n",
            "  inflating: labels/train/image_317.txt  \n",
            "  inflating: labels/train/image_318.txt  \n",
            "  inflating: labels/train/image_319.txt  \n",
            "  inflating: labels/train/image_32.txt  \n",
            "  inflating: labels/train/image_320.txt  \n",
            "  inflating: labels/train/image_321.txt  \n",
            "  inflating: labels/train/image_322.txt  \n",
            "  inflating: labels/train/image_323.txt  \n",
            "  inflating: labels/train/image_324.txt  \n",
            "  inflating: labels/train/image_325.txt  \n",
            "  inflating: labels/train/image_326.txt  \n",
            "  inflating: labels/train/image_327.txt  \n",
            "  inflating: labels/train/image_328.txt  \n",
            "  inflating: labels/train/image_329.txt  \n",
            "  inflating: labels/train/image_33.txt  \n",
            "  inflating: labels/train/image_330.txt  \n",
            "  inflating: labels/train/image_331.txt  \n",
            "  inflating: labels/train/image_332.txt  \n",
            "  inflating: labels/train/image_333.txt  \n",
            "  inflating: labels/train/image_334.txt  \n",
            "  inflating: labels/train/image_335.txt  \n",
            "  inflating: labels/train/image_336.txt  \n",
            "  inflating: labels/train/image_337.txt  \n",
            "  inflating: labels/train/image_338.txt  \n",
            "  inflating: labels/train/image_339.txt  \n",
            "  inflating: labels/train/image_34.txt  \n",
            "  inflating: labels/train/image_340.txt  \n",
            "  inflating: labels/train/image_341.txt  \n",
            "  inflating: labels/train/image_342.txt  \n",
            "  inflating: labels/train/image_343.txt  \n",
            "  inflating: labels/train/image_344.txt  \n",
            "  inflating: labels/train/image_345.txt  \n",
            "  inflating: labels/train/image_346.txt  \n",
            "  inflating: labels/train/image_347.txt  \n",
            "  inflating: labels/train/image_348.txt  \n",
            "  inflating: labels/train/image_349.txt  \n",
            "  inflating: labels/train/image_35.txt  \n",
            "  inflating: labels/train/image_350.txt  \n",
            "  inflating: labels/train/image_351.txt  \n",
            "  inflating: labels/train/image_352.txt  \n",
            "  inflating: labels/train/image_353.txt  \n",
            "  inflating: labels/train/image_354.txt  \n",
            "  inflating: labels/train/image_355.txt  \n",
            "  inflating: labels/train/image_356.txt  \n",
            "  inflating: labels/train/image_357.txt  \n",
            "  inflating: labels/train/image_358.txt  \n",
            "  inflating: labels/train/image_359.txt  \n",
            "  inflating: labels/train/image_36.txt  \n",
            "  inflating: labels/train/image_360.txt  \n",
            "  inflating: labels/train/image_361.txt  \n",
            "  inflating: labels/train/image_362.txt  \n",
            "  inflating: labels/train/image_363.txt  \n",
            "  inflating: labels/train/image_364.txt  \n",
            "  inflating: labels/train/image_365.txt  \n",
            "  inflating: labels/train/image_366.txt  \n",
            "  inflating: labels/train/image_367.txt  \n",
            "  inflating: labels/train/image_368.txt  \n",
            "  inflating: labels/train/image_369.txt  \n",
            "  inflating: labels/train/image_37.txt  \n",
            "  inflating: labels/train/image_370.txt  \n",
            "  inflating: labels/train/image_371.txt  \n",
            "  inflating: labels/train/image_372.txt  \n",
            "  inflating: labels/train/image_373.txt  \n",
            "  inflating: labels/train/image_374.txt  \n",
            "  inflating: labels/train/image_375.txt  \n",
            "  inflating: labels/train/image_376.txt  \n",
            "  inflating: labels/train/image_377.txt  \n",
            "  inflating: labels/train/image_378.txt  \n",
            "  inflating: labels/train/image_379.txt  \n",
            "  inflating: labels/train/image_38.txt  \n",
            "  inflating: labels/train/image_380.txt  \n",
            "  inflating: labels/train/image_381.txt  \n",
            "  inflating: labels/train/image_382.txt  \n",
            "  inflating: labels/train/image_383.txt  \n",
            "  inflating: labels/train/image_384.txt  \n",
            "  inflating: labels/train/image_385.txt  \n",
            "  inflating: labels/train/image_386.txt  \n",
            "  inflating: labels/train/image_387.txt  \n",
            "  inflating: labels/train/image_388.txt  \n",
            "  inflating: labels/train/image_389.txt  \n",
            "  inflating: labels/train/image_39.txt  \n",
            "  inflating: labels/train/image_390.txt  \n",
            "  inflating: labels/train/image_391.txt  \n",
            "  inflating: labels/train/image_392.txt  \n",
            "  inflating: labels/train/image_393.txt  \n",
            "  inflating: labels/train/image_394.txt  \n",
            "  inflating: labels/train/image_395.txt  \n",
            "  inflating: labels/train/image_396.txt  \n",
            "  inflating: labels/train/image_397.txt  \n",
            "  inflating: labels/train/image_398.txt  \n",
            "  inflating: labels/train/image_399.txt  \n",
            "  inflating: labels/train/image_4.txt  \n",
            "  inflating: labels/train/image_40.txt  \n",
            "  inflating: labels/train/image_400.txt  \n",
            "  inflating: labels/train/image_401.txt  \n",
            "  inflating: labels/train/image_402.txt  \n",
            "  inflating: labels/train/image_403.txt  \n",
            "  inflating: labels/train/image_404.txt  \n",
            "  inflating: labels/train/image_405.txt  \n",
            "  inflating: labels/train/image_406.txt  \n",
            "  inflating: labels/train/image_407.txt  \n",
            "  inflating: labels/train/image_408.txt  \n",
            "  inflating: labels/train/image_409.txt  \n",
            "  inflating: labels/train/image_41.txt  \n",
            "  inflating: labels/train/image_410.txt  \n",
            "  inflating: labels/train/image_411.txt  \n",
            "  inflating: labels/train/image_412.txt  \n",
            "  inflating: labels/train/image_413.txt  \n",
            "  inflating: labels/train/image_414.txt  \n",
            "  inflating: labels/train/image_415.txt  \n",
            "  inflating: labels/train/image_416.txt  \n",
            "  inflating: labels/train/image_417.txt  \n",
            "  inflating: labels/train/image_418.txt  \n",
            "  inflating: labels/train/image_419.txt  \n",
            "  inflating: labels/train/image_42.txt  \n",
            "  inflating: labels/train/image_420.txt  \n",
            "  inflating: labels/train/image_421.txt  \n",
            "  inflating: labels/train/image_422.txt  \n",
            "  inflating: labels/train/image_423.txt  \n",
            "  inflating: labels/train/image_424.txt  \n",
            "  inflating: labels/train/image_425.txt  \n",
            "  inflating: labels/train/image_426.txt  \n",
            "  inflating: labels/train/image_427.txt  \n",
            "  inflating: labels/train/image_428.txt  \n",
            "  inflating: labels/train/image_429.txt  \n",
            "  inflating: labels/train/image_43.txt  \n",
            "  inflating: labels/train/image_430.txt  \n",
            "  inflating: labels/train/image_431.txt  \n",
            "  inflating: labels/train/image_432.txt  \n",
            "  inflating: labels/train/image_433.txt  \n",
            "  inflating: labels/train/image_434.txt  \n",
            "  inflating: labels/train/image_435.txt  \n",
            "  inflating: labels/train/image_436.txt  \n",
            "  inflating: labels/train/image_437.txt  \n",
            "  inflating: labels/train/image_438.txt  \n",
            "  inflating: labels/train/image_439.txt  \n",
            "  inflating: labels/train/image_44.txt  \n",
            "  inflating: labels/train/image_440.txt  \n",
            "  inflating: labels/train/image_441.txt  \n",
            "  inflating: labels/train/image_442.txt  \n",
            "  inflating: labels/train/image_443.txt  \n",
            "  inflating: labels/train/image_444.txt  \n",
            "  inflating: labels/train/image_445.txt  \n",
            "  inflating: labels/train/image_446.txt  \n",
            "  inflating: labels/train/image_447.txt  \n",
            "  inflating: labels/train/image_448.txt  \n",
            "  inflating: labels/train/image_449.txt  \n",
            "  inflating: labels/train/image_45.txt  \n",
            "  inflating: labels/train/image_450.txt  \n",
            "  inflating: labels/train/image_451.txt  \n",
            "  inflating: labels/train/image_452.txt  \n",
            "  inflating: labels/train/image_453.txt  \n",
            "  inflating: labels/train/image_454.txt  \n",
            "  inflating: labels/train/image_455.txt  \n",
            "  inflating: labels/train/image_456.txt  \n",
            "  inflating: labels/train/image_457.txt  \n",
            "  inflating: labels/train/image_458.txt  \n",
            "  inflating: labels/train/image_459.txt  \n",
            "  inflating: labels/train/image_46.txt  \n",
            "  inflating: labels/train/image_460.txt  \n",
            "  inflating: labels/train/image_461.txt  \n",
            "  inflating: labels/train/image_462.txt  \n",
            "  inflating: labels/train/image_463.txt  \n",
            "  inflating: labels/train/image_464.txt  \n",
            "  inflating: labels/train/image_465.txt  \n",
            "  inflating: labels/train/image_466.txt  \n",
            "  inflating: labels/train/image_467.txt  \n",
            "  inflating: labels/train/image_468.txt  \n",
            "  inflating: labels/train/image_469.txt  \n",
            "  inflating: labels/train/image_47.txt  \n",
            "  inflating: labels/train/image_470.txt  \n",
            "  inflating: labels/train/image_471.txt  \n",
            "  inflating: labels/train/image_472.txt  \n",
            "  inflating: labels/train/image_473.txt  \n",
            "  inflating: labels/train/image_474.txt  \n",
            "  inflating: labels/train/image_475.txt  \n",
            "  inflating: labels/train/image_476.txt  \n",
            "  inflating: labels/train/image_477.txt  \n",
            "  inflating: labels/train/image_478.txt  \n",
            "  inflating: labels/train/image_479.txt  \n",
            "  inflating: labels/train/image_48.txt  \n",
            "  inflating: labels/train/image_480.txt  \n",
            "  inflating: labels/train/image_481.txt  \n",
            "  inflating: labels/train/image_482.txt  \n",
            "  inflating: labels/train/image_483.txt  \n",
            "  inflating: labels/train/image_484.txt  \n",
            "  inflating: labels/train/image_485.txt  \n",
            "  inflating: labels/train/image_486.txt  \n",
            "  inflating: labels/train/image_487.txt  \n",
            "  inflating: labels/train/image_488.txt  \n",
            "  inflating: labels/train/image_489.txt  \n",
            "  inflating: labels/train/image_49.txt  \n",
            "  inflating: labels/train/image_490.txt  \n",
            "  inflating: labels/train/image_491.txt  \n",
            "  inflating: labels/train/image_492.txt  \n",
            "  inflating: labels/train/image_493.txt  \n",
            "  inflating: labels/train/image_494.txt  \n",
            "  inflating: labels/train/image_495.txt  \n",
            "  inflating: labels/train/image_496.txt  \n",
            "  inflating: labels/train/image_497.txt  \n",
            "  inflating: labels/train/image_498.txt  \n",
            "  inflating: labels/train/image_499.txt  \n",
            "  inflating: labels/train/image_5.txt  \n",
            "  inflating: labels/train/image_50.txt  \n",
            "  inflating: labels/train/image_500.txt  \n",
            "  inflating: labels/train/image_501.txt  \n",
            "  inflating: labels/train/image_502.txt  \n",
            "  inflating: labels/train/image_503.txt  \n",
            "  inflating: labels/train/image_504.txt  \n",
            "  inflating: labels/train/image_505.txt  \n",
            "  inflating: labels/train/image_506.txt  \n",
            "  inflating: labels/train/image_507.txt  \n",
            "  inflating: labels/train/image_508.txt  \n",
            "  inflating: labels/train/image_509.txt  \n",
            "  inflating: labels/train/image_51.txt  \n",
            "  inflating: labels/train/image_510.txt  \n",
            "  inflating: labels/train/image_511.txt  \n",
            "  inflating: labels/train/image_512.txt  \n",
            "  inflating: labels/train/image_513.txt  \n",
            "  inflating: labels/train/image_514.txt  \n",
            "  inflating: labels/train/image_515.txt  \n",
            "  inflating: labels/train/image_516.txt  \n",
            "  inflating: labels/train/image_517.txt  \n",
            "  inflating: labels/train/image_518.txt  \n",
            "  inflating: labels/train/image_519.txt  \n",
            "  inflating: labels/train/image_52.txt  \n",
            "  inflating: labels/train/image_520.txt  \n",
            "  inflating: labels/train/image_521.txt  \n",
            "  inflating: labels/train/image_522.txt  \n",
            "  inflating: labels/train/image_523.txt  \n",
            "  inflating: labels/train/image_524.txt  \n",
            "  inflating: labels/train/image_525.txt  \n",
            "  inflating: labels/train/image_526.txt  \n",
            "  inflating: labels/train/image_527.txt  \n",
            "  inflating: labels/train/image_528.txt  \n",
            "  inflating: labels/train/image_529.txt  \n",
            "  inflating: labels/train/image_53.txt  \n",
            "  inflating: labels/train/image_530.txt  \n",
            "  inflating: labels/train/image_531.txt  \n",
            "  inflating: labels/train/image_532.txt  \n",
            "  inflating: labels/train/image_533.txt  \n",
            "  inflating: labels/train/image_534.txt  \n",
            "  inflating: labels/train/image_535.txt  \n",
            "  inflating: labels/train/image_536.txt  \n",
            "  inflating: labels/train/image_537.txt  \n",
            "  inflating: labels/train/image_538.txt  \n",
            "  inflating: labels/train/image_539.txt  \n",
            "  inflating: labels/train/image_54.txt  \n",
            "  inflating: labels/train/image_540.txt  \n",
            "  inflating: labels/train/image_541.txt  \n",
            "  inflating: labels/train/image_542.txt  \n",
            "  inflating: labels/train/image_543.txt  \n",
            "  inflating: labels/train/image_544.txt  \n",
            "  inflating: labels/train/image_545.txt  \n",
            "  inflating: labels/train/image_546.txt  \n",
            "  inflating: labels/train/image_547.txt  \n",
            "  inflating: labels/train/image_548.txt  \n",
            "  inflating: labels/train/image_549.txt  \n",
            "  inflating: labels/train/image_55.txt  \n",
            "  inflating: labels/train/image_550.txt  \n",
            "  inflating: labels/train/image_551.txt  \n",
            "  inflating: labels/train/image_552.txt  \n",
            "  inflating: labels/train/image_553.txt  \n",
            "  inflating: labels/train/image_554.txt  \n",
            "  inflating: labels/train/image_555.txt  \n",
            "  inflating: labels/train/image_556.txt  \n",
            "  inflating: labels/train/image_557.txt  \n",
            "  inflating: labels/train/image_558.txt  \n",
            "  inflating: labels/train/image_559.txt  \n",
            "  inflating: labels/train/image_56.txt  \n",
            "  inflating: labels/train/image_560.txt  \n",
            "  inflating: labels/train/image_561.txt  \n",
            "  inflating: labels/train/image_562.txt  \n",
            "  inflating: labels/train/image_563.txt  \n",
            "  inflating: labels/train/image_564.txt  \n",
            "  inflating: labels/train/image_565.txt  \n",
            "  inflating: labels/train/image_566.txt  \n",
            "  inflating: labels/train/image_567.txt  \n",
            "  inflating: labels/train/image_568.txt  \n",
            "  inflating: labels/train/image_569.txt  \n",
            "  inflating: labels/train/image_57.txt  \n",
            "  inflating: labels/train/image_570.txt  \n",
            "  inflating: labels/train/image_571.txt  \n",
            "  inflating: labels/train/image_572.txt  \n",
            "  inflating: labels/train/image_573.txt  \n",
            "  inflating: labels/train/image_574.txt  \n",
            "  inflating: labels/train/image_575.txt  \n",
            "  inflating: labels/train/image_576.txt  \n",
            "  inflating: labels/train/image_577.txt  \n",
            "  inflating: labels/train/image_578.txt  \n",
            "  inflating: labels/train/image_579.txt  \n",
            "  inflating: labels/train/image_58.txt  \n",
            "  inflating: labels/train/image_580.txt  \n",
            "  inflating: labels/train/image_581.txt  \n",
            "  inflating: labels/train/image_582.txt  \n",
            "  inflating: labels/train/image_583.txt  \n",
            "  inflating: labels/train/image_584.txt  \n",
            "  inflating: labels/train/image_585.txt  \n",
            "  inflating: labels/train/image_586.txt  \n",
            "  inflating: labels/train/image_587.txt  \n",
            "  inflating: labels/train/image_588.txt  \n",
            "  inflating: labels/train/image_589.txt  \n",
            "  inflating: labels/train/image_59.txt  \n",
            "  inflating: labels/train/image_590.txt  \n",
            "  inflating: labels/train/image_591.txt  \n",
            "  inflating: labels/train/image_592.txt  \n",
            "  inflating: labels/train/image_593.txt  \n",
            "  inflating: labels/train/image_594.txt  \n",
            "  inflating: labels/train/image_595.txt  \n",
            "  inflating: labels/train/image_596.txt  \n",
            "  inflating: labels/train/image_597.txt  \n",
            "  inflating: labels/train/image_598.txt  \n",
            "  inflating: labels/train/image_599.txt  \n",
            "  inflating: labels/train/image_6.txt  \n",
            "  inflating: labels/train/image_60.txt  \n",
            "  inflating: labels/train/image_600.txt  \n",
            "  inflating: labels/train/image_601.txt  \n",
            "  inflating: labels/train/image_602.txt  \n",
            "  inflating: labels/train/image_603.txt  \n",
            "  inflating: labels/train/image_604.txt  \n",
            "  inflating: labels/train/image_605.txt  \n",
            "  inflating: labels/train/image_606.txt  \n",
            "  inflating: labels/train/image_607.txt  \n",
            "  inflating: labels/train/image_608.txt  \n",
            "  inflating: labels/train/image_609.txt  \n",
            "  inflating: labels/train/image_61.txt  \n",
            "  inflating: labels/train/image_610.txt  \n",
            "  inflating: labels/train/image_611.txt  \n",
            "  inflating: labels/train/image_612.txt  \n",
            "  inflating: labels/train/image_613.txt  \n",
            "  inflating: labels/train/image_614.txt  \n",
            "  inflating: labels/train/image_615.txt  \n",
            "  inflating: labels/train/image_616.txt  \n",
            "  inflating: labels/train/image_617.txt  \n",
            "  inflating: labels/train/image_618.txt  \n",
            "  inflating: labels/train/image_619.txt  \n",
            "  inflating: labels/train/image_62.txt  \n",
            "  inflating: labels/train/image_620.txt  \n",
            "  inflating: labels/train/image_621.txt  \n",
            "  inflating: labels/train/image_622.txt  \n",
            "  inflating: labels/train/image_623.txt  \n",
            "  inflating: labels/train/image_624.txt  \n",
            "  inflating: labels/train/image_625.txt  \n",
            "  inflating: labels/train/image_626.txt  \n",
            "  inflating: labels/train/image_627.txt  \n",
            "  inflating: labels/train/image_628.txt  \n",
            "  inflating: labels/train/image_629.txt  \n",
            "  inflating: labels/train/image_63.txt  \n",
            "  inflating: labels/train/image_630.txt  \n",
            "  inflating: labels/train/image_631.txt  \n",
            "  inflating: labels/train/image_632.txt  \n",
            "  inflating: labels/train/image_633.txt  \n",
            "  inflating: labels/train/image_634.txt  \n",
            "  inflating: labels/train/image_635.txt  \n",
            "  inflating: labels/train/image_636.txt  \n",
            "  inflating: labels/train/image_637.txt  \n",
            "  inflating: labels/train/image_638.txt  \n",
            "  inflating: labels/train/image_639.txt  \n",
            "  inflating: labels/train/image_64.txt  \n",
            "  inflating: labels/train/image_640.txt  \n",
            "  inflating: labels/train/image_641.txt  \n",
            "  inflating: labels/train/image_642.txt  \n",
            "  inflating: labels/train/image_643.txt  \n",
            "  inflating: labels/train/image_644.txt  \n",
            "  inflating: labels/train/image_645.txt  \n",
            "  inflating: labels/train/image_646.txt  \n",
            "  inflating: labels/train/image_647.txt  \n",
            "  inflating: labels/train/image_648.txt  \n",
            "  inflating: labels/train/image_649.txt  \n",
            "  inflating: labels/train/image_65.txt  \n",
            "  inflating: labels/train/image_650.txt  \n",
            "  inflating: labels/train/image_651.txt  \n",
            "  inflating: labels/train/image_652.txt  \n",
            "  inflating: labels/train/image_653.txt  \n",
            "  inflating: labels/train/image_654.txt  \n",
            "  inflating: labels/train/image_655.txt  \n",
            "  inflating: labels/train/image_656.txt  \n",
            "  inflating: labels/train/image_657.txt  \n",
            "  inflating: labels/train/image_658.txt  \n",
            "  inflating: labels/train/image_659.txt  \n",
            "  inflating: labels/train/image_66.txt  \n",
            "  inflating: labels/train/image_660.txt  \n",
            "  inflating: labels/train/image_661.txt  \n",
            "  inflating: labels/train/image_662.txt  \n",
            "  inflating: labels/train/image_663.txt  \n",
            "  inflating: labels/train/image_664.txt  \n",
            "  inflating: labels/train/image_665.txt  \n",
            "  inflating: labels/train/image_666.txt  \n",
            "  inflating: labels/train/image_667.txt  \n",
            "  inflating: labels/train/image_668.txt  \n",
            "  inflating: labels/train/image_669.txt  \n",
            "  inflating: labels/train/image_67.txt  \n",
            "  inflating: labels/train/image_670.txt  \n",
            "  inflating: labels/train/image_671.txt  \n",
            "  inflating: labels/train/image_672.txt  \n",
            "  inflating: labels/train/image_673.txt  \n",
            "  inflating: labels/train/image_674.txt  \n",
            "  inflating: labels/train/image_675.txt  \n",
            "  inflating: labels/train/image_676.txt  \n",
            "  inflating: labels/train/image_677.txt  \n",
            "  inflating: labels/train/image_678.txt  \n",
            "  inflating: labels/train/image_679.txt  \n",
            "  inflating: labels/train/image_68.txt  \n",
            "  inflating: labels/train/image_680.txt  \n",
            "  inflating: labels/train/image_681.txt  \n",
            "  inflating: labels/train/image_682.txt  \n",
            "  inflating: labels/train/image_683.txt  \n",
            "  inflating: labels/train/image_684.txt  \n",
            "  inflating: labels/train/image_685.txt  \n",
            "  inflating: labels/train/image_686.txt  \n",
            "  inflating: labels/train/image_687.txt  \n",
            "  inflating: labels/train/image_688.txt  \n",
            "  inflating: labels/train/image_689.txt  \n",
            "  inflating: labels/train/image_69.txt  \n",
            "  inflating: labels/train/image_690.txt  \n",
            "  inflating: labels/train/image_691.txt  \n",
            "  inflating: labels/train/image_692.txt  \n",
            "  inflating: labels/train/image_693.txt  \n",
            "  inflating: labels/train/image_694.txt  \n",
            "  inflating: labels/train/image_695.txt  \n",
            "  inflating: labels/train/image_696.txt  \n",
            "  inflating: labels/train/image_697.txt  \n",
            "  inflating: labels/train/image_698.txt  \n",
            "  inflating: labels/train/image_699.txt  \n",
            "  inflating: labels/train/image_7.txt  \n",
            "  inflating: labels/train/image_70.txt  \n",
            "  inflating: labels/train/image_700.txt  \n",
            "  inflating: labels/train/image_701.txt  \n",
            "  inflating: labels/train/image_702.txt  \n",
            "  inflating: labels/train/image_703.txt  \n",
            "  inflating: labels/train/image_704.txt  \n",
            "  inflating: labels/train/image_705.txt  \n",
            "  inflating: labels/train/image_706.txt  \n",
            "  inflating: labels/train/image_707.txt  \n",
            "  inflating: labels/train/image_708.txt  \n",
            "  inflating: labels/train/image_709.txt  \n",
            "  inflating: labels/train/image_71.txt  \n",
            "  inflating: labels/train/image_710.txt  \n",
            "  inflating: labels/train/image_711.txt  \n",
            "  inflating: labels/train/image_712.txt  \n",
            "  inflating: labels/train/image_713.txt  \n",
            "  inflating: labels/train/image_714.txt  \n",
            "  inflating: labels/train/image_715.txt  \n",
            "  inflating: labels/train/image_716.txt  \n",
            "  inflating: labels/train/image_717.txt  \n",
            "  inflating: labels/train/image_718.txt  \n",
            "  inflating: labels/train/image_719.txt  \n",
            "  inflating: labels/train/image_72.txt  \n",
            "  inflating: labels/train/image_720.txt  \n",
            "  inflating: labels/train/image_721.txt  \n",
            "  inflating: labels/train/image_722.txt  \n",
            "  inflating: labels/train/image_723.txt  \n",
            "  inflating: labels/train/image_724.txt  \n",
            "  inflating: labels/train/image_725.txt  \n",
            "  inflating: labels/train/image_726.txt  \n",
            "  inflating: labels/train/image_727.txt  \n",
            "  inflating: labels/train/image_728.txt  \n",
            "  inflating: labels/train/image_729.txt  \n",
            "  inflating: labels/train/image_73.txt  \n",
            "  inflating: labels/train/image_730.txt  \n",
            "  inflating: labels/train/image_731.txt  \n",
            "  inflating: labels/train/image_732.txt  \n",
            "  inflating: labels/train/image_733.txt  \n",
            "  inflating: labels/train/image_734.txt  \n",
            "  inflating: labels/train/image_735.txt  \n",
            "  inflating: labels/train/image_736.txt  \n",
            "  inflating: labels/train/image_737.txt  \n",
            "  inflating: labels/train/image_74.txt  \n",
            "  inflating: labels/train/image_75.txt  \n",
            "  inflating: labels/train/image_76.txt  \n",
            "  inflating: labels/train/image_77.txt  \n",
            "  inflating: labels/train/image_78.txt  \n",
            "  inflating: labels/train/image_79.txt  \n",
            "  inflating: labels/train/image_8.txt  \n",
            "  inflating: labels/train/image_80.txt  \n",
            "  inflating: labels/train/image_81.txt  \n",
            "  inflating: labels/train/image_82.txt  \n",
            "  inflating: labels/train/image_83.txt  \n",
            "  inflating: labels/train/image_84.txt  \n",
            "  inflating: labels/train/image_85.txt  \n",
            "  inflating: labels/train/image_86.txt  \n",
            "  inflating: labels/train/image_87.txt  \n",
            "  inflating: labels/train/image_88.txt  \n",
            "  inflating: labels/train/image_89.txt  \n",
            "  inflating: labels/train/image_9.txt  \n",
            "  inflating: labels/train/image_90.txt  \n",
            "  inflating: labels/train/image_91.txt  \n",
            "  inflating: labels/train/image_92.txt  \n",
            "  inflating: labels/train/image_93.txt  \n",
            "  inflating: labels/train/image_94.txt  \n",
            "  inflating: labels/train/image_95.txt  \n",
            "  inflating: labels/train/image_96.txt  \n",
            "  inflating: labels/train/image_97.txt  \n",
            "  inflating: labels/train/image_98.txt  \n",
            "  inflating: labels/train/image_99.txt  \n",
            "  inflating: labels/val/image_val_0.txt  \n",
            "  inflating: labels/val/image_val_1.txt  \n",
            "  inflating: labels/val/image_val_10.txt  \n",
            "  inflating: labels/val/image_val_100.txt  \n",
            "  inflating: labels/val/image_val_101.txt  \n",
            "  inflating: labels/val/image_val_102.txt  \n",
            "  inflating: labels/val/image_val_103.txt  \n",
            "  inflating: labels/val/image_val_104.txt  \n",
            "  inflating: labels/val/image_val_105.txt  \n",
            "  inflating: labels/val/image_val_106.txt  \n",
            "  inflating: labels/val/image_val_107.txt  \n",
            "  inflating: labels/val/image_val_108.txt  \n",
            "  inflating: labels/val/image_val_109.txt  \n",
            "  inflating: labels/val/image_val_11.txt  \n",
            "  inflating: labels/val/image_val_110.txt  \n",
            "  inflating: labels/val/image_val_111.txt  \n",
            "  inflating: labels/val/image_val_112.txt  \n",
            "  inflating: labels/val/image_val_113.txt  \n",
            "  inflating: labels/val/image_val_12.txt  \n",
            "  inflating: labels/val/image_val_13.txt  \n",
            "  inflating: labels/val/image_val_14.txt  \n",
            "  inflating: labels/val/image_val_15.txt  \n",
            "  inflating: labels/val/image_val_16.txt  \n",
            "  inflating: labels/val/image_val_17.txt  \n",
            "  inflating: labels/val/image_val_18.txt  \n",
            "  inflating: labels/val/image_val_19.txt  \n",
            "  inflating: labels/val/image_val_2.txt  \n",
            "  inflating: labels/val/image_val_20.txt  \n",
            "  inflating: labels/val/image_val_21.txt  \n",
            "  inflating: labels/val/image_val_22.txt  \n",
            "  inflating: labels/val/image_val_23.txt  \n",
            "  inflating: labels/val/image_val_24.txt  \n",
            "  inflating: labels/val/image_val_25.txt  \n",
            "  inflating: labels/val/image_val_26.txt  \n",
            "  inflating: labels/val/image_val_27.txt  \n",
            "  inflating: labels/val/image_val_28.txt  \n",
            "  inflating: labels/val/image_val_29.txt  \n",
            "  inflating: labels/val/image_val_3.txt  \n",
            "  inflating: labels/val/image_val_30.txt  \n",
            "  inflating: labels/val/image_val_31.txt  \n",
            "  inflating: labels/val/image_val_32.txt  \n",
            "  inflating: labels/val/image_val_33.txt  \n",
            "  inflating: labels/val/image_val_34.txt  \n",
            "  inflating: labels/val/image_val_35.txt  \n",
            "  inflating: labels/val/image_val_36.txt  \n",
            "  inflating: labels/val/image_val_37.txt  \n",
            "  inflating: labels/val/image_val_38.txt  \n",
            "  inflating: labels/val/image_val_39.txt  \n",
            "  inflating: labels/val/image_val_4.txt  \n",
            "  inflating: labels/val/image_val_40.txt  \n",
            "  inflating: labels/val/image_val_41.txt  \n",
            "  inflating: labels/val/image_val_42.txt  \n",
            "  inflating: labels/val/image_val_43.txt  \n",
            "  inflating: labels/val/image_val_44.txt  \n",
            "  inflating: labels/val/image_val_45.txt  \n",
            "  inflating: labels/val/image_val_46.txt  \n",
            "  inflating: labels/val/image_val_47.txt  \n",
            "  inflating: labels/val/image_val_48.txt  \n",
            "  inflating: labels/val/image_val_49.txt  \n",
            "  inflating: labels/val/image_val_5.txt  \n",
            "  inflating: labels/val/image_val_50.txt  \n",
            "  inflating: labels/val/image_val_51.txt  \n",
            "  inflating: labels/val/image_val_52.txt  \n",
            "  inflating: labels/val/image_val_53.txt  \n",
            "  inflating: labels/val/image_val_54.txt  \n",
            "  inflating: labels/val/image_val_55.txt  \n",
            "  inflating: labels/val/image_val_56.txt  \n",
            "  inflating: labels/val/image_val_57.txt  \n",
            "  inflating: labels/val/image_val_58.txt  \n",
            "  inflating: labels/val/image_val_59.txt  \n",
            "  inflating: labels/val/image_val_6.txt  \n",
            "  inflating: labels/val/image_val_60.txt  \n",
            "  inflating: labels/val/image_val_61.txt  \n",
            "  inflating: labels/val/image_val_62.txt  \n",
            "  inflating: labels/val/image_val_63.txt  \n",
            "  inflating: labels/val/image_val_64.txt  \n",
            "  inflating: labels/val/image_val_65.txt  \n",
            "  inflating: labels/val/image_val_66.txt  \n",
            "  inflating: labels/val/image_val_67.txt  \n",
            "  inflating: labels/val/image_val_68.txt  \n",
            "  inflating: labels/val/image_val_69.txt  \n",
            "  inflating: labels/val/image_val_7.txt  \n",
            "  inflating: labels/val/image_val_70.txt  \n",
            "  inflating: labels/val/image_val_71.txt  \n",
            "  inflating: labels/val/image_val_72.txt  \n",
            "  inflating: labels/val/image_val_73.txt  \n",
            "  inflating: labels/val/image_val_74.txt  \n",
            "  inflating: labels/val/image_val_75.txt  \n",
            "  inflating: labels/val/image_val_76.txt  \n",
            "  inflating: labels/val/image_val_77.txt  \n",
            "  inflating: labels/val/image_val_78.txt  \n",
            "  inflating: labels/val/image_val_79.txt  \n",
            "  inflating: labels/val/image_val_8.txt  \n",
            "  inflating: labels/val/image_val_80.txt  \n",
            "  inflating: labels/val/image_val_81.txt  \n",
            "  inflating: labels/val/image_val_82.txt  \n",
            "  inflating: labels/val/image_val_83.txt  \n",
            "  inflating: labels/val/image_val_84.txt  \n",
            "  inflating: labels/val/image_val_85.txt  \n",
            "  inflating: labels/val/image_val_86.txt  \n",
            "  inflating: labels/val/image_val_87.txt  \n",
            "  inflating: labels/val/image_val_88.txt  \n",
            "  inflating: labels/val/image_val_89.txt  \n",
            "  inflating: labels/val/image_val_9.txt  \n",
            "  inflating: labels/val/image_val_90.txt  \n",
            "  inflating: labels/val/image_val_91.txt  \n",
            "  inflating: labels/val/image_val_92.txt  \n",
            "  inflating: labels/val/image_val_93.txt  \n",
            "  inflating: labels/val/image_val_94.txt  \n",
            "  inflating: labels/val/image_val_95.txt  \n",
            "  inflating: labels/val/image_val_96.txt  \n",
            "  inflating: labels/val/image_val_97.txt  \n",
            "  inflating: labels/val/image_val_98.txt  \n",
            "  inflating: labels/val/image_val_99.txt  \n",
            "  inflating: data.yaml.txt           \n"
          ]
        }
      ]
    },
    {
      "cell_type": "code",
      "source": [
        "!mv data.yaml.txt data.yaml  # 라벨 파일명 수정"
      ],
      "metadata": {
        "id": "C4pKjNg2Iapw"
      },
      "execution_count": null,
      "outputs": []
    },
    {
      "cell_type": "code",
      "source": [
        "# 3. YOLOv8 모델 불러와서 학습\n",
        "from ultralytics import YOLO\n",
        "\n",
        "model = YOLO('yolov8n.pt')  # 사전학습된 yolov8m 불러오기\n",
        "\n",
        "# 학습 실행\n",
        "model.train(\n",
        "    data='data.yaml',    # 클래스 및 경로 설정 파일\n",
        "    imgsz=1024,          # 이미지 해상도\n",
        "    epochs=50,\n",
        "    batch=8,\n",
        "    name='number_detector_v8'  # 실험 이름 (runs/detect 밑에 생성됨)\n",
        ")"
      ],
      "metadata": {
        "colab": {
          "base_uri": "https://localhost:8080/"
        },
        "id": "IvmeWgqEIdDE",
        "outputId": "af09bc99-83a5-418d-f732-9ff74fed629e"
      },
      "execution_count": null,
      "outputs": [
        {
          "output_type": "stream",
          "name": "stdout",
          "text": [
            "Downloading https://github.com/ultralytics/assets/releases/download/v8.3.0/yolov8m.pt to 'yolov8m.pt'...\n"
          ]
        },
        {
          "output_type": "stream",
          "name": "stderr",
          "text": [
            "100%|██████████| 49.7M/49.7M [00:00<00:00, 304MB/s]\n"
          ]
        },
        {
          "output_type": "stream",
          "name": "stdout",
          "text": [
            "Ultralytics 8.3.127 🚀 Python-3.11.12 torch-2.6.0+cu124 CUDA:0 (Tesla T4, 15095MiB)\n",
            "\u001b[34m\u001b[1mengine/trainer: \u001b[0magnostic_nms=False, amp=True, augment=False, auto_augment=randaugment, batch=8, bgr=0.0, box=7.5, cache=False, cfg=None, classes=None, close_mosaic=10, cls=0.5, conf=None, copy_paste=0.0, copy_paste_mode=flip, cos_lr=False, cutmix=0.0, data=data.yaml, degrees=0.0, deterministic=True, device=cuda:0, dfl=1.5, dnn=False, dropout=0.0, dynamic=False, embed=None, epochs=50, erasing=0.4, exist_ok=False, fliplr=0.5, flipud=0.0, format=torchscript, fraction=1.0, freeze=None, half=False, hsv_h=0.015, hsv_s=0.7, hsv_v=0.4, imgsz=1024, int8=False, iou=0.7, keras=False, kobj=1.0, line_width=None, lr0=0.01, lrf=0.01, mask_ratio=4, max_det=300, mixup=0.0, mode=train, model=yolov8m.pt, momentum=0.937, mosaic=1.0, multi_scale=False, name=number_detector_v83, nbs=64, nms=False, opset=None, optimize=False, optimizer=auto, overlap_mask=True, patience=100, perspective=0.0, plots=True, pose=12.0, pretrained=True, profile=False, project=None, rect=False, resume=False, retina_masks=False, save=True, save_conf=False, save_crop=False, save_dir=runs/detect/number_detector_v83, save_frames=False, save_json=False, save_period=-1, save_txt=False, scale=0.5, seed=0, shear=0.0, show=False, show_boxes=True, show_conf=True, show_labels=True, simplify=True, single_cls=False, source=None, split=val, stream_buffer=False, task=detect, time=None, tracker=botsort.yaml, translate=0.1, val=True, verbose=True, vid_stride=1, visualize=False, warmup_bias_lr=0.1, warmup_epochs=3.0, warmup_momentum=0.8, weight_decay=0.0005, workers=8, workspace=None\n",
            "Overriding model.yaml nc=80 with nc=1\n",
            "\n",
            "                   from  n    params  module                                       arguments                     \n",
            "  0                  -1  1      1392  ultralytics.nn.modules.conv.Conv             [3, 48, 3, 2]                 \n",
            "  1                  -1  1     41664  ultralytics.nn.modules.conv.Conv             [48, 96, 3, 2]                \n",
            "  2                  -1  2    111360  ultralytics.nn.modules.block.C2f             [96, 96, 2, True]             \n",
            "  3                  -1  1    166272  ultralytics.nn.modules.conv.Conv             [96, 192, 3, 2]               \n",
            "  4                  -1  4    813312  ultralytics.nn.modules.block.C2f             [192, 192, 4, True]           \n",
            "  5                  -1  1    664320  ultralytics.nn.modules.conv.Conv             [192, 384, 3, 2]              \n",
            "  6                  -1  4   3248640  ultralytics.nn.modules.block.C2f             [384, 384, 4, True]           \n",
            "  7                  -1  1   1991808  ultralytics.nn.modules.conv.Conv             [384, 576, 3, 2]              \n",
            "  8                  -1  2   3985920  ultralytics.nn.modules.block.C2f             [576, 576, 2, True]           \n",
            "  9                  -1  1    831168  ultralytics.nn.modules.block.SPPF            [576, 576, 5]                 \n",
            " 10                  -1  1         0  torch.nn.modules.upsampling.Upsample         [None, 2, 'nearest']          \n",
            " 11             [-1, 6]  1         0  ultralytics.nn.modules.conv.Concat           [1]                           \n",
            " 12                  -1  2   1993728  ultralytics.nn.modules.block.C2f             [960, 384, 2]                 \n",
            " 13                  -1  1         0  torch.nn.modules.upsampling.Upsample         [None, 2, 'nearest']          \n",
            " 14             [-1, 4]  1         0  ultralytics.nn.modules.conv.Concat           [1]                           \n",
            " 15                  -1  2    517632  ultralytics.nn.modules.block.C2f             [576, 192, 2]                 \n",
            " 16                  -1  1    332160  ultralytics.nn.modules.conv.Conv             [192, 192, 3, 2]              \n",
            " 17            [-1, 12]  1         0  ultralytics.nn.modules.conv.Concat           [1]                           \n",
            " 18                  -1  2   1846272  ultralytics.nn.modules.block.C2f             [576, 384, 2]                 \n",
            " 19                  -1  1   1327872  ultralytics.nn.modules.conv.Conv             [384, 384, 3, 2]              \n",
            " 20             [-1, 9]  1         0  ultralytics.nn.modules.conv.Concat           [1]                           \n",
            " 21                  -1  2   4207104  ultralytics.nn.modules.block.C2f             [960, 576, 2]                 \n",
            " 22        [15, 18, 21]  1   3776275  ultralytics.nn.modules.head.Detect           [1, [192, 384, 576]]          \n",
            "Model summary: 169 layers, 25,856,899 parameters, 25,856,883 gradients, 79.1 GFLOPs\n",
            "\n",
            "Transferred 469/475 items from pretrained weights\n",
            "Freezing layer 'model.22.dfl.conv.weight'\n",
            "\u001b[34m\u001b[1mAMP: \u001b[0mrunning Automatic Mixed Precision (AMP) checks...\n",
            "\u001b[34m\u001b[1mAMP: \u001b[0mchecks passed ✅\n",
            "\u001b[34m\u001b[1mtrain: \u001b[0mFast image access ✅ (ping: 0.0±0.0 ms, read: 1372.0±313.9 MB/s, size: 70.9 KB)\n"
          ]
        },
        {
          "output_type": "stream",
          "name": "stderr",
          "text": [
            "\u001b[34m\u001b[1mtrain: \u001b[0mScanning /content/labels/train.cache... 738 images, 0 backgrounds, 0 corrupt: 100%|██████████| 738/738 [00:00<?, ?it/s]"
          ]
        },
        {
          "output_type": "stream",
          "name": "stdout",
          "text": [
            "\u001b[34m\u001b[1malbumentations: \u001b[0mBlur(p=0.01, blur_limit=(3, 7)), MedianBlur(p=0.01, blur_limit=(3, 7)), ToGray(p=0.01, method='weighted_average', num_output_channels=3), CLAHE(p=0.01, clip_limit=(1.0, 4.0), tile_grid_size=(8, 8))\n"
          ]
        },
        {
          "output_type": "stream",
          "name": "stderr",
          "text": [
            "\n"
          ]
        },
        {
          "output_type": "stream",
          "name": "stdout",
          "text": [
            "\u001b[34m\u001b[1mval: \u001b[0mFast image access ✅ (ping: 0.0±0.0 ms, read: 529.2±76.3 MB/s, size: 77.3 KB)\n"
          ]
        },
        {
          "output_type": "stream",
          "name": "stderr",
          "text": [
            "\u001b[34m\u001b[1mval: \u001b[0mScanning /content/labels/val.cache... 114 images, 0 backgrounds, 0 corrupt: 100%|██████████| 114/114 [00:00<?, ?it/s]\n"
          ]
        },
        {
          "output_type": "stream",
          "name": "stdout",
          "text": [
            "Plotting labels to runs/detect/number_detector_v83/labels.jpg... \n",
            "\u001b[34m\u001b[1moptimizer:\u001b[0m 'optimizer=auto' found, ignoring 'lr0=0.01' and 'momentum=0.937' and determining best 'optimizer', 'lr0' and 'momentum' automatically... \n",
            "\u001b[34m\u001b[1moptimizer:\u001b[0m AdamW(lr=0.002, momentum=0.9) with parameter groups 77 weight(decay=0.0), 84 weight(decay=0.0005), 83 bias(decay=0.0)\n",
            "Image sizes 1024 train, 1024 val\n",
            "Using 2 dataloader workers\n",
            "Logging results to \u001b[1mruns/detect/number_detector_v83\u001b[0m\n",
            "Starting training for 50 epochs...\n",
            "\n",
            "      Epoch    GPU_mem   box_loss   cls_loss   dfl_loss  Instances       Size\n"
          ]
        },
        {
          "output_type": "stream",
          "name": "stderr",
          "text": [
            "       1/50      7.97G      1.869      2.638      1.804         15       1024: 100%|██████████| 93/93 [01:00<00:00,  1.53it/s]\n",
            "                 Class     Images  Instances      Box(P          R      mAP50  mAP50-95): 100%|██████████| 8/8 [00:02<00:00,  2.96it/s]"
          ]
        },
        {
          "output_type": "stream",
          "name": "stdout",
          "text": [
            "                   all        114        284     0.0459      0.165     0.0231    0.00463\n"
          ]
        },
        {
          "output_type": "stream",
          "name": "stderr",
          "text": [
            "\n"
          ]
        },
        {
          "output_type": "stream",
          "name": "stdout",
          "text": [
            "\n",
            "      Epoch    GPU_mem   box_loss   cls_loss   dfl_loss  Instances       Size\n"
          ]
        },
        {
          "output_type": "stream",
          "name": "stderr",
          "text": [
            "       2/50      8.07G      1.741      2.307      1.727          4       1024: 100%|██████████| 93/93 [00:59<00:00,  1.57it/s]\n",
            "                 Class     Images  Instances      Box(P          R      mAP50  mAP50-95): 100%|██████████| 8/8 [00:02<00:00,  3.11it/s]"
          ]
        },
        {
          "output_type": "stream",
          "name": "stdout",
          "text": [
            "                   all        114        284     0.0907      0.461     0.0707     0.0283\n"
          ]
        },
        {
          "output_type": "stream",
          "name": "stderr",
          "text": [
            "\n"
          ]
        },
        {
          "output_type": "stream",
          "name": "stdout",
          "text": [
            "\n",
            "      Epoch    GPU_mem   box_loss   cls_loss   dfl_loss  Instances       Size\n"
          ]
        },
        {
          "output_type": "stream",
          "name": "stderr",
          "text": [
            "       3/50      8.09G       1.72      2.225      1.708          6       1024: 100%|██████████| 93/93 [00:58<00:00,  1.59it/s]\n",
            "                 Class     Images  Instances      Box(P          R      mAP50  mAP50-95): 100%|██████████| 8/8 [00:02<00:00,  2.86it/s]"
          ]
        },
        {
          "output_type": "stream",
          "name": "stdout",
          "text": [
            "                   all        114        284      0.022     0.0141    0.00826    0.00288\n"
          ]
        },
        {
          "output_type": "stream",
          "name": "stderr",
          "text": [
            "\n"
          ]
        },
        {
          "output_type": "stream",
          "name": "stdout",
          "text": [
            "\n",
            "      Epoch    GPU_mem   box_loss   cls_loss   dfl_loss  Instances       Size\n"
          ]
        },
        {
          "output_type": "stream",
          "name": "stderr",
          "text": [
            "       4/50      7.99G      1.656      2.181      1.697          6       1024: 100%|██████████| 93/93 [00:58<00:00,  1.59it/s]\n",
            "                 Class     Images  Instances      Box(P          R      mAP50  mAP50-95): 100%|██████████| 8/8 [00:02<00:00,  3.09it/s]"
          ]
        },
        {
          "output_type": "stream",
          "name": "stdout",
          "text": [
            "                   all        114        284      0.194      0.662      0.279     0.0851\n"
          ]
        },
        {
          "output_type": "stream",
          "name": "stderr",
          "text": [
            "\n"
          ]
        },
        {
          "output_type": "stream",
          "name": "stdout",
          "text": [
            "\n",
            "      Epoch    GPU_mem   box_loss   cls_loss   dfl_loss  Instances       Size\n"
          ]
        },
        {
          "output_type": "stream",
          "name": "stderr",
          "text": [
            "       5/50      7.99G      1.586      2.106      1.645         10       1024: 100%|██████████| 93/93 [00:58<00:00,  1.59it/s]\n",
            "                 Class     Images  Instances      Box(P          R      mAP50  mAP50-95): 100%|██████████| 8/8 [00:02<00:00,  2.71it/s]"
          ]
        },
        {
          "output_type": "stream",
          "name": "stdout",
          "text": [
            "                   all        114        284      0.176      0.458      0.218     0.0711\n"
          ]
        },
        {
          "output_type": "stream",
          "name": "stderr",
          "text": [
            "\n"
          ]
        },
        {
          "output_type": "stream",
          "name": "stdout",
          "text": [
            "\n",
            "      Epoch    GPU_mem   box_loss   cls_loss   dfl_loss  Instances       Size\n"
          ]
        },
        {
          "output_type": "stream",
          "name": "stderr",
          "text": [
            "       6/50      8.02G      1.545      2.093      1.614         15       1024: 100%|██████████| 93/93 [00:58<00:00,  1.60it/s]\n",
            "                 Class     Images  Instances      Box(P          R      mAP50  mAP50-95): 100%|██████████| 8/8 [00:03<00:00,  2.62it/s]"
          ]
        },
        {
          "output_type": "stream",
          "name": "stdout",
          "text": [
            "                   all        114        284       0.51      0.574      0.457      0.217\n"
          ]
        },
        {
          "output_type": "stream",
          "name": "stderr",
          "text": [
            "\n"
          ]
        },
        {
          "output_type": "stream",
          "name": "stdout",
          "text": [
            "\n",
            "      Epoch    GPU_mem   box_loss   cls_loss   dfl_loss  Instances       Size\n"
          ]
        },
        {
          "output_type": "stream",
          "name": "stderr",
          "text": [
            "       7/50      8.04G      1.522      2.074      1.606          4       1024: 100%|██████████| 93/93 [00:58<00:00,  1.59it/s]\n",
            "                 Class     Images  Instances      Box(P          R      mAP50  mAP50-95): 100%|██████████| 8/8 [00:02<00:00,  3.14it/s]"
          ]
        },
        {
          "output_type": "stream",
          "name": "stdout",
          "text": [
            "                   all        114        284      0.324      0.637      0.383      0.169\n"
          ]
        },
        {
          "output_type": "stream",
          "name": "stderr",
          "text": [
            "\n"
          ]
        },
        {
          "output_type": "stream",
          "name": "stdout",
          "text": [
            "\n",
            "      Epoch    GPU_mem   box_loss   cls_loss   dfl_loss  Instances       Size\n"
          ]
        },
        {
          "output_type": "stream",
          "name": "stderr",
          "text": [
            "       8/50      7.98G      1.495      2.088      1.589         12       1024: 100%|██████████| 93/93 [00:58<00:00,  1.60it/s]\n",
            "                 Class     Images  Instances      Box(P          R      mAP50  mAP50-95): 100%|██████████| 8/8 [00:02<00:00,  3.12it/s]"
          ]
        },
        {
          "output_type": "stream",
          "name": "stdout",
          "text": [
            "                   all        114        284       0.16      0.391      0.151     0.0543\n"
          ]
        },
        {
          "output_type": "stream",
          "name": "stderr",
          "text": [
            "\n"
          ]
        },
        {
          "output_type": "stream",
          "name": "stdout",
          "text": [
            "\n",
            "      Epoch    GPU_mem   box_loss   cls_loss   dfl_loss  Instances       Size\n"
          ]
        },
        {
          "output_type": "stream",
          "name": "stderr",
          "text": [
            "       9/50      8.06G       1.46       2.07      1.586          5       1024: 100%|██████████| 93/93 [00:58<00:00,  1.59it/s]\n",
            "                 Class     Images  Instances      Box(P          R      mAP50  mAP50-95): 100%|██████████| 8/8 [00:02<00:00,  2.82it/s]"
          ]
        },
        {
          "output_type": "stream",
          "name": "stdout",
          "text": [
            "                   all        114        284       0.61      0.489       0.46      0.234\n"
          ]
        },
        {
          "output_type": "stream",
          "name": "stderr",
          "text": [
            "\n"
          ]
        },
        {
          "output_type": "stream",
          "name": "stdout",
          "text": [
            "\n",
            "      Epoch    GPU_mem   box_loss   cls_loss   dfl_loss  Instances       Size\n"
          ]
        },
        {
          "output_type": "stream",
          "name": "stderr",
          "text": [
            "      10/50      8.01G      1.455      2.047      1.532         13       1024: 100%|██████████| 93/93 [00:58<00:00,  1.59it/s]\n",
            "                 Class     Images  Instances      Box(P          R      mAP50  mAP50-95): 100%|██████████| 8/8 [00:02<00:00,  3.10it/s]"
          ]
        },
        {
          "output_type": "stream",
          "name": "stdout",
          "text": [
            "                   all        114        284      0.285      0.468      0.287      0.142\n"
          ]
        },
        {
          "output_type": "stream",
          "name": "stderr",
          "text": [
            "\n"
          ]
        },
        {
          "output_type": "stream",
          "name": "stdout",
          "text": [
            "\n",
            "      Epoch    GPU_mem   box_loss   cls_loss   dfl_loss  Instances       Size\n"
          ]
        },
        {
          "output_type": "stream",
          "name": "stderr",
          "text": [
            "      11/50         8G       1.46      2.069      1.574          5       1024: 100%|██████████| 93/93 [00:58<00:00,  1.59it/s]\n",
            "                 Class     Images  Instances      Box(P          R      mAP50  mAP50-95): 100%|██████████| 8/8 [00:02<00:00,  3.13it/s]"
          ]
        },
        {
          "output_type": "stream",
          "name": "stdout",
          "text": [
            "                   all        114        284       0.55      0.525      0.477       0.22\n"
          ]
        },
        {
          "output_type": "stream",
          "name": "stderr",
          "text": [
            "\n"
          ]
        },
        {
          "output_type": "stream",
          "name": "stdout",
          "text": [
            "\n",
            "      Epoch    GPU_mem   box_loss   cls_loss   dfl_loss  Instances       Size\n"
          ]
        },
        {
          "output_type": "stream",
          "name": "stderr",
          "text": [
            "      12/50      8.07G      1.431       2.04      1.553          6       1024: 100%|██████████| 93/93 [00:58<00:00,  1.59it/s]\n",
            "                 Class     Images  Instances      Box(P          R      mAP50  mAP50-95): 100%|██████████| 8/8 [00:02<00:00,  2.93it/s]"
          ]
        },
        {
          "output_type": "stream",
          "name": "stdout",
          "text": [
            "                   all        114        284      0.329       0.38      0.292      0.131\n"
          ]
        },
        {
          "output_type": "stream",
          "name": "stderr",
          "text": [
            "\n"
          ]
        },
        {
          "output_type": "stream",
          "name": "stdout",
          "text": [
            "\n",
            "      Epoch    GPU_mem   box_loss   cls_loss   dfl_loss  Instances       Size\n"
          ]
        },
        {
          "output_type": "stream",
          "name": "stderr",
          "text": [
            "      13/50      7.98G      1.423      2.054      1.549          7       1024: 100%|██████████| 93/93 [00:58<00:00,  1.59it/s]\n",
            "                 Class     Images  Instances      Box(P          R      mAP50  mAP50-95): 100%|██████████| 8/8 [00:02<00:00,  2.91it/s]"
          ]
        },
        {
          "output_type": "stream",
          "name": "stdout",
          "text": [
            "                   all        114        284      0.645      0.535      0.489      0.244\n"
          ]
        },
        {
          "output_type": "stream",
          "name": "stderr",
          "text": [
            "\n"
          ]
        },
        {
          "output_type": "stream",
          "name": "stdout",
          "text": [
            "\n",
            "      Epoch    GPU_mem   box_loss   cls_loss   dfl_loss  Instances       Size\n"
          ]
        },
        {
          "output_type": "stream",
          "name": "stderr",
          "text": [
            "      14/50       7.9G      1.436      2.042      1.562         17       1024: 100%|██████████| 93/93 [00:58<00:00,  1.59it/s]\n",
            "                 Class     Images  Instances      Box(P          R      mAP50  mAP50-95): 100%|██████████| 8/8 [00:02<00:00,  3.12it/s]"
          ]
        },
        {
          "output_type": "stream",
          "name": "stdout",
          "text": [
            "                   all        114        284      0.571      0.504      0.467      0.243\n"
          ]
        },
        {
          "output_type": "stream",
          "name": "stderr",
          "text": [
            "\n"
          ]
        },
        {
          "output_type": "stream",
          "name": "stdout",
          "text": [
            "\n",
            "      Epoch    GPU_mem   box_loss   cls_loss   dfl_loss  Instances       Size\n"
          ]
        },
        {
          "output_type": "stream",
          "name": "stderr",
          "text": [
            "      15/50      8.04G      1.425      2.051      1.544          6       1024: 100%|██████████| 93/93 [00:58<00:00,  1.59it/s]\n",
            "                 Class     Images  Instances      Box(P          R      mAP50  mAP50-95): 100%|██████████| 8/8 [00:02<00:00,  2.83it/s]"
          ]
        },
        {
          "output_type": "stream",
          "name": "stdout",
          "text": [
            "                   all        114        284      0.628      0.535      0.484      0.249\n"
          ]
        },
        {
          "output_type": "stream",
          "name": "stderr",
          "text": [
            "\n"
          ]
        },
        {
          "output_type": "stream",
          "name": "stdout",
          "text": [
            "\n",
            "      Epoch    GPU_mem   box_loss   cls_loss   dfl_loss  Instances       Size\n"
          ]
        },
        {
          "output_type": "stream",
          "name": "stderr",
          "text": [
            "      16/50      8.11G      1.404      2.018      1.517         11       1024: 100%|██████████| 93/93 [00:58<00:00,  1.59it/s]\n",
            "                 Class     Images  Instances      Box(P          R      mAP50  mAP50-95): 100%|██████████| 8/8 [00:02<00:00,  2.88it/s]"
          ]
        },
        {
          "output_type": "stream",
          "name": "stdout",
          "text": [
            "                   all        114        284      0.522      0.525      0.453      0.219\n"
          ]
        },
        {
          "output_type": "stream",
          "name": "stderr",
          "text": [
            "\n"
          ]
        },
        {
          "output_type": "stream",
          "name": "stdout",
          "text": [
            "\n",
            "      Epoch    GPU_mem   box_loss   cls_loss   dfl_loss  Instances       Size\n"
          ]
        },
        {
          "output_type": "stream",
          "name": "stderr",
          "text": [
            "      17/50      8.06G       1.41      2.034      1.525         12       1024: 100%|██████████| 93/93 [00:58<00:00,  1.59it/s]\n",
            "                 Class     Images  Instances      Box(P          R      mAP50  mAP50-95): 100%|██████████| 8/8 [00:02<00:00,  3.08it/s]"
          ]
        },
        {
          "output_type": "stream",
          "name": "stdout",
          "text": [
            "                   all        114        284      0.542      0.549      0.514      0.255\n"
          ]
        },
        {
          "output_type": "stream",
          "name": "stderr",
          "text": [
            "\n"
          ]
        },
        {
          "output_type": "stream",
          "name": "stdout",
          "text": [
            "\n",
            "      Epoch    GPU_mem   box_loss   cls_loss   dfl_loss  Instances       Size\n"
          ]
        },
        {
          "output_type": "stream",
          "name": "stderr",
          "text": [
            "      18/50      8.08G      1.411      2.025      1.516          8       1024: 100%|██████████| 93/93 [00:58<00:00,  1.59it/s]\n",
            "                 Class     Images  Instances      Box(P          R      mAP50  mAP50-95): 100%|██████████| 8/8 [00:02<00:00,  2.79it/s]"
          ]
        },
        {
          "output_type": "stream",
          "name": "stdout",
          "text": [
            "                   all        114        284      0.419       0.57      0.473       0.23\n"
          ]
        },
        {
          "output_type": "stream",
          "name": "stderr",
          "text": [
            "\n"
          ]
        },
        {
          "output_type": "stream",
          "name": "stdout",
          "text": [
            "\n",
            "      Epoch    GPU_mem   box_loss   cls_loss   dfl_loss  Instances       Size\n"
          ]
        },
        {
          "output_type": "stream",
          "name": "stderr",
          "text": [
            "      19/50         8G      1.391      2.003      1.508          7       1024: 100%|██████████| 93/93 [00:58<00:00,  1.59it/s]\n",
            "                 Class     Images  Instances      Box(P          R      mAP50  mAP50-95): 100%|██████████| 8/8 [00:03<00:00,  2.63it/s]"
          ]
        },
        {
          "output_type": "stream",
          "name": "stdout",
          "text": [
            "                   all        114        284      0.605      0.542      0.511      0.252\n"
          ]
        },
        {
          "output_type": "stream",
          "name": "stderr",
          "text": [
            "\n"
          ]
        },
        {
          "output_type": "stream",
          "name": "stdout",
          "text": [
            "\n",
            "      Epoch    GPU_mem   box_loss   cls_loss   dfl_loss  Instances       Size\n"
          ]
        },
        {
          "output_type": "stream",
          "name": "stderr",
          "text": [
            "      20/50      7.97G      1.378      2.021      1.489         20       1024: 100%|██████████| 93/93 [00:58<00:00,  1.58it/s]\n",
            "                 Class     Images  Instances      Box(P          R      mAP50  mAP50-95): 100%|██████████| 8/8 [00:02<00:00,  2.96it/s]"
          ]
        },
        {
          "output_type": "stream",
          "name": "stdout",
          "text": [
            "                   all        114        284      0.656      0.535      0.472      0.228\n"
          ]
        },
        {
          "output_type": "stream",
          "name": "stderr",
          "text": [
            "\n"
          ]
        },
        {
          "output_type": "stream",
          "name": "stdout",
          "text": [
            "\n",
            "      Epoch    GPU_mem   box_loss   cls_loss   dfl_loss  Instances       Size\n"
          ]
        },
        {
          "output_type": "stream",
          "name": "stderr",
          "text": [
            "      21/50      8.09G       1.39      1.984      1.525          5       1024: 100%|██████████| 93/93 [00:58<00:00,  1.59it/s]\n",
            "                 Class     Images  Instances      Box(P          R      mAP50  mAP50-95): 100%|██████████| 8/8 [00:02<00:00,  3.16it/s]"
          ]
        },
        {
          "output_type": "stream",
          "name": "stdout",
          "text": [
            "                   all        114        284      0.669      0.546      0.491      0.238\n"
          ]
        },
        {
          "output_type": "stream",
          "name": "stderr",
          "text": [
            "\n"
          ]
        },
        {
          "output_type": "stream",
          "name": "stdout",
          "text": [
            "\n",
            "      Epoch    GPU_mem   box_loss   cls_loss   dfl_loss  Instances       Size\n"
          ]
        },
        {
          "output_type": "stream",
          "name": "stderr",
          "text": [
            "      22/50      8.04G      1.402      2.023      1.533          7       1024: 100%|██████████| 93/93 [00:58<00:00,  1.60it/s]\n",
            "                 Class     Images  Instances      Box(P          R      mAP50  mAP50-95): 100%|██████████| 8/8 [00:02<00:00,  3.01it/s]"
          ]
        },
        {
          "output_type": "stream",
          "name": "stdout",
          "text": [
            "                   all        114        284       0.37      0.585      0.456      0.226\n"
          ]
        },
        {
          "output_type": "stream",
          "name": "stderr",
          "text": [
            "\n"
          ]
        },
        {
          "output_type": "stream",
          "name": "stdout",
          "text": [
            "\n",
            "      Epoch    GPU_mem   box_loss   cls_loss   dfl_loss  Instances       Size\n"
          ]
        },
        {
          "output_type": "stream",
          "name": "stderr",
          "text": [
            "      23/50      7.99G      1.354      1.991      1.491         11       1024: 100%|██████████| 93/93 [00:58<00:00,  1.59it/s]\n",
            "                 Class     Images  Instances      Box(P          R      mAP50  mAP50-95): 100%|██████████| 8/8 [00:02<00:00,  2.72it/s]"
          ]
        },
        {
          "output_type": "stream",
          "name": "stdout",
          "text": [
            "                   all        114        284      0.371      0.623      0.456      0.218\n"
          ]
        },
        {
          "output_type": "stream",
          "name": "stderr",
          "text": [
            "\n"
          ]
        },
        {
          "output_type": "stream",
          "name": "stdout",
          "text": [
            "\n",
            "      Epoch    GPU_mem   box_loss   cls_loss   dfl_loss  Instances       Size\n"
          ]
        },
        {
          "output_type": "stream",
          "name": "stderr",
          "text": [
            "      24/50      8.07G      1.372      1.982      1.492          4       1024: 100%|██████████| 93/93 [00:58<00:00,  1.58it/s]\n",
            "                 Class     Images  Instances      Box(P          R      mAP50  mAP50-95): 100%|██████████| 8/8 [00:02<00:00,  2.93it/s]"
          ]
        },
        {
          "output_type": "stream",
          "name": "stdout",
          "text": [
            "                   all        114        284      0.382      0.613      0.492       0.21\n"
          ]
        },
        {
          "output_type": "stream",
          "name": "stderr",
          "text": [
            "\n"
          ]
        },
        {
          "output_type": "stream",
          "name": "stdout",
          "text": [
            "\n",
            "      Epoch    GPU_mem   box_loss   cls_loss   dfl_loss  Instances       Size\n"
          ]
        },
        {
          "output_type": "stream",
          "name": "stderr",
          "text": [
            "      25/50         8G      1.364      1.992      1.499         10       1024: 100%|██████████| 93/93 [00:58<00:00,  1.59it/s]\n",
            "                 Class     Images  Instances      Box(P          R      mAP50  mAP50-95): 100%|██████████| 8/8 [00:02<00:00,  2.75it/s]"
          ]
        },
        {
          "output_type": "stream",
          "name": "stdout",
          "text": [
            "                   all        114        284      0.597      0.542      0.485      0.231\n"
          ]
        },
        {
          "output_type": "stream",
          "name": "stderr",
          "text": [
            "\n"
          ]
        },
        {
          "output_type": "stream",
          "name": "stdout",
          "text": [
            "\n",
            "      Epoch    GPU_mem   box_loss   cls_loss   dfl_loss  Instances       Size\n"
          ]
        },
        {
          "output_type": "stream",
          "name": "stderr",
          "text": [
            "      26/50      7.99G      1.366      1.962      1.503         14       1024: 100%|██████████| 93/93 [00:58<00:00,  1.59it/s]\n",
            "                 Class     Images  Instances      Box(P          R      mAP50  mAP50-95): 100%|██████████| 8/8 [00:02<00:00,  3.14it/s]"
          ]
        },
        {
          "output_type": "stream",
          "name": "stdout",
          "text": [
            "                   all        114        284      0.654      0.528       0.51      0.252\n"
          ]
        },
        {
          "output_type": "stream",
          "name": "stderr",
          "text": [
            "\n"
          ]
        },
        {
          "output_type": "stream",
          "name": "stdout",
          "text": [
            "\n",
            "      Epoch    GPU_mem   box_loss   cls_loss   dfl_loss  Instances       Size\n"
          ]
        },
        {
          "output_type": "stream",
          "name": "stderr",
          "text": [
            "      27/50      8.03G       1.37      1.978      1.487          7       1024: 100%|██████████| 93/93 [00:58<00:00,  1.59it/s]\n",
            "                 Class     Images  Instances      Box(P          R      mAP50  mAP50-95): 100%|██████████| 8/8 [00:02<00:00,  3.09it/s]"
          ]
        },
        {
          "output_type": "stream",
          "name": "stdout",
          "text": [
            "                   all        114        284      0.637      0.511       0.47      0.231\n"
          ]
        },
        {
          "output_type": "stream",
          "name": "stderr",
          "text": [
            "\n"
          ]
        },
        {
          "output_type": "stream",
          "name": "stdout",
          "text": [
            "\n",
            "      Epoch    GPU_mem   box_loss   cls_loss   dfl_loss  Instances       Size\n"
          ]
        },
        {
          "output_type": "stream",
          "name": "stderr",
          "text": [
            "      28/50      8.05G      1.346      1.961       1.48          9       1024: 100%|██████████| 93/93 [00:58<00:00,  1.59it/s]\n",
            "                 Class     Images  Instances      Box(P          R      mAP50  mAP50-95): 100%|██████████| 8/8 [00:02<00:00,  2.85it/s]"
          ]
        },
        {
          "output_type": "stream",
          "name": "stdout",
          "text": [
            "                   all        114        284      0.635      0.542      0.499      0.238\n"
          ]
        },
        {
          "output_type": "stream",
          "name": "stderr",
          "text": [
            "\n"
          ]
        },
        {
          "output_type": "stream",
          "name": "stdout",
          "text": [
            "\n",
            "      Epoch    GPU_mem   box_loss   cls_loss   dfl_loss  Instances       Size\n"
          ]
        },
        {
          "output_type": "stream",
          "name": "stderr",
          "text": [
            "      29/50      8.04G      1.336      1.953      1.481         10       1024: 100%|██████████| 93/93 [00:58<00:00,  1.59it/s]\n",
            "                 Class     Images  Instances      Box(P          R      mAP50  mAP50-95): 100%|██████████| 8/8 [00:02<00:00,  2.74it/s]"
          ]
        },
        {
          "output_type": "stream",
          "name": "stdout",
          "text": [
            "                   all        114        284      0.632      0.511      0.521      0.261\n"
          ]
        },
        {
          "output_type": "stream",
          "name": "stderr",
          "text": [
            "\n"
          ]
        },
        {
          "output_type": "stream",
          "name": "stdout",
          "text": [
            "\n",
            "      Epoch    GPU_mem   box_loss   cls_loss   dfl_loss  Instances       Size\n"
          ]
        },
        {
          "output_type": "stream",
          "name": "stderr",
          "text": [
            "      30/50      8.06G      1.334       1.96      1.472          6       1024: 100%|██████████| 93/93 [00:58<00:00,  1.59it/s]\n",
            "                 Class     Images  Instances      Box(P          R      mAP50  mAP50-95): 100%|██████████| 8/8 [00:02<00:00,  3.15it/s]"
          ]
        },
        {
          "output_type": "stream",
          "name": "stdout",
          "text": [
            "                   all        114        284      0.344      0.585      0.456      0.225\n"
          ]
        },
        {
          "output_type": "stream",
          "name": "stderr",
          "text": [
            "\n"
          ]
        },
        {
          "output_type": "stream",
          "name": "stdout",
          "text": [
            "\n",
            "      Epoch    GPU_mem   box_loss   cls_loss   dfl_loss  Instances       Size\n"
          ]
        },
        {
          "output_type": "stream",
          "name": "stderr",
          "text": [
            "      31/50      8.02G      1.327      1.934      1.471          7       1024: 100%|██████████| 93/93 [00:58<00:00,  1.59it/s]\n",
            "                 Class     Images  Instances      Box(P          R      mAP50  mAP50-95): 100%|██████████| 8/8 [00:02<00:00,  3.13it/s]"
          ]
        },
        {
          "output_type": "stream",
          "name": "stdout",
          "text": [
            "                   all        114        284      0.573      0.542      0.489       0.24\n"
          ]
        },
        {
          "output_type": "stream",
          "name": "stderr",
          "text": [
            "\n"
          ]
        },
        {
          "output_type": "stream",
          "name": "stdout",
          "text": [
            "\n",
            "      Epoch    GPU_mem   box_loss   cls_loss   dfl_loss  Instances       Size\n"
          ]
        },
        {
          "output_type": "stream",
          "name": "stderr",
          "text": [
            "      32/50      8.08G      1.355      1.977      1.482         11       1024: 100%|██████████| 93/93 [00:58<00:00,  1.60it/s]\n",
            "                 Class     Images  Instances      Box(P          R      mAP50  mAP50-95): 100%|██████████| 8/8 [00:03<00:00,  2.60it/s]"
          ]
        },
        {
          "output_type": "stream",
          "name": "stdout",
          "text": [
            "                   all        114        284      0.671      0.539      0.511      0.253\n"
          ]
        },
        {
          "output_type": "stream",
          "name": "stderr",
          "text": [
            "\n"
          ]
        },
        {
          "output_type": "stream",
          "name": "stdout",
          "text": [
            "\n",
            "      Epoch    GPU_mem   box_loss   cls_loss   dfl_loss  Instances       Size\n"
          ]
        },
        {
          "output_type": "stream",
          "name": "stderr",
          "text": [
            "      33/50      7.99G      1.313      1.934      1.452          5       1024: 100%|██████████| 93/93 [00:58<00:00,  1.59it/s]\n",
            "                 Class     Images  Instances      Box(P          R      mAP50  mAP50-95): 100%|██████████| 8/8 [00:02<00:00,  3.15it/s]"
          ]
        },
        {
          "output_type": "stream",
          "name": "stdout",
          "text": [
            "                   all        114        284      0.474      0.574      0.529      0.258\n"
          ]
        },
        {
          "output_type": "stream",
          "name": "stderr",
          "text": [
            "\n"
          ]
        },
        {
          "output_type": "stream",
          "name": "stdout",
          "text": [
            "\n",
            "      Epoch    GPU_mem   box_loss   cls_loss   dfl_loss  Instances       Size\n"
          ]
        },
        {
          "output_type": "stream",
          "name": "stderr",
          "text": [
            "      34/50      7.96G      1.328      1.955      1.466         11       1024: 100%|██████████| 93/93 [00:58<00:00,  1.59it/s]\n",
            "                 Class     Images  Instances      Box(P          R      mAP50  mAP50-95): 100%|██████████| 8/8 [00:02<00:00,  3.10it/s]"
          ]
        },
        {
          "output_type": "stream",
          "name": "stdout",
          "text": [
            "                   all        114        284      0.517      0.521      0.512      0.256\n"
          ]
        },
        {
          "output_type": "stream",
          "name": "stderr",
          "text": [
            "\n"
          ]
        },
        {
          "output_type": "stream",
          "name": "stdout",
          "text": [
            "\n",
            "      Epoch    GPU_mem   box_loss   cls_loss   dfl_loss  Instances       Size\n"
          ]
        },
        {
          "output_type": "stream",
          "name": "stderr",
          "text": [
            "      35/50      8.01G      1.323      1.954      1.459         10       1024: 100%|██████████| 93/93 [00:58<00:00,  1.59it/s]\n",
            "                 Class     Images  Instances      Box(P          R      mAP50  mAP50-95): 100%|██████████| 8/8 [00:02<00:00,  2.93it/s]"
          ]
        },
        {
          "output_type": "stream",
          "name": "stdout",
          "text": [
            "                   all        114        284      0.433       0.57      0.518      0.255\n"
          ]
        },
        {
          "output_type": "stream",
          "name": "stderr",
          "text": [
            "\n"
          ]
        },
        {
          "output_type": "stream",
          "name": "stdout",
          "text": [
            "\n",
            "      Epoch    GPU_mem   box_loss   cls_loss   dfl_loss  Instances       Size\n"
          ]
        },
        {
          "output_type": "stream",
          "name": "stderr",
          "text": [
            "      36/50      8.06G      1.319      1.936      1.461          6       1024: 100%|██████████| 93/93 [00:58<00:00,  1.59it/s]\n",
            "                 Class     Images  Instances      Box(P          R      mAP50  mAP50-95): 100%|██████████| 8/8 [00:02<00:00,  3.08it/s]"
          ]
        },
        {
          "output_type": "stream",
          "name": "stdout",
          "text": [
            "                   all        114        284       0.58      0.567      0.563      0.251\n"
          ]
        },
        {
          "output_type": "stream",
          "name": "stderr",
          "text": [
            "\n"
          ]
        },
        {
          "output_type": "stream",
          "name": "stdout",
          "text": [
            "\n",
            "      Epoch    GPU_mem   box_loss   cls_loss   dfl_loss  Instances       Size\n"
          ]
        },
        {
          "output_type": "stream",
          "name": "stderr",
          "text": [
            "      37/50      7.99G      1.347      1.976      1.485         11       1024: 100%|██████████| 93/93 [00:58<00:00,  1.59it/s]\n",
            "                 Class     Images  Instances      Box(P          R      mAP50  mAP50-95): 100%|██████████| 8/8 [00:02<00:00,  2.93it/s]"
          ]
        },
        {
          "output_type": "stream",
          "name": "stdout",
          "text": [
            "                   all        114        284      0.458      0.546      0.458      0.236\n"
          ]
        },
        {
          "output_type": "stream",
          "name": "stderr",
          "text": [
            "\n"
          ]
        },
        {
          "output_type": "stream",
          "name": "stdout",
          "text": [
            "\n",
            "      Epoch    GPU_mem   box_loss   cls_loss   dfl_loss  Instances       Size\n"
          ]
        },
        {
          "output_type": "stream",
          "name": "stderr",
          "text": [
            "      38/50      8.02G      1.308      1.963      1.467         14       1024: 100%|██████████| 93/93 [00:58<00:00,  1.59it/s]\n",
            "                 Class     Images  Instances      Box(P          R      mAP50  mAP50-95): 100%|██████████| 8/8 [00:02<00:00,  2.91it/s]"
          ]
        },
        {
          "output_type": "stream",
          "name": "stdout",
          "text": [
            "                   all        114        284      0.568      0.451      0.479      0.229\n"
          ]
        },
        {
          "output_type": "stream",
          "name": "stderr",
          "text": [
            "\n"
          ]
        },
        {
          "output_type": "stream",
          "name": "stdout",
          "text": [
            "\n",
            "      Epoch    GPU_mem   box_loss   cls_loss   dfl_loss  Instances       Size\n"
          ]
        },
        {
          "output_type": "stream",
          "name": "stderr",
          "text": [
            "      39/50      8.05G      1.291      1.882       1.44         13       1024: 100%|██████████| 93/93 [00:58<00:00,  1.59it/s]\n",
            "                 Class     Images  Instances      Box(P          R      mAP50  mAP50-95): 100%|██████████| 8/8 [00:02<00:00,  3.11it/s]"
          ]
        },
        {
          "output_type": "stream",
          "name": "stdout",
          "text": [
            "                   all        114        284      0.663      0.546      0.556       0.26\n"
          ]
        },
        {
          "output_type": "stream",
          "name": "stderr",
          "text": [
            "\n"
          ]
        },
        {
          "output_type": "stream",
          "name": "stdout",
          "text": [
            "\n",
            "      Epoch    GPU_mem   box_loss   cls_loss   dfl_loss  Instances       Size\n"
          ]
        },
        {
          "output_type": "stream",
          "name": "stderr",
          "text": [
            "      40/50      8.09G      1.298      1.956      1.451          5       1024: 100%|██████████| 93/93 [00:58<00:00,  1.59it/s]\n",
            "                 Class     Images  Instances      Box(P          R      mAP50  mAP50-95): 100%|██████████| 8/8 [00:03<00:00,  2.65it/s]"
          ]
        },
        {
          "output_type": "stream",
          "name": "stdout",
          "text": [
            "                   all        114        284      0.602      0.542      0.519      0.257\n"
          ]
        },
        {
          "output_type": "stream",
          "name": "stderr",
          "text": [
            "\n"
          ]
        },
        {
          "output_type": "stream",
          "name": "stdout",
          "text": [
            "Closing dataloader mosaic\n",
            "\u001b[34m\u001b[1malbumentations: \u001b[0mBlur(p=0.01, blur_limit=(3, 7)), MedianBlur(p=0.01, blur_limit=(3, 7)), ToGray(p=0.01, method='weighted_average', num_output_channels=3), CLAHE(p=0.01, clip_limit=(1.0, 4.0), tile_grid_size=(8, 8))\n",
            "\n",
            "      Epoch    GPU_mem   box_loss   cls_loss   dfl_loss  Instances       Size\n"
          ]
        },
        {
          "output_type": "stream",
          "name": "stderr",
          "text": [
            "      41/50      7.96G      1.284      1.969      1.481          5       1024: 100%|██████████| 93/93 [00:58<00:00,  1.58it/s]\n",
            "                 Class     Images  Instances      Box(P          R      mAP50  mAP50-95): 100%|██████████| 8/8 [00:02<00:00,  3.14it/s]"
          ]
        },
        {
          "output_type": "stream",
          "name": "stdout",
          "text": [
            "                   all        114        284      0.583      0.528      0.482      0.256\n"
          ]
        },
        {
          "output_type": "stream",
          "name": "stderr",
          "text": [
            "\n"
          ]
        },
        {
          "output_type": "stream",
          "name": "stdout",
          "text": [
            "\n",
            "      Epoch    GPU_mem   box_loss   cls_loss   dfl_loss  Instances       Size\n"
          ]
        },
        {
          "output_type": "stream",
          "name": "stderr",
          "text": [
            "      42/50      7.96G      1.294      1.953      1.487          5       1024: 100%|██████████| 93/93 [00:58<00:00,  1.60it/s]\n",
            "                 Class     Images  Instances      Box(P          R      mAP50  mAP50-95): 100%|██████████| 8/8 [00:02<00:00,  2.86it/s]"
          ]
        },
        {
          "output_type": "stream",
          "name": "stdout",
          "text": [
            "                   all        114        284      0.542       0.56      0.491       0.24\n"
          ]
        },
        {
          "output_type": "stream",
          "name": "stderr",
          "text": [
            "\n"
          ]
        },
        {
          "output_type": "stream",
          "name": "stdout",
          "text": [
            "\n",
            "      Epoch    GPU_mem   box_loss   cls_loss   dfl_loss  Instances       Size\n"
          ]
        },
        {
          "output_type": "stream",
          "name": "stderr",
          "text": [
            "      43/50      8.03G      1.268      1.928      1.459          4       1024: 100%|██████████| 93/93 [00:58<00:00,  1.60it/s]\n",
            "                 Class     Images  Instances      Box(P          R      mAP50  mAP50-95): 100%|██████████| 8/8 [00:02<00:00,  3.16it/s]"
          ]
        },
        {
          "output_type": "stream",
          "name": "stdout",
          "text": [
            "                   all        114        284      0.454       0.57      0.479      0.243\n"
          ]
        },
        {
          "output_type": "stream",
          "name": "stderr",
          "text": [
            "\n"
          ]
        },
        {
          "output_type": "stream",
          "name": "stdout",
          "text": [
            "\n",
            "      Epoch    GPU_mem   box_loss   cls_loss   dfl_loss  Instances       Size\n"
          ]
        },
        {
          "output_type": "stream",
          "name": "stderr",
          "text": [
            "      44/50      8.02G      1.282      1.935      1.485          6       1024: 100%|██████████| 93/93 [00:57<00:00,  1.61it/s]\n",
            "                 Class     Images  Instances      Box(P          R      mAP50  mAP50-95): 100%|██████████| 8/8 [00:02<00:00,  3.13it/s]"
          ]
        },
        {
          "output_type": "stream",
          "name": "stdout",
          "text": [
            "                   all        114        284      0.538      0.539      0.462      0.245\n"
          ]
        },
        {
          "output_type": "stream",
          "name": "stderr",
          "text": [
            "\n"
          ]
        },
        {
          "output_type": "stream",
          "name": "stdout",
          "text": [
            "\n",
            "      Epoch    GPU_mem   box_loss   cls_loss   dfl_loss  Instances       Size\n"
          ]
        },
        {
          "output_type": "stream",
          "name": "stderr",
          "text": [
            "      45/50      7.96G      1.277      1.931      1.468          4       1024: 100%|██████████| 93/93 [00:58<00:00,  1.60it/s]\n",
            "                 Class     Images  Instances      Box(P          R      mAP50  mAP50-95): 100%|██████████| 8/8 [00:02<00:00,  3.17it/s]"
          ]
        },
        {
          "output_type": "stream",
          "name": "stdout",
          "text": [
            "                   all        114        284      0.508      0.546      0.474      0.252\n"
          ]
        },
        {
          "output_type": "stream",
          "name": "stderr",
          "text": [
            "\n"
          ]
        },
        {
          "output_type": "stream",
          "name": "stdout",
          "text": [
            "\n",
            "      Epoch    GPU_mem   box_loss   cls_loss   dfl_loss  Instances       Size\n"
          ]
        },
        {
          "output_type": "stream",
          "name": "stderr",
          "text": [
            "      46/50      8.02G      1.277      1.913      1.456          4       1024: 100%|██████████| 93/93 [00:58<00:00,  1.60it/s]\n",
            "                 Class     Images  Instances      Box(P          R      mAP50  mAP50-95): 100%|██████████| 8/8 [00:02<00:00,  3.16it/s]"
          ]
        },
        {
          "output_type": "stream",
          "name": "stdout",
          "text": [
            "                   all        114        284       0.53      0.528      0.455      0.244\n"
          ]
        },
        {
          "output_type": "stream",
          "name": "stderr",
          "text": [
            "\n"
          ]
        },
        {
          "output_type": "stream",
          "name": "stdout",
          "text": [
            "\n",
            "      Epoch    GPU_mem   box_loss   cls_loss   dfl_loss  Instances       Size\n"
          ]
        },
        {
          "output_type": "stream",
          "name": "stderr",
          "text": [
            "      47/50      7.96G      1.268      1.907       1.46          4       1024: 100%|██████████| 93/93 [00:58<00:00,  1.60it/s]\n",
            "                 Class     Images  Instances      Box(P          R      mAP50  mAP50-95): 100%|██████████| 8/8 [00:02<00:00,  3.13it/s]"
          ]
        },
        {
          "output_type": "stream",
          "name": "stdout",
          "text": [
            "                   all        114        284      0.532      0.539      0.472      0.249\n"
          ]
        },
        {
          "output_type": "stream",
          "name": "stderr",
          "text": [
            "\n"
          ]
        },
        {
          "output_type": "stream",
          "name": "stdout",
          "text": [
            "\n",
            "      Epoch    GPU_mem   box_loss   cls_loss   dfl_loss  Instances       Size\n"
          ]
        },
        {
          "output_type": "stream",
          "name": "stderr",
          "text": [
            "      48/50      7.96G      1.268      1.916      1.457          6       1024: 100%|██████████| 93/93 [00:58<00:00,  1.60it/s]\n",
            "                 Class     Images  Instances      Box(P          R      mAP50  mAP50-95): 100%|██████████| 8/8 [00:02<00:00,  3.15it/s]"
          ]
        },
        {
          "output_type": "stream",
          "name": "stdout",
          "text": [
            "                   all        114        284       0.52      0.527      0.473      0.247\n"
          ]
        },
        {
          "output_type": "stream",
          "name": "stderr",
          "text": [
            "\n"
          ]
        },
        {
          "output_type": "stream",
          "name": "stdout",
          "text": [
            "\n",
            "      Epoch    GPU_mem   box_loss   cls_loss   dfl_loss  Instances       Size\n"
          ]
        },
        {
          "output_type": "stream",
          "name": "stderr",
          "text": [
            "      49/50      7.96G       1.27      1.904      1.448          4       1024: 100%|██████████| 93/93 [00:58<00:00,  1.60it/s]\n",
            "                 Class     Images  Instances      Box(P          R      mAP50  mAP50-95): 100%|██████████| 8/8 [00:02<00:00,  3.15it/s]"
          ]
        },
        {
          "output_type": "stream",
          "name": "stdout",
          "text": [
            "                   all        114        284      0.518      0.521       0.48      0.255\n"
          ]
        },
        {
          "output_type": "stream",
          "name": "stderr",
          "text": [
            "\n"
          ]
        },
        {
          "output_type": "stream",
          "name": "stdout",
          "text": [
            "\n",
            "      Epoch    GPU_mem   box_loss   cls_loss   dfl_loss  Instances       Size\n"
          ]
        },
        {
          "output_type": "stream",
          "name": "stderr",
          "text": [
            "      50/50      7.96G      1.259      1.903      1.457          7       1024: 100%|██████████| 93/93 [00:57<00:00,  1.60it/s]\n",
            "                 Class     Images  Instances      Box(P          R      mAP50  mAP50-95): 100%|██████████| 8/8 [00:02<00:00,  3.08it/s]"
          ]
        },
        {
          "output_type": "stream",
          "name": "stdout",
          "text": [
            "                   all        114        284      0.564       0.52      0.473      0.251\n"
          ]
        },
        {
          "output_type": "stream",
          "name": "stderr",
          "text": [
            "\n"
          ]
        },
        {
          "output_type": "stream",
          "name": "stdout",
          "text": [
            "\n",
            "50 epochs completed in 0.918 hours.\n",
            "Optimizer stripped from runs/detect/number_detector_v83/weights/last.pt, 52.1MB\n",
            "Optimizer stripped from runs/detect/number_detector_v83/weights/best.pt, 52.1MB\n",
            "\n",
            "Validating runs/detect/number_detector_v83/weights/best.pt...\n",
            "Ultralytics 8.3.127 🚀 Python-3.11.12 torch-2.6.0+cu124 CUDA:0 (Tesla T4, 15095MiB)\n",
            "Model summary (fused): 92 layers, 25,840,339 parameters, 0 gradients, 78.7 GFLOPs\n"
          ]
        },
        {
          "output_type": "stream",
          "name": "stderr",
          "text": [
            "                 Class     Images  Instances      Box(P          R      mAP50  mAP50-95): 100%|██████████| 8/8 [00:04<00:00,  1.88it/s]\n"
          ]
        },
        {
          "output_type": "stream",
          "name": "stdout",
          "text": [
            "                   all        114        284      0.663      0.546      0.555       0.26\n",
            "Speed: 0.8ms preprocess, 17.0ms inference, 0.0ms loss, 9.3ms postprocess per image\n",
            "Results saved to \u001b[1mruns/detect/number_detector_v83\u001b[0m\n"
          ]
        },
        {
          "output_type": "execute_result",
          "data": {
            "text/plain": [
              "ultralytics.utils.metrics.DetMetrics object with attributes:\n",
              "\n",
              "ap_class_index: array([0])\n",
              "box: ultralytics.utils.metrics.Metric object\n",
              "confusion_matrix: <ultralytics.utils.metrics.ConfusionMatrix object at 0x7d6d39f7ca10>\n",
              "curves: ['Precision-Recall(B)', 'F1-Confidence(B)', 'Precision-Confidence(B)', 'Recall-Confidence(B)']\n",
              "curves_results: [[array([          0,    0.001001,    0.002002,    0.003003,    0.004004,    0.005005,    0.006006,    0.007007,    0.008008,    0.009009,     0.01001,    0.011011,    0.012012,    0.013013,    0.014014,    0.015015,    0.016016,    0.017017,    0.018018,    0.019019,     0.02002,    0.021021,    0.022022,    0.023023,\n",
              "          0.024024,    0.025025,    0.026026,    0.027027,    0.028028,    0.029029,     0.03003,    0.031031,    0.032032,    0.033033,    0.034034,    0.035035,    0.036036,    0.037037,    0.038038,    0.039039,     0.04004,    0.041041,    0.042042,    0.043043,    0.044044,    0.045045,    0.046046,    0.047047,\n",
              "          0.048048,    0.049049,     0.05005,    0.051051,    0.052052,    0.053053,    0.054054,    0.055055,    0.056056,    0.057057,    0.058058,    0.059059,     0.06006,    0.061061,    0.062062,    0.063063,    0.064064,    0.065065,    0.066066,    0.067067,    0.068068,    0.069069,     0.07007,    0.071071,\n",
              "          0.072072,    0.073073,    0.074074,    0.075075,    0.076076,    0.077077,    0.078078,    0.079079,     0.08008,    0.081081,    0.082082,    0.083083,    0.084084,    0.085085,    0.086086,    0.087087,    0.088088,    0.089089,     0.09009,    0.091091,    0.092092,    0.093093,    0.094094,    0.095095,\n",
              "          0.096096,    0.097097,    0.098098,    0.099099,      0.1001,      0.1011,      0.1021,      0.1031,      0.1041,     0.10511,     0.10611,     0.10711,     0.10811,     0.10911,     0.11011,     0.11111,     0.11211,     0.11311,     0.11411,     0.11512,     0.11612,     0.11712,     0.11812,     0.11912,\n",
              "           0.12012,     0.12112,     0.12212,     0.12312,     0.12412,     0.12513,     0.12613,     0.12713,     0.12813,     0.12913,     0.13013,     0.13113,     0.13213,     0.13313,     0.13413,     0.13514,     0.13614,     0.13714,     0.13814,     0.13914,     0.14014,     0.14114,     0.14214,     0.14314,\n",
              "           0.14414,     0.14515,     0.14615,     0.14715,     0.14815,     0.14915,     0.15015,     0.15115,     0.15215,     0.15315,     0.15415,     0.15516,     0.15616,     0.15716,     0.15816,     0.15916,     0.16016,     0.16116,     0.16216,     0.16316,     0.16416,     0.16517,     0.16617,     0.16717,\n",
              "           0.16817,     0.16917,     0.17017,     0.17117,     0.17217,     0.17317,     0.17417,     0.17518,     0.17618,     0.17718,     0.17818,     0.17918,     0.18018,     0.18118,     0.18218,     0.18318,     0.18418,     0.18519,     0.18619,     0.18719,     0.18819,     0.18919,     0.19019,     0.19119,\n",
              "           0.19219,     0.19319,     0.19419,      0.1952,      0.1962,      0.1972,      0.1982,      0.1992,      0.2002,      0.2012,      0.2022,      0.2032,      0.2042,     0.20521,     0.20621,     0.20721,     0.20821,     0.20921,     0.21021,     0.21121,     0.21221,     0.21321,     0.21421,     0.21522,\n",
              "           0.21622,     0.21722,     0.21822,     0.21922,     0.22022,     0.22122,     0.22222,     0.22322,     0.22422,     0.22523,     0.22623,     0.22723,     0.22823,     0.22923,     0.23023,     0.23123,     0.23223,     0.23323,     0.23423,     0.23524,     0.23624,     0.23724,     0.23824,     0.23924,\n",
              "           0.24024,     0.24124,     0.24224,     0.24324,     0.24424,     0.24525,     0.24625,     0.24725,     0.24825,     0.24925,     0.25025,     0.25125,     0.25225,     0.25325,     0.25425,     0.25526,     0.25626,     0.25726,     0.25826,     0.25926,     0.26026,     0.26126,     0.26226,     0.26326,\n",
              "           0.26426,     0.26527,     0.26627,     0.26727,     0.26827,     0.26927,     0.27027,     0.27127,     0.27227,     0.27327,     0.27427,     0.27528,     0.27628,     0.27728,     0.27828,     0.27928,     0.28028,     0.28128,     0.28228,     0.28328,     0.28428,     0.28529,     0.28629,     0.28729,\n",
              "           0.28829,     0.28929,     0.29029,     0.29129,     0.29229,     0.29329,     0.29429,      0.2953,      0.2963,      0.2973,      0.2983,      0.2993,      0.3003,      0.3013,      0.3023,      0.3033,      0.3043,     0.30531,     0.30631,     0.30731,     0.30831,     0.30931,     0.31031,     0.31131,\n",
              "           0.31231,     0.31331,     0.31431,     0.31532,     0.31632,     0.31732,     0.31832,     0.31932,     0.32032,     0.32132,     0.32232,     0.32332,     0.32432,     0.32533,     0.32633,     0.32733,     0.32833,     0.32933,     0.33033,     0.33133,     0.33233,     0.33333,     0.33433,     0.33534,\n",
              "           0.33634,     0.33734,     0.33834,     0.33934,     0.34034,     0.34134,     0.34234,     0.34334,     0.34434,     0.34535,     0.34635,     0.34735,     0.34835,     0.34935,     0.35035,     0.35135,     0.35235,     0.35335,     0.35435,     0.35536,     0.35636,     0.35736,     0.35836,     0.35936,\n",
              "           0.36036,     0.36136,     0.36236,     0.36336,     0.36436,     0.36537,     0.36637,     0.36737,     0.36837,     0.36937,     0.37037,     0.37137,     0.37237,     0.37337,     0.37437,     0.37538,     0.37638,     0.37738,     0.37838,     0.37938,     0.38038,     0.38138,     0.38238,     0.38338,\n",
              "           0.38438,     0.38539,     0.38639,     0.38739,     0.38839,     0.38939,     0.39039,     0.39139,     0.39239,     0.39339,     0.39439,      0.3954,      0.3964,      0.3974,      0.3984,      0.3994,      0.4004,      0.4014,      0.4024,      0.4034,      0.4044,     0.40541,     0.40641,     0.40741,\n",
              "           0.40841,     0.40941,     0.41041,     0.41141,     0.41241,     0.41341,     0.41441,     0.41542,     0.41642,     0.41742,     0.41842,     0.41942,     0.42042,     0.42142,     0.42242,     0.42342,     0.42442,     0.42543,     0.42643,     0.42743,     0.42843,     0.42943,     0.43043,     0.43143,\n",
              "           0.43243,     0.43343,     0.43443,     0.43544,     0.43644,     0.43744,     0.43844,     0.43944,     0.44044,     0.44144,     0.44244,     0.44344,     0.44444,     0.44545,     0.44645,     0.44745,     0.44845,     0.44945,     0.45045,     0.45145,     0.45245,     0.45345,     0.45445,     0.45546,\n",
              "           0.45646,     0.45746,     0.45846,     0.45946,     0.46046,     0.46146,     0.46246,     0.46346,     0.46446,     0.46547,     0.46647,     0.46747,     0.46847,     0.46947,     0.47047,     0.47147,     0.47247,     0.47347,     0.47447,     0.47548,     0.47648,     0.47748,     0.47848,     0.47948,\n",
              "           0.48048,     0.48148,     0.48248,     0.48348,     0.48448,     0.48549,     0.48649,     0.48749,     0.48849,     0.48949,     0.49049,     0.49149,     0.49249,     0.49349,     0.49449,      0.4955,      0.4965,      0.4975,      0.4985,      0.4995,      0.5005,      0.5015,      0.5025,      0.5035,\n",
              "            0.5045,     0.50551,     0.50651,     0.50751,     0.50851,     0.50951,     0.51051,     0.51151,     0.51251,     0.51351,     0.51451,     0.51552,     0.51652,     0.51752,     0.51852,     0.51952,     0.52052,     0.52152,     0.52252,     0.52352,     0.52452,     0.52553,     0.52653,     0.52753,\n",
              "           0.52853,     0.52953,     0.53053,     0.53153,     0.53253,     0.53353,     0.53453,     0.53554,     0.53654,     0.53754,     0.53854,     0.53954,     0.54054,     0.54154,     0.54254,     0.54354,     0.54454,     0.54555,     0.54655,     0.54755,     0.54855,     0.54955,     0.55055,     0.55155,\n",
              "           0.55255,     0.55355,     0.55455,     0.55556,     0.55656,     0.55756,     0.55856,     0.55956,     0.56056,     0.56156,     0.56256,     0.56356,     0.56456,     0.56557,     0.56657,     0.56757,     0.56857,     0.56957,     0.57057,     0.57157,     0.57257,     0.57357,     0.57457,     0.57558,\n",
              "           0.57658,     0.57758,     0.57858,     0.57958,     0.58058,     0.58158,     0.58258,     0.58358,     0.58458,     0.58559,     0.58659,     0.58759,     0.58859,     0.58959,     0.59059,     0.59159,     0.59259,     0.59359,     0.59459,      0.5956,      0.5966,      0.5976,      0.5986,      0.5996,\n",
              "            0.6006,      0.6016,      0.6026,      0.6036,      0.6046,     0.60561,     0.60661,     0.60761,     0.60861,     0.60961,     0.61061,     0.61161,     0.61261,     0.61361,     0.61461,     0.61562,     0.61662,     0.61762,     0.61862,     0.61962,     0.62062,     0.62162,     0.62262,     0.62362,\n",
              "           0.62462,     0.62563,     0.62663,     0.62763,     0.62863,     0.62963,     0.63063,     0.63163,     0.63263,     0.63363,     0.63463,     0.63564,     0.63664,     0.63764,     0.63864,     0.63964,     0.64064,     0.64164,     0.64264,     0.64364,     0.64464,     0.64565,     0.64665,     0.64765,\n",
              "           0.64865,     0.64965,     0.65065,     0.65165,     0.65265,     0.65365,     0.65465,     0.65566,     0.65666,     0.65766,     0.65866,     0.65966,     0.66066,     0.66166,     0.66266,     0.66366,     0.66466,     0.66567,     0.66667,     0.66767,     0.66867,     0.66967,     0.67067,     0.67167,\n",
              "           0.67267,     0.67367,     0.67467,     0.67568,     0.67668,     0.67768,     0.67868,     0.67968,     0.68068,     0.68168,     0.68268,     0.68368,     0.68468,     0.68569,     0.68669,     0.68769,     0.68869,     0.68969,     0.69069,     0.69169,     0.69269,     0.69369,     0.69469,      0.6957,\n",
              "            0.6967,      0.6977,      0.6987,      0.6997,      0.7007,      0.7017,      0.7027,      0.7037,      0.7047,     0.70571,     0.70671,     0.70771,     0.70871,     0.70971,     0.71071,     0.71171,     0.71271,     0.71371,     0.71471,     0.71572,     0.71672,     0.71772,     0.71872,     0.71972,\n",
              "           0.72072,     0.72172,     0.72272,     0.72372,     0.72472,     0.72573,     0.72673,     0.72773,     0.72873,     0.72973,     0.73073,     0.73173,     0.73273,     0.73373,     0.73473,     0.73574,     0.73674,     0.73774,     0.73874,     0.73974,     0.74074,     0.74174,     0.74274,     0.74374,\n",
              "           0.74474,     0.74575,     0.74675,     0.74775,     0.74875,     0.74975,     0.75075,     0.75175,     0.75275,     0.75375,     0.75475,     0.75576,     0.75676,     0.75776,     0.75876,     0.75976,     0.76076,     0.76176,     0.76276,     0.76376,     0.76476,     0.76577,     0.76677,     0.76777,\n",
              "           0.76877,     0.76977,     0.77077,     0.77177,     0.77277,     0.77377,     0.77477,     0.77578,     0.77678,     0.77778,     0.77878,     0.77978,     0.78078,     0.78178,     0.78278,     0.78378,     0.78478,     0.78579,     0.78679,     0.78779,     0.78879,     0.78979,     0.79079,     0.79179,\n",
              "           0.79279,     0.79379,     0.79479,      0.7958,      0.7968,      0.7978,      0.7988,      0.7998,      0.8008,      0.8018,      0.8028,      0.8038,      0.8048,     0.80581,     0.80681,     0.80781,     0.80881,     0.80981,     0.81081,     0.81181,     0.81281,     0.81381,     0.81481,     0.81582,\n",
              "           0.81682,     0.81782,     0.81882,     0.81982,     0.82082,     0.82182,     0.82282,     0.82382,     0.82482,     0.82583,     0.82683,     0.82783,     0.82883,     0.82983,     0.83083,     0.83183,     0.83283,     0.83383,     0.83483,     0.83584,     0.83684,     0.83784,     0.83884,     0.83984,\n",
              "           0.84084,     0.84184,     0.84284,     0.84384,     0.84484,     0.84585,     0.84685,     0.84785,     0.84885,     0.84985,     0.85085,     0.85185,     0.85285,     0.85385,     0.85485,     0.85586,     0.85686,     0.85786,     0.85886,     0.85986,     0.86086,     0.86186,     0.86286,     0.86386,\n",
              "           0.86486,     0.86587,     0.86687,     0.86787,     0.86887,     0.86987,     0.87087,     0.87187,     0.87287,     0.87387,     0.87487,     0.87588,     0.87688,     0.87788,     0.87888,     0.87988,     0.88088,     0.88188,     0.88288,     0.88388,     0.88488,     0.88589,     0.88689,     0.88789,\n",
              "           0.88889,     0.88989,     0.89089,     0.89189,     0.89289,     0.89389,     0.89489,      0.8959,      0.8969,      0.8979,      0.8989,      0.8999,      0.9009,      0.9019,      0.9029,      0.9039,      0.9049,     0.90591,     0.90691,     0.90791,     0.90891,     0.90991,     0.91091,     0.91191,\n",
              "           0.91291,     0.91391,     0.91491,     0.91592,     0.91692,     0.91792,     0.91892,     0.91992,     0.92092,     0.92192,     0.92292,     0.92392,     0.92492,     0.92593,     0.92693,     0.92793,     0.92893,     0.92993,     0.93093,     0.93193,     0.93293,     0.93393,     0.93493,     0.93594,\n",
              "           0.93694,     0.93794,     0.93894,     0.93994,     0.94094,     0.94194,     0.94294,     0.94394,     0.94494,     0.94595,     0.94695,     0.94795,     0.94895,     0.94995,     0.95095,     0.95195,     0.95295,     0.95395,     0.95495,     0.95596,     0.95696,     0.95796,     0.95896,     0.95996,\n",
              "           0.96096,     0.96196,     0.96296,     0.96396,     0.96496,     0.96597,     0.96697,     0.96797,     0.96897,     0.96997,     0.97097,     0.97197,     0.97297,     0.97397,     0.97497,     0.97598,     0.97698,     0.97798,     0.97898,     0.97998,     0.98098,     0.98198,     0.98298,     0.98398,\n",
              "           0.98498,     0.98599,     0.98699,     0.98799,     0.98899,     0.98999,     0.99099,     0.99199,     0.99299,     0.99399,     0.99499,       0.996,       0.997,       0.998,       0.999,           1]), array([[          1,           1,           1,           1,           1,           1,           1,           1,     0.90323,     0.90323,     0.90323,     0.90323,     0.90323,     0.90323,     0.90323,     0.90323,     0.90323,     0.90323,     0.90323,     0.90323,     0.90323,     0.90323,     0.90323,\n",
              "            0.90323,     0.90323,     0.90323,     0.90323,     0.90323,     0.90323,     0.90323,     0.90323,     0.90323,     0.90323,     0.90323,     0.90323,     0.90323,     0.90323,     0.90323,     0.90323,     0.90323,     0.90323,     0.90323,     0.90323,     0.90323,     0.90323,     0.90323,\n",
              "            0.90323,     0.90323,     0.90323,     0.90323,     0.90323,     0.90323,     0.90323,     0.90323,     0.90323,     0.90323,     0.90323,     0.90323,     0.90323,     0.90323,     0.90323,     0.90323,     0.90323,     0.90323,     0.90323,     0.90323,     0.90323,     0.90323,     0.90323,\n",
              "            0.90323,     0.90323,     0.90323,     0.90323,     0.90323,     0.90323,     0.90323,     0.90323,     0.90323,     0.90323,     0.90323,     0.90323,     0.90323,     0.90323,     0.90323,     0.90323,     0.90323,     0.90323,     0.90323,     0.90323,     0.90323,     0.90323,     0.90323,\n",
              "            0.90323,     0.90323,     0.90323,     0.90323,     0.90323,     0.90323,     0.90323,     0.88571,     0.88571,     0.88571,     0.88571,     0.88571,     0.88571,     0.88571,     0.88571,     0.88571,     0.88571,     0.88571,     0.82051,     0.82051,     0.82051,     0.79167,     0.79167,\n",
              "            0.79167,     0.79167,     0.79167,     0.79167,     0.79167,     0.79167,     0.79167,     0.79167,     0.79167,     0.79167,     0.79167,     0.79167,     0.79167,     0.79167,     0.79167,     0.79167,     0.79167,     0.79167,     0.79167,     0.79167,     0.79167,     0.79167,     0.79167,\n",
              "            0.79167,     0.79167,     0.79167,     0.79167,     0.79167,     0.79167,     0.79167,     0.79167,     0.79167,     0.79167,     0.79167,     0.79167,     0.79167,     0.79167,     0.79167,     0.79167,     0.79167,     0.79167,     0.79167,     0.79167,     0.79167,     0.79167,     0.79167,\n",
              "            0.79167,     0.79167,     0.79167,     0.79167,     0.79167,     0.79167,     0.79167,     0.79167,     0.79167,     0.79167,     0.79167,     0.79167,     0.79167,     0.79167,     0.79167,     0.79167,     0.79167,     0.79167,     0.79167,     0.79167,     0.79167,     0.79167,     0.79167,\n",
              "            0.79167,     0.79167,     0.79167,     0.79167,     0.79167,     0.79167,     0.79167,     0.79167,     0.79167,     0.79167,     0.79167,     0.79167,     0.79167,     0.79167,     0.79167,     0.79167,     0.79167,     0.78723,     0.78723,     0.78723,     0.78723,     0.78723,     0.78723,\n",
              "            0.78723,     0.78723,     0.78723,     0.78723,     0.78723,     0.78723,     0.78723,     0.78723,     0.78723,     0.78723,     0.78723,     0.78723,     0.78723,     0.78723,     0.78723,     0.78723,     0.78723,     0.78723,     0.78723,     0.78723,     0.78723,     0.78723,     0.78723,\n",
              "            0.78723,     0.78723,     0.78723,     0.78723,     0.78723,     0.78723,     0.78723,     0.78723,     0.78723,     0.78723,     0.78723,     0.78723,     0.78723,     0.78723,     0.78723,     0.78723,     0.78723,     0.78723,     0.78723,     0.78723,     0.78723,     0.78723,     0.78723,\n",
              "            0.78723,     0.78723,     0.78723,     0.78723,     0.78723,     0.78723,     0.78723,     0.78723,     0.78571,     0.78571,     0.78571,     0.78571,     0.78571,     0.78571,     0.78571,     0.78571,     0.78571,     0.78571,     0.78571,     0.78571,     0.78571,     0.78571,     0.78571,\n",
              "            0.78571,     0.78571,     0.78571,     0.78571,     0.78571,     0.78571,     0.78571,     0.78571,     0.78571,     0.78571,     0.78571,     0.78571,     0.78571,     0.78571,     0.78571,     0.78571,     0.78571,     0.78571,     0.78571,     0.78571,     0.78571,     0.78571,     0.78571,\n",
              "            0.78571,     0.78571,     0.78571,     0.78571,     0.78571,     0.78571,     0.78571,     0.78571,     0.78571,     0.78571,     0.78571,     0.78571,     0.78571,     0.78571,     0.78571,     0.78571,     0.78571,     0.78571,     0.78571,     0.78571,     0.78571,     0.78571,     0.78571,\n",
              "            0.78571,     0.78571,     0.78571,     0.78571,     0.78571,     0.78571,     0.78571,     0.78571,     0.78571,     0.78571,     0.78571,     0.78571,     0.78571,     0.78571,     0.78571,     0.78571,     0.78571,     0.78571,     0.78571,     0.78571,     0.78571,     0.78571,     0.78571,\n",
              "            0.78571,     0.78571,     0.78571,     0.78571,     0.78358,     0.78358,     0.78358,     0.78358,     0.78358,     0.78358,     0.78358,     0.78358,     0.78358,     0.78358,     0.78358,     0.78358,     0.78358,     0.78358,     0.78358,     0.78358,     0.78358,     0.78358,     0.78358,\n",
              "            0.78358,     0.78358,     0.78261,     0.78261,     0.78261,     0.78261,     0.78261,     0.78261,     0.78261,     0.78261,     0.78261,     0.78261,     0.77465,     0.77465,     0.77465,     0.77465,     0.77465,     0.77465,     0.77465,     0.77397,     0.77397,     0.77397,     0.77397,\n",
              "            0.77397,     0.77397,     0.77397,     0.77397,     0.77397,     0.77397,     0.77397,     0.77027,     0.77027,     0.77027,     0.77027,     0.75325,     0.75325,     0.75325,     0.75325,     0.75325,     0.75325,     0.75325,        0.75,        0.75,        0.75,     0.74684,     0.74684,\n",
              "            0.74684,     0.74684,     0.74534,     0.74534,     0.74534,     0.74534,     0.74534,     0.74534,     0.74534,     0.73494,     0.73494,     0.73494,     0.73494,     0.73494,     0.73494,     0.73494,     0.72727,     0.72727,     0.72727,     0.72727,     0.72727,     0.72727,     0.72727,\n",
              "            0.72727,     0.72727,     0.72727,     0.72727,     0.72727,     0.72727,     0.72727,     0.72727,     0.72727,     0.72727,     0.72727,     0.72727,     0.72727,     0.72727,     0.72067,     0.72067,     0.72067,     0.71038,     0.71038,     0.71038,     0.71038,     0.70811,     0.70811,\n",
              "            0.70811,     0.70213,     0.70213,     0.70213,     0.70213,     0.69856,     0.69856,     0.69856,     0.69856,     0.69856,     0.69856,     0.69856,     0.69856,     0.69856,     0.69856,     0.69856,     0.69856,     0.69856,     0.69856,     0.69856,     0.69856,     0.69856,     0.69856,\n",
              "            0.69856,     0.69856,     0.69856,     0.69856,     0.69856,     0.69856,     0.69856,     0.69856,     0.69856,     0.69856,     0.69856,     0.69856,     0.69856,     0.69856,     0.69856,     0.69856,     0.69856,     0.69856,     0.69856,     0.69856,     0.69856,     0.69856,     0.69856,\n",
              "            0.69856,     0.69856,     0.69856,     0.69856,     0.69856,     0.69856,     0.69856,     0.69856,     0.69668,     0.69668,     0.69668,     0.69668,     0.69484,     0.69484,     0.69484,     0.69302,     0.69302,     0.69302,     0.69302,      0.6895,      0.6895,      0.6895,      0.6895,\n",
              "             0.6895,      0.6895,      0.6895,     0.68919,     0.68919,     0.68919,     0.68919,     0.68919,     0.68919,     0.68919,     0.67841,     0.67841,     0.67841,       0.671,       0.671,       0.671,       0.671,     0.64198,     0.64198,     0.64198,     0.57091,     0.57091,     0.57091,\n",
              "            0.57091,     0.54296,     0.54296,     0.54296,     0.53872,     0.53872,     0.53872,     0.53872,     0.53872,     0.53872,     0.53872,     0.52443,     0.52443,     0.52443,     0.52443,     0.50467,     0.50467,     0.50467,     0.50154,     0.50154,     0.50154,     0.50154,     0.49102,\n",
              "            0.49102,     0.49102,     0.47688,     0.47688,     0.47688,     0.47688,     0.47564,     0.47564,     0.47564,     0.47309,     0.47309,     0.47309,     0.47309,     0.46927,     0.46927,     0.46927,     0.45213,     0.45213,     0.45213,     0.45213,     0.45213,     0.45213,     0.45213,\n",
              "            0.44301,     0.44301,     0.44301,     0.44301,     0.43532,     0.43532,     0.43532,     0.43532,     0.43532,     0.43532,     0.43532,     0.43532,     0.43532,     0.43532,     0.43532,     0.43532,     0.43532,     0.43532,     0.43457,     0.43457,     0.43457,     0.43457,     0.41943,\n",
              "            0.41943,     0.41943,     0.40547,     0.40547,     0.40547,     0.40547,     0.40359,     0.40359,     0.40359,     0.40359,     0.40359,     0.40359,     0.40359,     0.39606,     0.39606,     0.39606,     0.38235,     0.38235,     0.38235,     0.38235,     0.37347,     0.37347,     0.37347,\n",
              "            0.36653,     0.36653,     0.36653,     0.36653,     0.36595,     0.36595,     0.36595,     0.36595,     0.36595,     0.36595,     0.36595,     0.36595,     0.36595,     0.36595,     0.33935,     0.33935,     0.33935,     0.33935,      0.3381,      0.3381,      0.3381,     0.33043,     0.33043,\n",
              "            0.33043,     0.33043,     0.32667,     0.32667,     0.32667,     0.32667,     0.32667,     0.32667,     0.32667,     0.32667,     0.32667,     0.32667,     0.32667,     0.32667,     0.32667,     0.32667,     0.32667,     0.32667,     0.32667,     0.32667,     0.32667,     0.32667,     0.32667,\n",
              "            0.31877,     0.31877,     0.31877,     0.31479,     0.31479,     0.31479,     0.31479,     0.31142,     0.31142,     0.31142,     0.31142,     0.31008,     0.31008,     0.31008,     0.30149,     0.30149,     0.30149,     0.30149,     0.30149,     0.30149,     0.30149,     0.29985,     0.29985,\n",
              "            0.29985,     0.29985,     0.29927,     0.29927,     0.29927,     0.29927,     0.29927,     0.29927,     0.29927,     0.29769,     0.29769,     0.29769,     0.29741,     0.29741,     0.29741,     0.29741,      0.2901,      0.2901,      0.2901,     0.28926,     0.28926,     0.28926,     0.28926,\n",
              "            0.28926,     0.28926,     0.28926,     0.28079,     0.28079,     0.28079,     0.28079,     0.28079,     0.28079,     0.28079,     0.27828,     0.27828,     0.27828,     0.27828,     0.27828,     0.27828,     0.27828,     0.27706,     0.27706,     0.27706,     0.27706,     0.27136,     0.27136,\n",
              "            0.27136,     0.26176,     0.26176,     0.26176,     0.26176,     0.25408,     0.25408,     0.25408,      0.2483,      0.2483,      0.2483,      0.2483,     0.23355,     0.23355,     0.23355,     0.22925,     0.22925,     0.22925,     0.22925,     0.22492,     0.22492,     0.22492,     0.22145,\n",
              "            0.22145,     0.22145,     0.22145,     0.22134,     0.22134,     0.22134,     0.21984,     0.21984,     0.21984,     0.21984,     0.21984,     0.21984,     0.21984,     0.19824,     0.19824,     0.19824,     0.19824,     0.19824,     0.19824,     0.19824,     0.19824,     0.19824,     0.19824,\n",
              "            0.19824,     0.19824,     0.19824,     0.19824,     0.19824,     0.19824,     0.19824,     0.19824,     0.19824,     0.19824,     0.19824,     0.19824,     0.19824,     0.19824,     0.19824,     0.19824,     0.19824,     0.19824,     0.19824,     0.19824,     0.19824,     0.19824,     0.19824,\n",
              "            0.19824,     0.19824,     0.19824,     0.19824,     0.19824,     0.19824,     0.19824,     0.19824,     0.19824,     0.19824,     0.19824,     0.19824,     0.19824,     0.19824,     0.19824,     0.19824,     0.19824,     0.19824,     0.19824,     0.19824,     0.19824,     0.19824,     0.19824,\n",
              "            0.19824,     0.19824,     0.19824,     0.19824,     0.19824,     0.19824,     0.19824,     0.19824,     0.19824,     0.19824,     0.19824,     0.19824,     0.19824,     0.19824,     0.19824,     0.19824,     0.19824,     0.19824,     0.19824,     0.19824,     0.19824,     0.19824,     0.19525,\n",
              "            0.19525,     0.19525,     0.19525,     0.19525,     0.19525,     0.19525,     0.19525,     0.19525,     0.19525,     0.19525,     0.19525,     0.19525,     0.19525,     0.19525,     0.19525,     0.19525,     0.19525,     0.19525,     0.19525,     0.19525,     0.19525,     0.19525,     0.19525,\n",
              "            0.19076,     0.19076,     0.19076,     0.19076,     0.19055,     0.19055,     0.19055,     0.19055,     0.19055,     0.19055,     0.19055,     0.18755,     0.18755,     0.18755,     0.18755,     0.18466,     0.18466,     0.18466,      0.1815,      0.1815,      0.1815,      0.1815,      0.1807,\n",
              "             0.1807,      0.1807,      0.1807,      0.1807,      0.1807,      0.1807,      0.1807,      0.1807,      0.1807,     0.17538,     0.17538,     0.17538,     0.17538,     0.17443,     0.17443,     0.17443,     0.17315,     0.17315,     0.17315,     0.17315,     0.17301,     0.17301,     0.17301,\n",
              "            0.15848,     0.15848,     0.15848,     0.15848,     0.15848,     0.15848,     0.15848,     0.15848,     0.15848,     0.15848,     0.15848,     0.15614,     0.15614,     0.15614,     0.15017,     0.15017,     0.15017,     0.15017,     0.14051,     0.14051,     0.14051,     0.13805,     0.13805,\n",
              "            0.13805,     0.13805,    0.080046,    0.080046,    0.080046,    0.070935,    0.070935,    0.070935,    0.070935,    0.067312,    0.067312,    0.067312,    0.063932,    0.063932,    0.063932,    0.063932,    0.060384,    0.060384,    0.060384,     0.05994,     0.05994,     0.05994,     0.05994,\n",
              "            0.05712,     0.05712,     0.05712,    0.054612,    0.054612,    0.054612,    0.054612,    0.053283,    0.053283,    0.053283,           0]]), 'Recall', 'Precision'], [array([          0,    0.001001,    0.002002,    0.003003,    0.004004,    0.005005,    0.006006,    0.007007,    0.008008,    0.009009,     0.01001,    0.011011,    0.012012,    0.013013,    0.014014,    0.015015,    0.016016,    0.017017,    0.018018,    0.019019,     0.02002,    0.021021,    0.022022,    0.023023,\n",
              "          0.024024,    0.025025,    0.026026,    0.027027,    0.028028,    0.029029,     0.03003,    0.031031,    0.032032,    0.033033,    0.034034,    0.035035,    0.036036,    0.037037,    0.038038,    0.039039,     0.04004,    0.041041,    0.042042,    0.043043,    0.044044,    0.045045,    0.046046,    0.047047,\n",
              "          0.048048,    0.049049,     0.05005,    0.051051,    0.052052,    0.053053,    0.054054,    0.055055,    0.056056,    0.057057,    0.058058,    0.059059,     0.06006,    0.061061,    0.062062,    0.063063,    0.064064,    0.065065,    0.066066,    0.067067,    0.068068,    0.069069,     0.07007,    0.071071,\n",
              "          0.072072,    0.073073,    0.074074,    0.075075,    0.076076,    0.077077,    0.078078,    0.079079,     0.08008,    0.081081,    0.082082,    0.083083,    0.084084,    0.085085,    0.086086,    0.087087,    0.088088,    0.089089,     0.09009,    0.091091,    0.092092,    0.093093,    0.094094,    0.095095,\n",
              "          0.096096,    0.097097,    0.098098,    0.099099,      0.1001,      0.1011,      0.1021,      0.1031,      0.1041,     0.10511,     0.10611,     0.10711,     0.10811,     0.10911,     0.11011,     0.11111,     0.11211,     0.11311,     0.11411,     0.11512,     0.11612,     0.11712,     0.11812,     0.11912,\n",
              "           0.12012,     0.12112,     0.12212,     0.12312,     0.12412,     0.12513,     0.12613,     0.12713,     0.12813,     0.12913,     0.13013,     0.13113,     0.13213,     0.13313,     0.13413,     0.13514,     0.13614,     0.13714,     0.13814,     0.13914,     0.14014,     0.14114,     0.14214,     0.14314,\n",
              "           0.14414,     0.14515,     0.14615,     0.14715,     0.14815,     0.14915,     0.15015,     0.15115,     0.15215,     0.15315,     0.15415,     0.15516,     0.15616,     0.15716,     0.15816,     0.15916,     0.16016,     0.16116,     0.16216,     0.16316,     0.16416,     0.16517,     0.16617,     0.16717,\n",
              "           0.16817,     0.16917,     0.17017,     0.17117,     0.17217,     0.17317,     0.17417,     0.17518,     0.17618,     0.17718,     0.17818,     0.17918,     0.18018,     0.18118,     0.18218,     0.18318,     0.18418,     0.18519,     0.18619,     0.18719,     0.18819,     0.18919,     0.19019,     0.19119,\n",
              "           0.19219,     0.19319,     0.19419,      0.1952,      0.1962,      0.1972,      0.1982,      0.1992,      0.2002,      0.2012,      0.2022,      0.2032,      0.2042,     0.20521,     0.20621,     0.20721,     0.20821,     0.20921,     0.21021,     0.21121,     0.21221,     0.21321,     0.21421,     0.21522,\n",
              "           0.21622,     0.21722,     0.21822,     0.21922,     0.22022,     0.22122,     0.22222,     0.22322,     0.22422,     0.22523,     0.22623,     0.22723,     0.22823,     0.22923,     0.23023,     0.23123,     0.23223,     0.23323,     0.23423,     0.23524,     0.23624,     0.23724,     0.23824,     0.23924,\n",
              "           0.24024,     0.24124,     0.24224,     0.24324,     0.24424,     0.24525,     0.24625,     0.24725,     0.24825,     0.24925,     0.25025,     0.25125,     0.25225,     0.25325,     0.25425,     0.25526,     0.25626,     0.25726,     0.25826,     0.25926,     0.26026,     0.26126,     0.26226,     0.26326,\n",
              "           0.26426,     0.26527,     0.26627,     0.26727,     0.26827,     0.26927,     0.27027,     0.27127,     0.27227,     0.27327,     0.27427,     0.27528,     0.27628,     0.27728,     0.27828,     0.27928,     0.28028,     0.28128,     0.28228,     0.28328,     0.28428,     0.28529,     0.28629,     0.28729,\n",
              "           0.28829,     0.28929,     0.29029,     0.29129,     0.29229,     0.29329,     0.29429,      0.2953,      0.2963,      0.2973,      0.2983,      0.2993,      0.3003,      0.3013,      0.3023,      0.3033,      0.3043,     0.30531,     0.30631,     0.30731,     0.30831,     0.30931,     0.31031,     0.31131,\n",
              "           0.31231,     0.31331,     0.31431,     0.31532,     0.31632,     0.31732,     0.31832,     0.31932,     0.32032,     0.32132,     0.32232,     0.32332,     0.32432,     0.32533,     0.32633,     0.32733,     0.32833,     0.32933,     0.33033,     0.33133,     0.33233,     0.33333,     0.33433,     0.33534,\n",
              "           0.33634,     0.33734,     0.33834,     0.33934,     0.34034,     0.34134,     0.34234,     0.34334,     0.34434,     0.34535,     0.34635,     0.34735,     0.34835,     0.34935,     0.35035,     0.35135,     0.35235,     0.35335,     0.35435,     0.35536,     0.35636,     0.35736,     0.35836,     0.35936,\n",
              "           0.36036,     0.36136,     0.36236,     0.36336,     0.36436,     0.36537,     0.36637,     0.36737,     0.36837,     0.36937,     0.37037,     0.37137,     0.37237,     0.37337,     0.37437,     0.37538,     0.37638,     0.37738,     0.37838,     0.37938,     0.38038,     0.38138,     0.38238,     0.38338,\n",
              "           0.38438,     0.38539,     0.38639,     0.38739,     0.38839,     0.38939,     0.39039,     0.39139,     0.39239,     0.39339,     0.39439,      0.3954,      0.3964,      0.3974,      0.3984,      0.3994,      0.4004,      0.4014,      0.4024,      0.4034,      0.4044,     0.40541,     0.40641,     0.40741,\n",
              "           0.40841,     0.40941,     0.41041,     0.41141,     0.41241,     0.41341,     0.41441,     0.41542,     0.41642,     0.41742,     0.41842,     0.41942,     0.42042,     0.42142,     0.42242,     0.42342,     0.42442,     0.42543,     0.42643,     0.42743,     0.42843,     0.42943,     0.43043,     0.43143,\n",
              "           0.43243,     0.43343,     0.43443,     0.43544,     0.43644,     0.43744,     0.43844,     0.43944,     0.44044,     0.44144,     0.44244,     0.44344,     0.44444,     0.44545,     0.44645,     0.44745,     0.44845,     0.44945,     0.45045,     0.45145,     0.45245,     0.45345,     0.45445,     0.45546,\n",
              "           0.45646,     0.45746,     0.45846,     0.45946,     0.46046,     0.46146,     0.46246,     0.46346,     0.46446,     0.46547,     0.46647,     0.46747,     0.46847,     0.46947,     0.47047,     0.47147,     0.47247,     0.47347,     0.47447,     0.47548,     0.47648,     0.47748,     0.47848,     0.47948,\n",
              "           0.48048,     0.48148,     0.48248,     0.48348,     0.48448,     0.48549,     0.48649,     0.48749,     0.48849,     0.48949,     0.49049,     0.49149,     0.49249,     0.49349,     0.49449,      0.4955,      0.4965,      0.4975,      0.4985,      0.4995,      0.5005,      0.5015,      0.5025,      0.5035,\n",
              "            0.5045,     0.50551,     0.50651,     0.50751,     0.50851,     0.50951,     0.51051,     0.51151,     0.51251,     0.51351,     0.51451,     0.51552,     0.51652,     0.51752,     0.51852,     0.51952,     0.52052,     0.52152,     0.52252,     0.52352,     0.52452,     0.52553,     0.52653,     0.52753,\n",
              "           0.52853,     0.52953,     0.53053,     0.53153,     0.53253,     0.53353,     0.53453,     0.53554,     0.53654,     0.53754,     0.53854,     0.53954,     0.54054,     0.54154,     0.54254,     0.54354,     0.54454,     0.54555,     0.54655,     0.54755,     0.54855,     0.54955,     0.55055,     0.55155,\n",
              "           0.55255,     0.55355,     0.55455,     0.55556,     0.55656,     0.55756,     0.55856,     0.55956,     0.56056,     0.56156,     0.56256,     0.56356,     0.56456,     0.56557,     0.56657,     0.56757,     0.56857,     0.56957,     0.57057,     0.57157,     0.57257,     0.57357,     0.57457,     0.57558,\n",
              "           0.57658,     0.57758,     0.57858,     0.57958,     0.58058,     0.58158,     0.58258,     0.58358,     0.58458,     0.58559,     0.58659,     0.58759,     0.58859,     0.58959,     0.59059,     0.59159,     0.59259,     0.59359,     0.59459,      0.5956,      0.5966,      0.5976,      0.5986,      0.5996,\n",
              "            0.6006,      0.6016,      0.6026,      0.6036,      0.6046,     0.60561,     0.60661,     0.60761,     0.60861,     0.60961,     0.61061,     0.61161,     0.61261,     0.61361,     0.61461,     0.61562,     0.61662,     0.61762,     0.61862,     0.61962,     0.62062,     0.62162,     0.62262,     0.62362,\n",
              "           0.62462,     0.62563,     0.62663,     0.62763,     0.62863,     0.62963,     0.63063,     0.63163,     0.63263,     0.63363,     0.63463,     0.63564,     0.63664,     0.63764,     0.63864,     0.63964,     0.64064,     0.64164,     0.64264,     0.64364,     0.64464,     0.64565,     0.64665,     0.64765,\n",
              "           0.64865,     0.64965,     0.65065,     0.65165,     0.65265,     0.65365,     0.65465,     0.65566,     0.65666,     0.65766,     0.65866,     0.65966,     0.66066,     0.66166,     0.66266,     0.66366,     0.66466,     0.66567,     0.66667,     0.66767,     0.66867,     0.66967,     0.67067,     0.67167,\n",
              "           0.67267,     0.67367,     0.67467,     0.67568,     0.67668,     0.67768,     0.67868,     0.67968,     0.68068,     0.68168,     0.68268,     0.68368,     0.68468,     0.68569,     0.68669,     0.68769,     0.68869,     0.68969,     0.69069,     0.69169,     0.69269,     0.69369,     0.69469,      0.6957,\n",
              "            0.6967,      0.6977,      0.6987,      0.6997,      0.7007,      0.7017,      0.7027,      0.7037,      0.7047,     0.70571,     0.70671,     0.70771,     0.70871,     0.70971,     0.71071,     0.71171,     0.71271,     0.71371,     0.71471,     0.71572,     0.71672,     0.71772,     0.71872,     0.71972,\n",
              "           0.72072,     0.72172,     0.72272,     0.72372,     0.72472,     0.72573,     0.72673,     0.72773,     0.72873,     0.72973,     0.73073,     0.73173,     0.73273,     0.73373,     0.73473,     0.73574,     0.73674,     0.73774,     0.73874,     0.73974,     0.74074,     0.74174,     0.74274,     0.74374,\n",
              "           0.74474,     0.74575,     0.74675,     0.74775,     0.74875,     0.74975,     0.75075,     0.75175,     0.75275,     0.75375,     0.75475,     0.75576,     0.75676,     0.75776,     0.75876,     0.75976,     0.76076,     0.76176,     0.76276,     0.76376,     0.76476,     0.76577,     0.76677,     0.76777,\n",
              "           0.76877,     0.76977,     0.77077,     0.77177,     0.77277,     0.77377,     0.77477,     0.77578,     0.77678,     0.77778,     0.77878,     0.77978,     0.78078,     0.78178,     0.78278,     0.78378,     0.78478,     0.78579,     0.78679,     0.78779,     0.78879,     0.78979,     0.79079,     0.79179,\n",
              "           0.79279,     0.79379,     0.79479,      0.7958,      0.7968,      0.7978,      0.7988,      0.7998,      0.8008,      0.8018,      0.8028,      0.8038,      0.8048,     0.80581,     0.80681,     0.80781,     0.80881,     0.80981,     0.81081,     0.81181,     0.81281,     0.81381,     0.81481,     0.81582,\n",
              "           0.81682,     0.81782,     0.81882,     0.81982,     0.82082,     0.82182,     0.82282,     0.82382,     0.82482,     0.82583,     0.82683,     0.82783,     0.82883,     0.82983,     0.83083,     0.83183,     0.83283,     0.83383,     0.83483,     0.83584,     0.83684,     0.83784,     0.83884,     0.83984,\n",
              "           0.84084,     0.84184,     0.84284,     0.84384,     0.84484,     0.84585,     0.84685,     0.84785,     0.84885,     0.84985,     0.85085,     0.85185,     0.85285,     0.85385,     0.85485,     0.85586,     0.85686,     0.85786,     0.85886,     0.85986,     0.86086,     0.86186,     0.86286,     0.86386,\n",
              "           0.86486,     0.86587,     0.86687,     0.86787,     0.86887,     0.86987,     0.87087,     0.87187,     0.87287,     0.87387,     0.87487,     0.87588,     0.87688,     0.87788,     0.87888,     0.87988,     0.88088,     0.88188,     0.88288,     0.88388,     0.88488,     0.88589,     0.88689,     0.88789,\n",
              "           0.88889,     0.88989,     0.89089,     0.89189,     0.89289,     0.89389,     0.89489,      0.8959,      0.8969,      0.8979,      0.8989,      0.8999,      0.9009,      0.9019,      0.9029,      0.9039,      0.9049,     0.90591,     0.90691,     0.90791,     0.90891,     0.90991,     0.91091,     0.91191,\n",
              "           0.91291,     0.91391,     0.91491,     0.91592,     0.91692,     0.91792,     0.91892,     0.91992,     0.92092,     0.92192,     0.92292,     0.92392,     0.92492,     0.92593,     0.92693,     0.92793,     0.92893,     0.92993,     0.93093,     0.93193,     0.93293,     0.93393,     0.93493,     0.93594,\n",
              "           0.93694,     0.93794,     0.93894,     0.93994,     0.94094,     0.94194,     0.94294,     0.94394,     0.94494,     0.94595,     0.94695,     0.94795,     0.94895,     0.94995,     0.95095,     0.95195,     0.95295,     0.95395,     0.95495,     0.95596,     0.95696,     0.95796,     0.95896,     0.95996,\n",
              "           0.96096,     0.96196,     0.96296,     0.96396,     0.96496,     0.96597,     0.96697,     0.96797,     0.96897,     0.96997,     0.97097,     0.97197,     0.97297,     0.97397,     0.97497,     0.97598,     0.97698,     0.97798,     0.97898,     0.97998,     0.98098,     0.98198,     0.98298,     0.98398,\n",
              "           0.98498,     0.98599,     0.98699,     0.98799,     0.98899,     0.98999,     0.99099,     0.99199,     0.99299,     0.99399,     0.99499,       0.996,       0.997,       0.998,       0.999,           1]), array([[   0.077007,    0.077007,    0.089167,    0.099212,     0.10759,      0.1144,     0.12215,     0.12931,     0.13752,     0.14521,     0.15342,     0.16099,     0.16851,     0.17689,     0.18811,     0.19899,     0.20952,     0.21856,     0.22849,      0.2404,     0.24864,     0.25771,     0.26548,\n",
              "             0.2718,     0.28011,      0.2872,     0.29318,     0.29749,      0.3022,     0.30642,     0.31155,     0.31465,     0.31887,     0.31728,     0.32105,     0.32302,     0.31708,     0.31282,     0.31116,     0.31292,     0.31513,     0.31661,     0.32224,     0.32712,     0.33099,      0.3344,\n",
              "            0.33663,     0.33905,     0.34286,     0.34339,     0.34435,     0.34529,     0.34535,     0.34837,     0.34879,     0.35066,     0.35404,     0.35488,     0.35675,     0.35869,     0.35892,     0.36091,     0.36308,     0.36655,     0.36758,     0.36923,     0.37173,     0.37499,     0.37556,\n",
              "            0.37787,     0.38079,     0.38216,     0.38438,     0.39083,     0.39721,       0.402,     0.40479,     0.40553,      0.4078,      0.4147,     0.41566,     0.41867,     0.42177,     0.42271,      0.4213,     0.42172,     0.42301,     0.42067,     0.42102,     0.42325,     0.42455,     0.42523,\n",
              "            0.42574,     0.42708,     0.42885,     0.43051,     0.42908,     0.42966,     0.43051,     0.43119,     0.43027,     0.43188,     0.43346,     0.43259,     0.43578,     0.43783,     0.44284,     0.43997,     0.43886,     0.43925,     0.44057,     0.44594,     0.44877,     0.45651,      0.4644,\n",
              "            0.46585,     0.46912,     0.47194,     0.47636,     0.48174,     0.48429,     0.48889,     0.49237,     0.49969,     0.50542,     0.50874,     0.50773,     0.51029,     0.51462,     0.51448,     0.52218,     0.52349,     0.52667,     0.52961,     0.53304,     0.53423,     0.53761,     0.54003,\n",
              "            0.54405,      0.5488,     0.54767,      0.5517,     0.55744,     0.56237,     0.56349,     0.56625,     0.56739,     0.57481,     0.57902,     0.58232,     0.58455,     0.58585,     0.58992,     0.59062,     0.59071,       0.594,     0.59505,      0.5974,     0.59881,      0.5996,     0.60094,\n",
              "             0.6014,     0.60185,     0.60055,     0.59928,     0.59952,     0.59975,     0.59999,     0.60023,     0.60044,      0.6006,     0.60075,     0.60091,     0.60106,     0.60122,     0.60137,     0.60153,      0.6024,     0.60067,     0.60159,     0.60241,     0.60282,     0.60323,     0.60394,\n",
              "            0.60379,     0.60217,     0.59974,     0.59609,     0.59568,     0.59289,     0.59206,     0.59026,     0.57352,     0.55848,     0.56116,     0.55808,     0.55368,      0.5563,      0.5492,     0.53955,     0.53861,     0.52299,     0.52543,     0.51182,     0.50968,     0.49995,     0.48269,\n",
              "            0.45729,      0.4464,     0.41937,     0.40895,     0.39093,     0.38194,     0.36758,     0.35289,     0.33296,     0.32286,     0.30728,     0.28875,     0.26357,     0.26273,     0.26312,     0.23062,     0.22076,     0.19531,     0.19698,     0.19744,     0.19357,     0.18173,     0.17354,\n",
              "            0.15425,     0.13498,     0.13282,     0.13065,     0.11945,    0.096824,    0.084355,    0.079714,    0.077753,     0.07579,    0.058717,    0.051463,    0.047615,    0.044574,    0.041525,    0.035826,    0.026201,    0.022458,    0.013942,    0.013962,    0.013977,    0.013749,    0.012886,\n",
              "           0.012022,    0.011157,    0.010291,   0.0094249,   0.0085578,   0.0076899,           0,           0,           0,           0,           0,           0,           0,           0,           0,           0,           0,           0,           0,           0,           0,           0,           0,\n",
              "                  0,           0,           0,           0,           0,           0,           0,           0,           0,           0,           0,           0,           0,           0,           0,           0,           0,           0,           0,           0,           0,           0,           0,\n",
              "                  0,           0,           0,           0,           0,           0,           0,           0,           0,           0,           0,           0,           0,           0,           0,           0,           0,           0,           0,           0,           0,           0,           0,\n",
              "                  0,           0,           0,           0,           0,           0,           0,           0,           0,           0,           0,           0,           0,           0,           0,           0,           0,           0,           0,           0,           0,           0,           0,\n",
              "                  0,           0,           0,           0,           0,           0,           0,           0,           0,           0,           0,           0,           0,           0,           0,           0,           0,           0,           0,           0,           0,           0,           0,\n",
              "                  0,           0,           0,           0,           0,           0,           0,           0,           0,           0,           0,           0,           0,           0,           0,           0,           0,           0,           0,           0,           0,           0,           0,\n",
              "                  0,           0,           0,           0,           0,           0,           0,           0,           0,           0,           0,           0,           0,           0,           0,           0,           0,           0,           0,           0,           0,           0,           0,\n",
              "                  0,           0,           0,           0,           0,           0,           0,           0,           0,           0,           0,           0,           0,           0,           0,           0,           0,           0,           0,           0,           0,           0,           0,\n",
              "                  0,           0,           0,           0,           0,           0,           0,           0,           0,           0,           0,           0,           0,           0,           0,           0,           0,           0,           0,           0,           0,           0,           0,\n",
              "                  0,           0,           0,           0,           0,           0,           0,           0,           0,           0,           0,           0,           0,           0,           0,           0,           0,           0,           0,           0,           0,           0,           0,\n",
              "                  0,           0,           0,           0,           0,           0,           0,           0,           0,           0,           0,           0,           0,           0,           0,           0,           0,           0,           0,           0,           0,           0,           0,\n",
              "                  0,           0,           0,           0,           0,           0,           0,           0,           0,           0,           0,           0,           0,           0,           0,           0,           0,           0,           0,           0,           0,           0,           0,\n",
              "                  0,           0,           0,           0,           0,           0,           0,           0,           0,           0,           0,           0,           0,           0,           0,           0,           0,           0,           0,           0,           0,           0,           0,\n",
              "                  0,           0,           0,           0,           0,           0,           0,           0,           0,           0,           0,           0,           0,           0,           0,           0,           0,           0,           0,           0,           0,           0,           0,\n",
              "                  0,           0,           0,           0,           0,           0,           0,           0,           0,           0,           0,           0,           0,           0,           0,           0,           0,           0,           0,           0,           0,           0,           0,\n",
              "                  0,           0,           0,           0,           0,           0,           0,           0,           0,           0,           0,           0,           0,           0,           0,           0,           0,           0,           0,           0,           0,           0,           0,\n",
              "                  0,           0,           0,           0,           0,           0,           0,           0,           0,           0,           0,           0,           0,           0,           0,           0,           0,           0,           0,           0,           0,           0,           0,\n",
              "                  0,           0,           0,           0,           0,           0,           0,           0,           0,           0,           0,           0,           0,           0,           0,           0,           0,           0,           0,           0,           0,           0,           0,\n",
              "                  0,           0,           0,           0,           0,           0,           0,           0,           0,           0,           0,           0,           0,           0,           0,           0,           0,           0,           0,           0,           0,           0,           0,\n",
              "                  0,           0,           0,           0,           0,           0,           0,           0,           0,           0,           0,           0,           0,           0,           0,           0,           0,           0,           0,           0,           0,           0,           0,\n",
              "                  0,           0,           0,           0,           0,           0,           0,           0,           0,           0,           0,           0,           0,           0,           0,           0,           0,           0,           0,           0,           0,           0,           0,\n",
              "                  0,           0,           0,           0,           0,           0,           0,           0,           0,           0,           0,           0,           0,           0,           0,           0,           0,           0,           0,           0,           0,           0,           0,\n",
              "                  0,           0,           0,           0,           0,           0,           0,           0,           0,           0,           0,           0,           0,           0,           0,           0,           0,           0,           0,           0,           0,           0,           0,\n",
              "                  0,           0,           0,           0,           0,           0,           0,           0,           0,           0,           0,           0,           0,           0,           0,           0,           0,           0,           0,           0,           0,           0,           0,\n",
              "                  0,           0,           0,           0,           0,           0,           0,           0,           0,           0,           0,           0,           0,           0,           0,           0,           0,           0,           0,           0,           0,           0,           0,\n",
              "                  0,           0,           0,           0,           0,           0,           0,           0,           0,           0,           0,           0,           0,           0,           0,           0,           0,           0,           0,           0,           0,           0,           0,\n",
              "                  0,           0,           0,           0,           0,           0,           0,           0,           0,           0,           0,           0,           0,           0,           0,           0,           0,           0,           0,           0,           0,           0,           0,\n",
              "                  0,           0,           0,           0,           0,           0,           0,           0,           0,           0,           0,           0,           0,           0,           0,           0,           0,           0,           0,           0,           0,           0,           0,\n",
              "                  0,           0,           0,           0,           0,           0,           0,           0,           0,           0,           0,           0,           0,           0,           0,           0,           0,           0,           0,           0,           0,           0,           0,\n",
              "                  0,           0,           0,           0,           0,           0,           0,           0,           0,           0,           0,           0,           0,           0,           0,           0,           0,           0,           0,           0,           0,           0,           0,\n",
              "                  0,           0,           0,           0,           0,           0,           0,           0,           0,           0,           0,           0,           0,           0,           0,           0,           0,           0,           0,           0,           0,           0,           0,\n",
              "                  0,           0,           0,           0,           0,           0,           0,           0,           0,           0,           0,           0,           0,           0,           0,           0,           0,           0,           0,           0,           0,           0,           0,\n",
              "                  0,           0,           0,           0,           0,           0,           0,           0,           0,           0,           0]]), 'Confidence', 'F1'], [array([          0,    0.001001,    0.002002,    0.003003,    0.004004,    0.005005,    0.006006,    0.007007,    0.008008,    0.009009,     0.01001,    0.011011,    0.012012,    0.013013,    0.014014,    0.015015,    0.016016,    0.017017,    0.018018,    0.019019,     0.02002,    0.021021,    0.022022,    0.023023,\n",
              "          0.024024,    0.025025,    0.026026,    0.027027,    0.028028,    0.029029,     0.03003,    0.031031,    0.032032,    0.033033,    0.034034,    0.035035,    0.036036,    0.037037,    0.038038,    0.039039,     0.04004,    0.041041,    0.042042,    0.043043,    0.044044,    0.045045,    0.046046,    0.047047,\n",
              "          0.048048,    0.049049,     0.05005,    0.051051,    0.052052,    0.053053,    0.054054,    0.055055,    0.056056,    0.057057,    0.058058,    0.059059,     0.06006,    0.061061,    0.062062,    0.063063,    0.064064,    0.065065,    0.066066,    0.067067,    0.068068,    0.069069,     0.07007,    0.071071,\n",
              "          0.072072,    0.073073,    0.074074,    0.075075,    0.076076,    0.077077,    0.078078,    0.079079,     0.08008,    0.081081,    0.082082,    0.083083,    0.084084,    0.085085,    0.086086,    0.087087,    0.088088,    0.089089,     0.09009,    0.091091,    0.092092,    0.093093,    0.094094,    0.095095,\n",
              "          0.096096,    0.097097,    0.098098,    0.099099,      0.1001,      0.1011,      0.1021,      0.1031,      0.1041,     0.10511,     0.10611,     0.10711,     0.10811,     0.10911,     0.11011,     0.11111,     0.11211,     0.11311,     0.11411,     0.11512,     0.11612,     0.11712,     0.11812,     0.11912,\n",
              "           0.12012,     0.12112,     0.12212,     0.12312,     0.12412,     0.12513,     0.12613,     0.12713,     0.12813,     0.12913,     0.13013,     0.13113,     0.13213,     0.13313,     0.13413,     0.13514,     0.13614,     0.13714,     0.13814,     0.13914,     0.14014,     0.14114,     0.14214,     0.14314,\n",
              "           0.14414,     0.14515,     0.14615,     0.14715,     0.14815,     0.14915,     0.15015,     0.15115,     0.15215,     0.15315,     0.15415,     0.15516,     0.15616,     0.15716,     0.15816,     0.15916,     0.16016,     0.16116,     0.16216,     0.16316,     0.16416,     0.16517,     0.16617,     0.16717,\n",
              "           0.16817,     0.16917,     0.17017,     0.17117,     0.17217,     0.17317,     0.17417,     0.17518,     0.17618,     0.17718,     0.17818,     0.17918,     0.18018,     0.18118,     0.18218,     0.18318,     0.18418,     0.18519,     0.18619,     0.18719,     0.18819,     0.18919,     0.19019,     0.19119,\n",
              "           0.19219,     0.19319,     0.19419,      0.1952,      0.1962,      0.1972,      0.1982,      0.1992,      0.2002,      0.2012,      0.2022,      0.2032,      0.2042,     0.20521,     0.20621,     0.20721,     0.20821,     0.20921,     0.21021,     0.21121,     0.21221,     0.21321,     0.21421,     0.21522,\n",
              "           0.21622,     0.21722,     0.21822,     0.21922,     0.22022,     0.22122,     0.22222,     0.22322,     0.22422,     0.22523,     0.22623,     0.22723,     0.22823,     0.22923,     0.23023,     0.23123,     0.23223,     0.23323,     0.23423,     0.23524,     0.23624,     0.23724,     0.23824,     0.23924,\n",
              "           0.24024,     0.24124,     0.24224,     0.24324,     0.24424,     0.24525,     0.24625,     0.24725,     0.24825,     0.24925,     0.25025,     0.25125,     0.25225,     0.25325,     0.25425,     0.25526,     0.25626,     0.25726,     0.25826,     0.25926,     0.26026,     0.26126,     0.26226,     0.26326,\n",
              "           0.26426,     0.26527,     0.26627,     0.26727,     0.26827,     0.26927,     0.27027,     0.27127,     0.27227,     0.27327,     0.27427,     0.27528,     0.27628,     0.27728,     0.27828,     0.27928,     0.28028,     0.28128,     0.28228,     0.28328,     0.28428,     0.28529,     0.28629,     0.28729,\n",
              "           0.28829,     0.28929,     0.29029,     0.29129,     0.29229,     0.29329,     0.29429,      0.2953,      0.2963,      0.2973,      0.2983,      0.2993,      0.3003,      0.3013,      0.3023,      0.3033,      0.3043,     0.30531,     0.30631,     0.30731,     0.30831,     0.30931,     0.31031,     0.31131,\n",
              "           0.31231,     0.31331,     0.31431,     0.31532,     0.31632,     0.31732,     0.31832,     0.31932,     0.32032,     0.32132,     0.32232,     0.32332,     0.32432,     0.32533,     0.32633,     0.32733,     0.32833,     0.32933,     0.33033,     0.33133,     0.33233,     0.33333,     0.33433,     0.33534,\n",
              "           0.33634,     0.33734,     0.33834,     0.33934,     0.34034,     0.34134,     0.34234,     0.34334,     0.34434,     0.34535,     0.34635,     0.34735,     0.34835,     0.34935,     0.35035,     0.35135,     0.35235,     0.35335,     0.35435,     0.35536,     0.35636,     0.35736,     0.35836,     0.35936,\n",
              "           0.36036,     0.36136,     0.36236,     0.36336,     0.36436,     0.36537,     0.36637,     0.36737,     0.36837,     0.36937,     0.37037,     0.37137,     0.37237,     0.37337,     0.37437,     0.37538,     0.37638,     0.37738,     0.37838,     0.37938,     0.38038,     0.38138,     0.38238,     0.38338,\n",
              "           0.38438,     0.38539,     0.38639,     0.38739,     0.38839,     0.38939,     0.39039,     0.39139,     0.39239,     0.39339,     0.39439,      0.3954,      0.3964,      0.3974,      0.3984,      0.3994,      0.4004,      0.4014,      0.4024,      0.4034,      0.4044,     0.40541,     0.40641,     0.40741,\n",
              "           0.40841,     0.40941,     0.41041,     0.41141,     0.41241,     0.41341,     0.41441,     0.41542,     0.41642,     0.41742,     0.41842,     0.41942,     0.42042,     0.42142,     0.42242,     0.42342,     0.42442,     0.42543,     0.42643,     0.42743,     0.42843,     0.42943,     0.43043,     0.43143,\n",
              "           0.43243,     0.43343,     0.43443,     0.43544,     0.43644,     0.43744,     0.43844,     0.43944,     0.44044,     0.44144,     0.44244,     0.44344,     0.44444,     0.44545,     0.44645,     0.44745,     0.44845,     0.44945,     0.45045,     0.45145,     0.45245,     0.45345,     0.45445,     0.45546,\n",
              "           0.45646,     0.45746,     0.45846,     0.45946,     0.46046,     0.46146,     0.46246,     0.46346,     0.46446,     0.46547,     0.46647,     0.46747,     0.46847,     0.46947,     0.47047,     0.47147,     0.47247,     0.47347,     0.47447,     0.47548,     0.47648,     0.47748,     0.47848,     0.47948,\n",
              "           0.48048,     0.48148,     0.48248,     0.48348,     0.48448,     0.48549,     0.48649,     0.48749,     0.48849,     0.48949,     0.49049,     0.49149,     0.49249,     0.49349,     0.49449,      0.4955,      0.4965,      0.4975,      0.4985,      0.4995,      0.5005,      0.5015,      0.5025,      0.5035,\n",
              "            0.5045,     0.50551,     0.50651,     0.50751,     0.50851,     0.50951,     0.51051,     0.51151,     0.51251,     0.51351,     0.51451,     0.51552,     0.51652,     0.51752,     0.51852,     0.51952,     0.52052,     0.52152,     0.52252,     0.52352,     0.52452,     0.52553,     0.52653,     0.52753,\n",
              "           0.52853,     0.52953,     0.53053,     0.53153,     0.53253,     0.53353,     0.53453,     0.53554,     0.53654,     0.53754,     0.53854,     0.53954,     0.54054,     0.54154,     0.54254,     0.54354,     0.54454,     0.54555,     0.54655,     0.54755,     0.54855,     0.54955,     0.55055,     0.55155,\n",
              "           0.55255,     0.55355,     0.55455,     0.55556,     0.55656,     0.55756,     0.55856,     0.55956,     0.56056,     0.56156,     0.56256,     0.56356,     0.56456,     0.56557,     0.56657,     0.56757,     0.56857,     0.56957,     0.57057,     0.57157,     0.57257,     0.57357,     0.57457,     0.57558,\n",
              "           0.57658,     0.57758,     0.57858,     0.57958,     0.58058,     0.58158,     0.58258,     0.58358,     0.58458,     0.58559,     0.58659,     0.58759,     0.58859,     0.58959,     0.59059,     0.59159,     0.59259,     0.59359,     0.59459,      0.5956,      0.5966,      0.5976,      0.5986,      0.5996,\n",
              "            0.6006,      0.6016,      0.6026,      0.6036,      0.6046,     0.60561,     0.60661,     0.60761,     0.60861,     0.60961,     0.61061,     0.61161,     0.61261,     0.61361,     0.61461,     0.61562,     0.61662,     0.61762,     0.61862,     0.61962,     0.62062,     0.62162,     0.62262,     0.62362,\n",
              "           0.62462,     0.62563,     0.62663,     0.62763,     0.62863,     0.62963,     0.63063,     0.63163,     0.63263,     0.63363,     0.63463,     0.63564,     0.63664,     0.63764,     0.63864,     0.63964,     0.64064,     0.64164,     0.64264,     0.64364,     0.64464,     0.64565,     0.64665,     0.64765,\n",
              "           0.64865,     0.64965,     0.65065,     0.65165,     0.65265,     0.65365,     0.65465,     0.65566,     0.65666,     0.65766,     0.65866,     0.65966,     0.66066,     0.66166,     0.66266,     0.66366,     0.66466,     0.66567,     0.66667,     0.66767,     0.66867,     0.66967,     0.67067,     0.67167,\n",
              "           0.67267,     0.67367,     0.67467,     0.67568,     0.67668,     0.67768,     0.67868,     0.67968,     0.68068,     0.68168,     0.68268,     0.68368,     0.68468,     0.68569,     0.68669,     0.68769,     0.68869,     0.68969,     0.69069,     0.69169,     0.69269,     0.69369,     0.69469,      0.6957,\n",
              "            0.6967,      0.6977,      0.6987,      0.6997,      0.7007,      0.7017,      0.7027,      0.7037,      0.7047,     0.70571,     0.70671,     0.70771,     0.70871,     0.70971,     0.71071,     0.71171,     0.71271,     0.71371,     0.71471,     0.71572,     0.71672,     0.71772,     0.71872,     0.71972,\n",
              "           0.72072,     0.72172,     0.72272,     0.72372,     0.72472,     0.72573,     0.72673,     0.72773,     0.72873,     0.72973,     0.73073,     0.73173,     0.73273,     0.73373,     0.73473,     0.73574,     0.73674,     0.73774,     0.73874,     0.73974,     0.74074,     0.74174,     0.74274,     0.74374,\n",
              "           0.74474,     0.74575,     0.74675,     0.74775,     0.74875,     0.74975,     0.75075,     0.75175,     0.75275,     0.75375,     0.75475,     0.75576,     0.75676,     0.75776,     0.75876,     0.75976,     0.76076,     0.76176,     0.76276,     0.76376,     0.76476,     0.76577,     0.76677,     0.76777,\n",
              "           0.76877,     0.76977,     0.77077,     0.77177,     0.77277,     0.77377,     0.77477,     0.77578,     0.77678,     0.77778,     0.77878,     0.77978,     0.78078,     0.78178,     0.78278,     0.78378,     0.78478,     0.78579,     0.78679,     0.78779,     0.78879,     0.78979,     0.79079,     0.79179,\n",
              "           0.79279,     0.79379,     0.79479,      0.7958,      0.7968,      0.7978,      0.7988,      0.7998,      0.8008,      0.8018,      0.8028,      0.8038,      0.8048,     0.80581,     0.80681,     0.80781,     0.80881,     0.80981,     0.81081,     0.81181,     0.81281,     0.81381,     0.81481,     0.81582,\n",
              "           0.81682,     0.81782,     0.81882,     0.81982,     0.82082,     0.82182,     0.82282,     0.82382,     0.82482,     0.82583,     0.82683,     0.82783,     0.82883,     0.82983,     0.83083,     0.83183,     0.83283,     0.83383,     0.83483,     0.83584,     0.83684,     0.83784,     0.83884,     0.83984,\n",
              "           0.84084,     0.84184,     0.84284,     0.84384,     0.84484,     0.84585,     0.84685,     0.84785,     0.84885,     0.84985,     0.85085,     0.85185,     0.85285,     0.85385,     0.85485,     0.85586,     0.85686,     0.85786,     0.85886,     0.85986,     0.86086,     0.86186,     0.86286,     0.86386,\n",
              "           0.86486,     0.86587,     0.86687,     0.86787,     0.86887,     0.86987,     0.87087,     0.87187,     0.87287,     0.87387,     0.87487,     0.87588,     0.87688,     0.87788,     0.87888,     0.87988,     0.88088,     0.88188,     0.88288,     0.88388,     0.88488,     0.88589,     0.88689,     0.88789,\n",
              "           0.88889,     0.88989,     0.89089,     0.89189,     0.89289,     0.89389,     0.89489,      0.8959,      0.8969,      0.8979,      0.8989,      0.8999,      0.9009,      0.9019,      0.9029,      0.9039,      0.9049,     0.90591,     0.90691,     0.90791,     0.90891,     0.90991,     0.91091,     0.91191,\n",
              "           0.91291,     0.91391,     0.91491,     0.91592,     0.91692,     0.91792,     0.91892,     0.91992,     0.92092,     0.92192,     0.92292,     0.92392,     0.92492,     0.92593,     0.92693,     0.92793,     0.92893,     0.92993,     0.93093,     0.93193,     0.93293,     0.93393,     0.93493,     0.93594,\n",
              "           0.93694,     0.93794,     0.93894,     0.93994,     0.94094,     0.94194,     0.94294,     0.94394,     0.94494,     0.94595,     0.94695,     0.94795,     0.94895,     0.94995,     0.95095,     0.95195,     0.95295,     0.95395,     0.95495,     0.95596,     0.95696,     0.95796,     0.95896,     0.95996,\n",
              "           0.96096,     0.96196,     0.96296,     0.96396,     0.96496,     0.96597,     0.96697,     0.96797,     0.96897,     0.96997,     0.97097,     0.97197,     0.97297,     0.97397,     0.97497,     0.97598,     0.97698,     0.97798,     0.97898,     0.97998,     0.98098,     0.98198,     0.98298,     0.98398,\n",
              "           0.98498,     0.98599,     0.98699,     0.98799,     0.98899,     0.98999,     0.99099,     0.99199,     0.99299,     0.99399,     0.99499,       0.996,       0.997,       0.998,       0.999,           1]), array([[   0.040045,    0.040045,    0.046664,    0.052195,    0.056877,    0.060734,    0.065137,    0.069247,    0.073998,    0.078469,    0.083308,     0.08779,    0.092284,    0.097338,     0.10417,     0.11089,     0.11747,     0.12318,     0.12953,     0.13724,     0.14278,      0.1488,      0.1541,\n",
              "            0.15876,     0.16447,     0.16937,     0.17379,     0.17708,     0.18097,     0.18414,     0.18801,     0.19075,     0.19386,     0.19368,     0.19668,     0.19816,     0.19515,     0.19306,     0.19277,     0.19433,     0.19626,     0.19762,     0.20202,     0.20587,     0.20895,     0.21168,\n",
              "            0.21347,     0.21541,      0.2185,      0.2192,     0.22026,     0.22102,     0.22138,     0.22412,     0.22476,     0.22632,     0.22915,     0.23016,     0.23173,     0.23338,     0.23389,     0.23559,     0.23744,     0.24042,      0.2413,     0.24273,     0.24489,     0.24773,     0.24859,\n",
              "            0.25062,      0.2532,      0.2548,     0.25678,     0.26298,     0.26879,     0.27366,     0.27625,     0.27838,     0.28153,     0.28815,     0.29073,     0.29368,     0.29732,     0.29902,     0.29867,     0.29971,     0.30119,     0.29991,     0.30026,     0.30254,     0.30387,     0.30457,\n",
              "            0.30509,     0.30647,      0.3083,     0.31002,     0.30921,     0.30982,      0.3107,     0.31141,     0.31115,     0.31283,     0.31461,      0.3143,     0.31768,     0.32061,     0.32602,     0.32536,     0.32569,     0.32696,     0.32928,     0.33532,     0.34038,     0.34937,     0.35869,\n",
              "            0.36332,     0.36881,      0.3735,     0.37907,     0.38721,     0.39052,     0.39791,     0.40543,     0.41831,     0.42672,      0.4332,     0.43892,     0.44469,      0.4513,     0.45518,     0.46851,     0.47635,     0.48408,     0.49164,     0.49758,     0.50235,      0.5112,     0.51559,\n",
              "            0.52599,     0.53496,     0.53928,     0.55058,     0.56215,     0.57608,     0.57843,     0.58428,     0.58672,     0.60282,     0.61214,     0.61956,     0.62465,     0.62761,     0.63702,     0.63867,     0.64371,     0.65158,     0.65412,     0.65982,     0.66325,      0.6652,     0.66852,\n",
              "            0.66965,     0.67078,     0.67027,      0.6697,      0.6703,      0.6709,      0.6715,      0.6721,     0.67262,     0.67301,      0.6734,     0.67379,     0.67418,     0.67457,     0.67496,     0.67535,     0.67757,     0.67869,     0.68106,     0.68317,     0.68421,     0.68526,     0.68711,\n",
              "             0.6887,     0.68788,     0.68777,     0.68729,     0.68895,     0.69615,     0.69845,     0.69753,     0.68891,     0.68412,     0.69222,     0.70148,     0.70891,     0.71755,     0.72363,     0.72519,     0.74262,     0.75024,     0.76919,     0.77253,     0.78164,     0.78248,     0.77996,\n",
              "            0.77346,     0.78029,     0.77298,     0.78142,     0.78238,     0.78203,     0.77388,      0.7703,     0.77016,     0.78305,     0.78347,     0.77081,     0.75158,      0.7685,     0.77524,     0.74858,      0.7537,     0.73247,     0.78234,     0.79689,     0.85388,     0.87797,     0.90087,\n",
              "            0.88882,     0.87376,     0.87182,     0.86989,     0.85864,     0.87905,      0.8628,     0.85574,      0.8524,     0.84906,     0.81183,     0.79008,     0.77709,     0.76443,     0.75178,     0.72203,     0.78917,     0.76184,     0.68958,     0.80347,     0.91736,           1,           1,\n",
              "                  1,           1,           1,           1,           1,           1,           1,           1,           1,           1,           1,           1,           1,           1,           1,           1,           1,           1,           1,           1,           1,           1,           1,\n",
              "                  1,           1,           1,           1,           1,           1,           1,           1,           1,           1,           1,           1,           1,           1,           1,           1,           1,           1,           1,           1,           1,           1,           1,\n",
              "                  1,           1,           1,           1,           1,           1,           1,           1,           1,           1,           1,           1,           1,           1,           1,           1,           1,           1,           1,           1,           1,           1,           1,\n",
              "                  1,           1,           1,           1,           1,           1,           1,           1,           1,           1,           1,           1,           1,           1,           1,           1,           1,           1,           1,           1,           1,           1,           1,\n",
              "                  1,           1,           1,           1,           1,           1,           1,           1,           1,           1,           1,           1,           1,           1,           1,           1,           1,           1,           1,           1,           1,           1,           1,\n",
              "                  1,           1,           1,           1,           1,           1,           1,           1,           1,           1,           1,           1,           1,           1,           1,           1,           1,           1,           1,           1,           1,           1,           1,\n",
              "                  1,           1,           1,           1,           1,           1,           1,           1,           1,           1,           1,           1,           1,           1,           1,           1,           1,           1,           1,           1,           1,           1,           1,\n",
              "                  1,           1,           1,           1,           1,           1,           1,           1,           1,           1,           1,           1,           1,           1,           1,           1,           1,           1,           1,           1,           1,           1,           1,\n",
              "                  1,           1,           1,           1,           1,           1,           1,           1,           1,           1,           1,           1,           1,           1,           1,           1,           1,           1,           1,           1,           1,           1,           1,\n",
              "                  1,           1,           1,           1,           1,           1,           1,           1,           1,           1,           1,           1,           1,           1,           1,           1,           1,           1,           1,           1,           1,           1,           1,\n",
              "                  1,           1,           1,           1,           1,           1,           1,           1,           1,           1,           1,           1,           1,           1,           1,           1,           1,           1,           1,           1,           1,           1,           1,\n",
              "                  1,           1,           1,           1,           1,           1,           1,           1,           1,           1,           1,           1,           1,           1,           1,           1,           1,           1,           1,           1,           1,           1,           1,\n",
              "                  1,           1,           1,           1,           1,           1,           1,           1,           1,           1,           1,           1,           1,           1,           1,           1,           1,           1,           1,           1,           1,           1,           1,\n",
              "                  1,           1,           1,           1,           1,           1,           1,           1,           1,           1,           1,           1,           1,           1,           1,           1,           1,           1,           1,           1,           1,           1,           1,\n",
              "                  1,           1,           1,           1,           1,           1,           1,           1,           1,           1,           1,           1,           1,           1,           1,           1,           1,           1,           1,           1,           1,           1,           1,\n",
              "                  1,           1,           1,           1,           1,           1,           1,           1,           1,           1,           1,           1,           1,           1,           1,           1,           1,           1,           1,           1,           1,           1,           1,\n",
              "                  1,           1,           1,           1,           1,           1,           1,           1,           1,           1,           1,           1,           1,           1,           1,           1,           1,           1,           1,           1,           1,           1,           1,\n",
              "                  1,           1,           1,           1,           1,           1,           1,           1,           1,           1,           1,           1,           1,           1,           1,           1,           1,           1,           1,           1,           1,           1,           1,\n",
              "                  1,           1,           1,           1,           1,           1,           1,           1,           1,           1,           1,           1,           1,           1,           1,           1,           1,           1,           1,           1,           1,           1,           1,\n",
              "                  1,           1,           1,           1,           1,           1,           1,           1,           1,           1,           1,           1,           1,           1,           1,           1,           1,           1,           1,           1,           1,           1,           1,\n",
              "                  1,           1,           1,           1,           1,           1,           1,           1,           1,           1,           1,           1,           1,           1,           1,           1,           1,           1,           1,           1,           1,           1,           1,\n",
              "                  1,           1,           1,           1,           1,           1,           1,           1,           1,           1,           1,           1,           1,           1,           1,           1,           1,           1,           1,           1,           1,           1,           1,\n",
              "                  1,           1,           1,           1,           1,           1,           1,           1,           1,           1,           1,           1,           1,           1,           1,           1,           1,           1,           1,           1,           1,           1,           1,\n",
              "                  1,           1,           1,           1,           1,           1,           1,           1,           1,           1,           1,           1,           1,           1,           1,           1,           1,           1,           1,           1,           1,           1,           1,\n",
              "                  1,           1,           1,           1,           1,           1,           1,           1,           1,           1,           1,           1,           1,           1,           1,           1,           1,           1,           1,           1,           1,           1,           1,\n",
              "                  1,           1,           1,           1,           1,           1,           1,           1,           1,           1,           1,           1,           1,           1,           1,           1,           1,           1,           1,           1,           1,           1,           1,\n",
              "                  1,           1,           1,           1,           1,           1,           1,           1,           1,           1,           1,           1,           1,           1,           1,           1,           1,           1,           1,           1,           1,           1,           1,\n",
              "                  1,           1,           1,           1,           1,           1,           1,           1,           1,           1,           1,           1,           1,           1,           1,           1,           1,           1,           1,           1,           1,           1,           1,\n",
              "                  1,           1,           1,           1,           1,           1,           1,           1,           1,           1,           1,           1,           1,           1,           1,           1,           1,           1,           1,           1,           1,           1,           1,\n",
              "                  1,           1,           1,           1,           1,           1,           1,           1,           1,           1,           1,           1,           1,           1,           1,           1,           1,           1,           1,           1,           1,           1,           1,\n",
              "                  1,           1,           1,           1,           1,           1,           1,           1,           1,           1,           1,           1,           1,           1,           1,           1,           1,           1,           1,           1,           1,           1,           1,\n",
              "                  1,           1,           1,           1,           1,           1,           1,           1,           1,           1,           1,           1,           1,           1,           1,           1,           1,           1,           1,           1,           1,           1,           1,\n",
              "                  1,           1,           1,           1,           1,           1,           1,           1,           1,           1,           1]]), 'Confidence', 'Precision'], [array([          0,    0.001001,    0.002002,    0.003003,    0.004004,    0.005005,    0.006006,    0.007007,    0.008008,    0.009009,     0.01001,    0.011011,    0.012012,    0.013013,    0.014014,    0.015015,    0.016016,    0.017017,    0.018018,    0.019019,     0.02002,    0.021021,    0.022022,    0.023023,\n",
              "          0.024024,    0.025025,    0.026026,    0.027027,    0.028028,    0.029029,     0.03003,    0.031031,    0.032032,    0.033033,    0.034034,    0.035035,    0.036036,    0.037037,    0.038038,    0.039039,     0.04004,    0.041041,    0.042042,    0.043043,    0.044044,    0.045045,    0.046046,    0.047047,\n",
              "          0.048048,    0.049049,     0.05005,    0.051051,    0.052052,    0.053053,    0.054054,    0.055055,    0.056056,    0.057057,    0.058058,    0.059059,     0.06006,    0.061061,    0.062062,    0.063063,    0.064064,    0.065065,    0.066066,    0.067067,    0.068068,    0.069069,     0.07007,    0.071071,\n",
              "          0.072072,    0.073073,    0.074074,    0.075075,    0.076076,    0.077077,    0.078078,    0.079079,     0.08008,    0.081081,    0.082082,    0.083083,    0.084084,    0.085085,    0.086086,    0.087087,    0.088088,    0.089089,     0.09009,    0.091091,    0.092092,    0.093093,    0.094094,    0.095095,\n",
              "          0.096096,    0.097097,    0.098098,    0.099099,      0.1001,      0.1011,      0.1021,      0.1031,      0.1041,     0.10511,     0.10611,     0.10711,     0.10811,     0.10911,     0.11011,     0.11111,     0.11211,     0.11311,     0.11411,     0.11512,     0.11612,     0.11712,     0.11812,     0.11912,\n",
              "           0.12012,     0.12112,     0.12212,     0.12312,     0.12412,     0.12513,     0.12613,     0.12713,     0.12813,     0.12913,     0.13013,     0.13113,     0.13213,     0.13313,     0.13413,     0.13514,     0.13614,     0.13714,     0.13814,     0.13914,     0.14014,     0.14114,     0.14214,     0.14314,\n",
              "           0.14414,     0.14515,     0.14615,     0.14715,     0.14815,     0.14915,     0.15015,     0.15115,     0.15215,     0.15315,     0.15415,     0.15516,     0.15616,     0.15716,     0.15816,     0.15916,     0.16016,     0.16116,     0.16216,     0.16316,     0.16416,     0.16517,     0.16617,     0.16717,\n",
              "           0.16817,     0.16917,     0.17017,     0.17117,     0.17217,     0.17317,     0.17417,     0.17518,     0.17618,     0.17718,     0.17818,     0.17918,     0.18018,     0.18118,     0.18218,     0.18318,     0.18418,     0.18519,     0.18619,     0.18719,     0.18819,     0.18919,     0.19019,     0.19119,\n",
              "           0.19219,     0.19319,     0.19419,      0.1952,      0.1962,      0.1972,      0.1982,      0.1992,      0.2002,      0.2012,      0.2022,      0.2032,      0.2042,     0.20521,     0.20621,     0.20721,     0.20821,     0.20921,     0.21021,     0.21121,     0.21221,     0.21321,     0.21421,     0.21522,\n",
              "           0.21622,     0.21722,     0.21822,     0.21922,     0.22022,     0.22122,     0.22222,     0.22322,     0.22422,     0.22523,     0.22623,     0.22723,     0.22823,     0.22923,     0.23023,     0.23123,     0.23223,     0.23323,     0.23423,     0.23524,     0.23624,     0.23724,     0.23824,     0.23924,\n",
              "           0.24024,     0.24124,     0.24224,     0.24324,     0.24424,     0.24525,     0.24625,     0.24725,     0.24825,     0.24925,     0.25025,     0.25125,     0.25225,     0.25325,     0.25425,     0.25526,     0.25626,     0.25726,     0.25826,     0.25926,     0.26026,     0.26126,     0.26226,     0.26326,\n",
              "           0.26426,     0.26527,     0.26627,     0.26727,     0.26827,     0.26927,     0.27027,     0.27127,     0.27227,     0.27327,     0.27427,     0.27528,     0.27628,     0.27728,     0.27828,     0.27928,     0.28028,     0.28128,     0.28228,     0.28328,     0.28428,     0.28529,     0.28629,     0.28729,\n",
              "           0.28829,     0.28929,     0.29029,     0.29129,     0.29229,     0.29329,     0.29429,      0.2953,      0.2963,      0.2973,      0.2983,      0.2993,      0.3003,      0.3013,      0.3023,      0.3033,      0.3043,     0.30531,     0.30631,     0.30731,     0.30831,     0.30931,     0.31031,     0.31131,\n",
              "           0.31231,     0.31331,     0.31431,     0.31532,     0.31632,     0.31732,     0.31832,     0.31932,     0.32032,     0.32132,     0.32232,     0.32332,     0.32432,     0.32533,     0.32633,     0.32733,     0.32833,     0.32933,     0.33033,     0.33133,     0.33233,     0.33333,     0.33433,     0.33534,\n",
              "           0.33634,     0.33734,     0.33834,     0.33934,     0.34034,     0.34134,     0.34234,     0.34334,     0.34434,     0.34535,     0.34635,     0.34735,     0.34835,     0.34935,     0.35035,     0.35135,     0.35235,     0.35335,     0.35435,     0.35536,     0.35636,     0.35736,     0.35836,     0.35936,\n",
              "           0.36036,     0.36136,     0.36236,     0.36336,     0.36436,     0.36537,     0.36637,     0.36737,     0.36837,     0.36937,     0.37037,     0.37137,     0.37237,     0.37337,     0.37437,     0.37538,     0.37638,     0.37738,     0.37838,     0.37938,     0.38038,     0.38138,     0.38238,     0.38338,\n",
              "           0.38438,     0.38539,     0.38639,     0.38739,     0.38839,     0.38939,     0.39039,     0.39139,     0.39239,     0.39339,     0.39439,      0.3954,      0.3964,      0.3974,      0.3984,      0.3994,      0.4004,      0.4014,      0.4024,      0.4034,      0.4044,     0.40541,     0.40641,     0.40741,\n",
              "           0.40841,     0.40941,     0.41041,     0.41141,     0.41241,     0.41341,     0.41441,     0.41542,     0.41642,     0.41742,     0.41842,     0.41942,     0.42042,     0.42142,     0.42242,     0.42342,     0.42442,     0.42543,     0.42643,     0.42743,     0.42843,     0.42943,     0.43043,     0.43143,\n",
              "           0.43243,     0.43343,     0.43443,     0.43544,     0.43644,     0.43744,     0.43844,     0.43944,     0.44044,     0.44144,     0.44244,     0.44344,     0.44444,     0.44545,     0.44645,     0.44745,     0.44845,     0.44945,     0.45045,     0.45145,     0.45245,     0.45345,     0.45445,     0.45546,\n",
              "           0.45646,     0.45746,     0.45846,     0.45946,     0.46046,     0.46146,     0.46246,     0.46346,     0.46446,     0.46547,     0.46647,     0.46747,     0.46847,     0.46947,     0.47047,     0.47147,     0.47247,     0.47347,     0.47447,     0.47548,     0.47648,     0.47748,     0.47848,     0.47948,\n",
              "           0.48048,     0.48148,     0.48248,     0.48348,     0.48448,     0.48549,     0.48649,     0.48749,     0.48849,     0.48949,     0.49049,     0.49149,     0.49249,     0.49349,     0.49449,      0.4955,      0.4965,      0.4975,      0.4985,      0.4995,      0.5005,      0.5015,      0.5025,      0.5035,\n",
              "            0.5045,     0.50551,     0.50651,     0.50751,     0.50851,     0.50951,     0.51051,     0.51151,     0.51251,     0.51351,     0.51451,     0.51552,     0.51652,     0.51752,     0.51852,     0.51952,     0.52052,     0.52152,     0.52252,     0.52352,     0.52452,     0.52553,     0.52653,     0.52753,\n",
              "           0.52853,     0.52953,     0.53053,     0.53153,     0.53253,     0.53353,     0.53453,     0.53554,     0.53654,     0.53754,     0.53854,     0.53954,     0.54054,     0.54154,     0.54254,     0.54354,     0.54454,     0.54555,     0.54655,     0.54755,     0.54855,     0.54955,     0.55055,     0.55155,\n",
              "           0.55255,     0.55355,     0.55455,     0.55556,     0.55656,     0.55756,     0.55856,     0.55956,     0.56056,     0.56156,     0.56256,     0.56356,     0.56456,     0.56557,     0.56657,     0.56757,     0.56857,     0.56957,     0.57057,     0.57157,     0.57257,     0.57357,     0.57457,     0.57558,\n",
              "           0.57658,     0.57758,     0.57858,     0.57958,     0.58058,     0.58158,     0.58258,     0.58358,     0.58458,     0.58559,     0.58659,     0.58759,     0.58859,     0.58959,     0.59059,     0.59159,     0.59259,     0.59359,     0.59459,      0.5956,      0.5966,      0.5976,      0.5986,      0.5996,\n",
              "            0.6006,      0.6016,      0.6026,      0.6036,      0.6046,     0.60561,     0.60661,     0.60761,     0.60861,     0.60961,     0.61061,     0.61161,     0.61261,     0.61361,     0.61461,     0.61562,     0.61662,     0.61762,     0.61862,     0.61962,     0.62062,     0.62162,     0.62262,     0.62362,\n",
              "           0.62462,     0.62563,     0.62663,     0.62763,     0.62863,     0.62963,     0.63063,     0.63163,     0.63263,     0.63363,     0.63463,     0.63564,     0.63664,     0.63764,     0.63864,     0.63964,     0.64064,     0.64164,     0.64264,     0.64364,     0.64464,     0.64565,     0.64665,     0.64765,\n",
              "           0.64865,     0.64965,     0.65065,     0.65165,     0.65265,     0.65365,     0.65465,     0.65566,     0.65666,     0.65766,     0.65866,     0.65966,     0.66066,     0.66166,     0.66266,     0.66366,     0.66466,     0.66567,     0.66667,     0.66767,     0.66867,     0.66967,     0.67067,     0.67167,\n",
              "           0.67267,     0.67367,     0.67467,     0.67568,     0.67668,     0.67768,     0.67868,     0.67968,     0.68068,     0.68168,     0.68268,     0.68368,     0.68468,     0.68569,     0.68669,     0.68769,     0.68869,     0.68969,     0.69069,     0.69169,     0.69269,     0.69369,     0.69469,      0.6957,\n",
              "            0.6967,      0.6977,      0.6987,      0.6997,      0.7007,      0.7017,      0.7027,      0.7037,      0.7047,     0.70571,     0.70671,     0.70771,     0.70871,     0.70971,     0.71071,     0.71171,     0.71271,     0.71371,     0.71471,     0.71572,     0.71672,     0.71772,     0.71872,     0.71972,\n",
              "           0.72072,     0.72172,     0.72272,     0.72372,     0.72472,     0.72573,     0.72673,     0.72773,     0.72873,     0.72973,     0.73073,     0.73173,     0.73273,     0.73373,     0.73473,     0.73574,     0.73674,     0.73774,     0.73874,     0.73974,     0.74074,     0.74174,     0.74274,     0.74374,\n",
              "           0.74474,     0.74575,     0.74675,     0.74775,     0.74875,     0.74975,     0.75075,     0.75175,     0.75275,     0.75375,     0.75475,     0.75576,     0.75676,     0.75776,     0.75876,     0.75976,     0.76076,     0.76176,     0.76276,     0.76376,     0.76476,     0.76577,     0.76677,     0.76777,\n",
              "           0.76877,     0.76977,     0.77077,     0.77177,     0.77277,     0.77377,     0.77477,     0.77578,     0.77678,     0.77778,     0.77878,     0.77978,     0.78078,     0.78178,     0.78278,     0.78378,     0.78478,     0.78579,     0.78679,     0.78779,     0.78879,     0.78979,     0.79079,     0.79179,\n",
              "           0.79279,     0.79379,     0.79479,      0.7958,      0.7968,      0.7978,      0.7988,      0.7998,      0.8008,      0.8018,      0.8028,      0.8038,      0.8048,     0.80581,     0.80681,     0.80781,     0.80881,     0.80981,     0.81081,     0.81181,     0.81281,     0.81381,     0.81481,     0.81582,\n",
              "           0.81682,     0.81782,     0.81882,     0.81982,     0.82082,     0.82182,     0.82282,     0.82382,     0.82482,     0.82583,     0.82683,     0.82783,     0.82883,     0.82983,     0.83083,     0.83183,     0.83283,     0.83383,     0.83483,     0.83584,     0.83684,     0.83784,     0.83884,     0.83984,\n",
              "           0.84084,     0.84184,     0.84284,     0.84384,     0.84484,     0.84585,     0.84685,     0.84785,     0.84885,     0.84985,     0.85085,     0.85185,     0.85285,     0.85385,     0.85485,     0.85586,     0.85686,     0.85786,     0.85886,     0.85986,     0.86086,     0.86186,     0.86286,     0.86386,\n",
              "           0.86486,     0.86587,     0.86687,     0.86787,     0.86887,     0.86987,     0.87087,     0.87187,     0.87287,     0.87387,     0.87487,     0.87588,     0.87688,     0.87788,     0.87888,     0.87988,     0.88088,     0.88188,     0.88288,     0.88388,     0.88488,     0.88589,     0.88689,     0.88789,\n",
              "           0.88889,     0.88989,     0.89089,     0.89189,     0.89289,     0.89389,     0.89489,      0.8959,      0.8969,      0.8979,      0.8989,      0.8999,      0.9009,      0.9019,      0.9029,      0.9039,      0.9049,     0.90591,     0.90691,     0.90791,     0.90891,     0.90991,     0.91091,     0.91191,\n",
              "           0.91291,     0.91391,     0.91491,     0.91592,     0.91692,     0.91792,     0.91892,     0.91992,     0.92092,     0.92192,     0.92292,     0.92392,     0.92492,     0.92593,     0.92693,     0.92793,     0.92893,     0.92993,     0.93093,     0.93193,     0.93293,     0.93393,     0.93493,     0.93594,\n",
              "           0.93694,     0.93794,     0.93894,     0.93994,     0.94094,     0.94194,     0.94294,     0.94394,     0.94494,     0.94595,     0.94695,     0.94795,     0.94895,     0.94995,     0.95095,     0.95195,     0.95295,     0.95395,     0.95495,     0.95596,     0.95696,     0.95796,     0.95896,     0.95996,\n",
              "           0.96096,     0.96196,     0.96296,     0.96396,     0.96496,     0.96597,     0.96697,     0.96797,     0.96897,     0.96997,     0.97097,     0.97197,     0.97297,     0.97397,     0.97497,     0.97598,     0.97698,     0.97798,     0.97898,     0.97998,     0.98098,     0.98198,     0.98298,     0.98398,\n",
              "           0.98498,     0.98599,     0.98699,     0.98799,     0.98899,     0.98999,     0.99099,     0.99199,     0.99299,     0.99399,     0.99499,       0.996,       0.997,       0.998,       0.999,           1]), array([[          1,           1,           1,           1,     0.99296,     0.98239,     0.97887,     0.97535,     0.97183,     0.97183,     0.96831,     0.96831,     0.96831,     0.96831,     0.96831,     0.96831,     0.96831,     0.96831,     0.96831,     0.96831,     0.96127,     0.96127,     0.95775,\n",
              "            0.94366,     0.94366,     0.94366,     0.93662,     0.92958,     0.91549,     0.91197,     0.90845,     0.89789,     0.89789,     0.87676,     0.87324,     0.87324,     0.84507,     0.82394,     0.80634,     0.80282,      0.7993,     0.79577,     0.79577,     0.79577,     0.79577,     0.79577,\n",
              "            0.79577,     0.79577,     0.79577,     0.79225,     0.78873,     0.78873,     0.78489,     0.78169,     0.77817,     0.77817,     0.77817,     0.77465,     0.77465,     0.77465,     0.77113,     0.77113,     0.77113,     0.77113,     0.77113,     0.77113,     0.77113,     0.77113,     0.76761,\n",
              "            0.76761,     0.76761,     0.76408,     0.76408,     0.76056,     0.76056,     0.75704,     0.75704,     0.74648,     0.73944,     0.73944,     0.72887,     0.72887,     0.72535,     0.72096,     0.71479,     0.71127,     0.71026,     0.70423,     0.70423,     0.70423,     0.70423,     0.70423,\n",
              "            0.70423,     0.70423,     0.70423,     0.70423,      0.7007,      0.7007,      0.7007,      0.7007,     0.69718,     0.69718,     0.69663,     0.69366,     0.69366,     0.69014,     0.69014,     0.67925,     0.67254,     0.66901,     0.66549,     0.66549,     0.65845,     0.65845,     0.65845,\n",
              "            0.64901,     0.64437,     0.64085,     0.64085,     0.63732,     0.63732,      0.6338,     0.62676,     0.62038,     0.61972,      0.6162,     0.60211,     0.59859,     0.59859,     0.59155,     0.58974,     0.58099,     0.57746,     0.57394,     0.57394,     0.57042,      0.5669,      0.5669,\n",
              "            0.56338,     0.56338,     0.55634,     0.55282,     0.55282,      0.5493,      0.5493,      0.5493,      0.5493,      0.5493,      0.5493,      0.5493,      0.5493,      0.5493,      0.5493,      0.5493,     0.54577,     0.54577,     0.54577,     0.54577,     0.54577,     0.54577,     0.54577,\n",
              "            0.54577,     0.54577,     0.54398,     0.54225,     0.54225,     0.54225,     0.54225,     0.54225,     0.54225,     0.54225,     0.54225,     0.54225,     0.54225,     0.54225,     0.54225,     0.54225,     0.54225,     0.53873,     0.53873,     0.53873,     0.53873,     0.53873,     0.53873,\n",
              "            0.53752,     0.53545,     0.53169,     0.52625,     0.52465,     0.51631,      0.5138,     0.51158,     0.49124,     0.47183,     0.47183,     0.46335,     0.45423,     0.45423,     0.44254,     0.42958,     0.42254,     0.40141,     0.39899,     0.38267,     0.37812,     0.36732,     0.34948,\n",
              "             0.3246,     0.31263,     0.28774,     0.27695,     0.26056,     0.25267,     0.24103,     0.22887,     0.21239,     0.20335,     0.19112,     0.17765,     0.15981,     0.15845,     0.15845,     0.13631,     0.12932,     0.11268,     0.11268,     0.11268,     0.10915,     0.10135,    0.096019,\n",
              "           0.084453,    0.073141,    0.071885,     0.07063,    0.064192,    0.051234,    0.044345,    0.041804,    0.040735,    0.039665,     0.03046,    0.026598,     0.02456,    0.022956,    0.021352,    0.018369,    0.013322,    0.011397,   0.0070423,   0.0070423,   0.0070423,   0.0069222,   0.0064847,\n",
              "          0.0060472,   0.0056097,   0.0051723,   0.0047348,   0.0042973,   0.0038598,           0,           0,           0,           0,           0,           0,           0,           0,           0,           0,           0,           0,           0,           0,           0,           0,           0,\n",
              "                  0,           0,           0,           0,           0,           0,           0,           0,           0,           0,           0,           0,           0,           0,           0,           0,           0,           0,           0,           0,           0,           0,           0,\n",
              "                  0,           0,           0,           0,           0,           0,           0,           0,           0,           0,           0,           0,           0,           0,           0,           0,           0,           0,           0,           0,           0,           0,           0,\n",
              "                  0,           0,           0,           0,           0,           0,           0,           0,           0,           0,           0,           0,           0,           0,           0,           0,           0,           0,           0,           0,           0,           0,           0,\n",
              "                  0,           0,           0,           0,           0,           0,           0,           0,           0,           0,           0,           0,           0,           0,           0,           0,           0,           0,           0,           0,           0,           0,           0,\n",
              "                  0,           0,           0,           0,           0,           0,           0,           0,           0,           0,           0,           0,           0,           0,           0,           0,           0,           0,           0,           0,           0,           0,           0,\n",
              "                  0,           0,           0,           0,           0,           0,           0,           0,           0,           0,           0,           0,           0,           0,           0,           0,           0,           0,           0,           0,           0,           0,           0,\n",
              "                  0,           0,           0,           0,           0,           0,           0,           0,           0,           0,           0,           0,           0,           0,           0,           0,           0,           0,           0,           0,           0,           0,           0,\n",
              "                  0,           0,           0,           0,           0,           0,           0,           0,           0,           0,           0,           0,           0,           0,           0,           0,           0,           0,           0,           0,           0,           0,           0,\n",
              "                  0,           0,           0,           0,           0,           0,           0,           0,           0,           0,           0,           0,           0,           0,           0,           0,           0,           0,           0,           0,           0,           0,           0,\n",
              "                  0,           0,           0,           0,           0,           0,           0,           0,           0,           0,           0,           0,           0,           0,           0,           0,           0,           0,           0,           0,           0,           0,           0,\n",
              "                  0,           0,           0,           0,           0,           0,           0,           0,           0,           0,           0,           0,           0,           0,           0,           0,           0,           0,           0,           0,           0,           0,           0,\n",
              "                  0,           0,           0,           0,           0,           0,           0,           0,           0,           0,           0,           0,           0,           0,           0,           0,           0,           0,           0,           0,           0,           0,           0,\n",
              "                  0,           0,           0,           0,           0,           0,           0,           0,           0,           0,           0,           0,           0,           0,           0,           0,           0,           0,           0,           0,           0,           0,           0,\n",
              "                  0,           0,           0,           0,           0,           0,           0,           0,           0,           0,           0,           0,           0,           0,           0,           0,           0,           0,           0,           0,           0,           0,           0,\n",
              "                  0,           0,           0,           0,           0,           0,           0,           0,           0,           0,           0,           0,           0,           0,           0,           0,           0,           0,           0,           0,           0,           0,           0,\n",
              "                  0,           0,           0,           0,           0,           0,           0,           0,           0,           0,           0,           0,           0,           0,           0,           0,           0,           0,           0,           0,           0,           0,           0,\n",
              "                  0,           0,           0,           0,           0,           0,           0,           0,           0,           0,           0,           0,           0,           0,           0,           0,           0,           0,           0,           0,           0,           0,           0,\n",
              "                  0,           0,           0,           0,           0,           0,           0,           0,           0,           0,           0,           0,           0,           0,           0,           0,           0,           0,           0,           0,           0,           0,           0,\n",
              "                  0,           0,           0,           0,           0,           0,           0,           0,           0,           0,           0,           0,           0,           0,           0,           0,           0,           0,           0,           0,           0,           0,           0,\n",
              "                  0,           0,           0,           0,           0,           0,           0,           0,           0,           0,           0,           0,           0,           0,           0,           0,           0,           0,           0,           0,           0,           0,           0,\n",
              "                  0,           0,           0,           0,           0,           0,           0,           0,           0,           0,           0,           0,           0,           0,           0,           0,           0,           0,           0,           0,           0,           0,           0,\n",
              "                  0,           0,           0,           0,           0,           0,           0,           0,           0,           0,           0,           0,           0,           0,           0,           0,           0,           0,           0,           0,           0,           0,           0,\n",
              "                  0,           0,           0,           0,           0,           0,           0,           0,           0,           0,           0,           0,           0,           0,           0,           0,           0,           0,           0,           0,           0,           0,           0,\n",
              "                  0,           0,           0,           0,           0,           0,           0,           0,           0,           0,           0,           0,           0,           0,           0,           0,           0,           0,           0,           0,           0,           0,           0,\n",
              "                  0,           0,           0,           0,           0,           0,           0,           0,           0,           0,           0,           0,           0,           0,           0,           0,           0,           0,           0,           0,           0,           0,           0,\n",
              "                  0,           0,           0,           0,           0,           0,           0,           0,           0,           0,           0,           0,           0,           0,           0,           0,           0,           0,           0,           0,           0,           0,           0,\n",
              "                  0,           0,           0,           0,           0,           0,           0,           0,           0,           0,           0,           0,           0,           0,           0,           0,           0,           0,           0,           0,           0,           0,           0,\n",
              "                  0,           0,           0,           0,           0,           0,           0,           0,           0,           0,           0,           0,           0,           0,           0,           0,           0,           0,           0,           0,           0,           0,           0,\n",
              "                  0,           0,           0,           0,           0,           0,           0,           0,           0,           0,           0,           0,           0,           0,           0,           0,           0,           0,           0,           0,           0,           0,           0,\n",
              "                  0,           0,           0,           0,           0,           0,           0,           0,           0,           0,           0,           0,           0,           0,           0,           0,           0,           0,           0,           0,           0,           0,           0,\n",
              "                  0,           0,           0,           0,           0,           0,           0,           0,           0,           0,           0,           0,           0,           0,           0,           0,           0,           0,           0,           0,           0,           0,           0,\n",
              "                  0,           0,           0,           0,           0,           0,           0,           0,           0,           0,           0]]), 'Confidence', 'Recall']]\n",
              "fitness: np.float64(0.28928933484620045)\n",
              "keys: ['metrics/precision(B)', 'metrics/recall(B)', 'metrics/mAP50(B)', 'metrics/mAP50-95(B)']\n",
              "maps: array([    0.25973])\n",
              "names: {0: 'Problem'}\n",
              "plot: True\n",
              "results_dict: {'metrics/precision(B)': np.float64(0.6632535228942795), 'metrics/recall(B)': np.float64(0.545774647887324), 'metrics/mAP50(B)': np.float64(0.5553579733672546), 'metrics/mAP50-95(B)': np.float64(0.2597261527883055), 'fitness': np.float64(0.28928933484620045)}\n",
              "save_dir: PosixPath('runs/detect/number_detector_v83')\n",
              "speed: {'preprocess': 0.8287917455977309, 'inference': 17.037879956142046, 'loss': 0.02136768420824777, 'postprocess': 9.339712842104252}\n",
              "task: 'detect'"
            ]
          },
          "metadata": {},
          "execution_count": 18
        }
      ]
    },
    {
      "cell_type": "code",
      "source": [
        "from ultralytics import YOLO\n",
        "import cv2\n",
        "import os\n",
        "import glob\n",
        "from google.colab import files\n",
        "import matplotlib.pyplot as plt\n",
        "\n",
        "# 1. 자동 경로 탐색\n",
        "folders = glob.glob('/content/runs/detect/number_detector_v8*')\n",
        "latest_best = None\n",
        "\n",
        "if folders:\n",
        "    latest_folder = max(folders, key=os.path.getmtime)\n",
        "    best_path = os.path.join(latest_folder, 'weights', 'best.pt')\n",
        "\n",
        "    if os.path.exists(best_path):\n",
        "        print(f\"best.pt 자동 경로 발견됨: {best_path}\")\n",
        "        model_path = best_path\n",
        "    else:\n",
        "        print(\"best.pt 파일이 자동 경로에 없습니다. 업로드로 대체합니다.\")\n",
        "        latest_folder = None\n",
        "else:\n",
        "    print(\"number_detector_v8 경로 없음. 업로드로 대체합니다.\")\n",
        "\n",
        "# 2. 업로드 대체 루트\n",
        "if not folders or not os.path.exists(best_path):\n",
        "    uploaded = files.upload()\n",
        "    uploaded_filename = list(uploaded.keys())[0]\n",
        "    model_path = f\"/content/{uploaded_filename}\"\n",
        "\n",
        "# 3. 모델 로딩\n",
        "model = YOLO(model_path)\n",
        "\n",
        "# 이미지 선택\n",
        "val_dir = '/content/images/val'\n",
        "val_imgs = sorted(os.listdir(val_dir))\n",
        "img_path = os.path.join(val_dir, val_imgs[1])  # 6번째 이미지 선택\n",
        "\n",
        "# 추론 실행\n",
        "results = model.predict(img_path, imgsz=1024, save=False, conf=0.1)\n",
        "image = cv2.imread(img_path)\n",
        "h, w = results[0].orig_shape[:2]\n",
        "\n",
        "# 결과 경로 생성\n",
        "output_dir = '/content/roi_outputs'\n",
        "os.makedirs(output_dir, exist_ok=True)\n",
        "\n",
        "# 박스 좌표 추출 및 저장\n",
        "boxes = results[0].boxes.xyxy.cpu().numpy()  # (x1, y1, x2, y2)\n",
        "confs = results[0].boxes.conf.cpu().numpy()\n",
        "\n",
        "for i, (box, conf) in enumerate(zip(boxes, confs)):\n",
        "    x1, y1, x2, y2 = map(int, box)\n",
        "\n",
        "    if x1 < 0 or y1 < 0 or x2 > w or y2 > h:\n",
        "        print(f\"잘못된 ROI: x1={x1}, y1={y1}, x2={x2}, y2={y2}\")\n",
        "        continue\n",
        "\n",
        "    roi = image[y1:y2, x1:x2]\n",
        "    roi_filename = f'roi_{i}.jpg'\n",
        "    cv2.imwrite(os.path.join(output_dir, roi_filename), roi)\n",
        "\n",
        "print(f\"ROI 저장 완료: 총 {len(boxes)}개\")\n",
        "\n",
        "# 시각화용 박스 그리기\n",
        "image_drawn = image.copy()\n",
        "for box, conf in zip(boxes, confs):\n",
        "    x1, y1, x2, y2 = map(int, box)\n",
        "    cv2.rectangle(image_drawn, (x1, y1), (x2, y2), (255, 0, 0), 2)\n",
        "    cv2.putText(image_drawn, f'{conf:.2f}', (x1, y1 - 10),\n",
        "                cv2.FONT_HERSHEY_SIMPLEX, 0.6, (0, 0, 255), 2)\n",
        "\n",
        "# 결과 출력\n",
        "plt.figure(figsize=(10, 10))\n",
        "plt.imshow(cv2.cvtColor(image_drawn, cv2.COLOR_BGR2RGB))\n",
        "plt.title(\"추론 결과\")\n",
        "plt.axis('off')\n",
        "plt.show()\n"
      ],
      "metadata": {
        "colab": {
          "base_uri": "https://localhost:8080/",
          "height": 916
        },
        "id": "upzdWC0oh8vs",
        "outputId": "00217352-7281-4f0c-ce38-7e98467d40ec"
      },
      "execution_count": null,
      "outputs": [
        {
          "output_type": "stream",
          "name": "stdout",
          "text": [
            "best.pt 자동 경로 발견됨: /content/runs/detect/number_detector_v83/weights/best.pt\n",
            "\n",
            "image 1/1 /content/images/val/image_val_1.jpg: 1024x736 5 Problems, 60.2ms\n",
            "Speed: 5.3ms preprocess, 60.2ms inference, 1.4ms postprocess per image at shape (1, 3, 1024, 736)\n",
            "ROI 저장 완료: 총 5개\n"
          ]
        },
        {
          "output_type": "display_data",
          "data": {
            "text/plain": [
              "<Figure size 1000x1000 with 1 Axes>"
            ],
            "image/png": "[encoded data removed]"
          },
          "metadata": {}
        }
      ]
    }
  ],
  "metadata": {
    "colab": {
      "provenance": [],
      "gpuType": "T4",
      "include_colab_link": true
    },
    "kernelspec": {
      "display_name": "Python 3",
      "name": "python3"
    },
    "accelerator": "GPU"
  },
  "nbformat": 4,
  "nbformat_minor": 0
}